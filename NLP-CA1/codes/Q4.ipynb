{
  "cells": [
    {
      "cell_type": "code",
      "execution_count": null,
      "metadata": {
        "id": "o7VelLEw17ka"
      },
      "outputs": [],
      "source": [
        "import nltk\n",
        "import numpy as np\n",
        "import pandas as pd\n",
        "from nltk import ngrams\n",
        "from nltk.probability import FreqDist\n",
        "from sklearn.metrics import accuracy_score\n",
        "from sklearn.model_selection import train_test_split\n",
        "\n",
        "nltk.download('punkt')"
      ]
    },
    {
      "cell_type": "code",
      "execution_count": null,
      "metadata": {
        "id": "2ROsWwTCGyRC"
      },
      "outputs": [],
      "source": [
        "# Step 1: Load the data\n",
        "data = pd.read_csv('google_play_store_apps_reviews.csv')\n",
        "\n",
        "# Step 2: Split the data\n",
        "train_data, test_data = train_test_split(data, test_size = 0.2, random_state = 42)"
      ]
    },
    {
      "cell_type": "code",
      "execution_count": 5,
      "metadata": {
        "id": "LCLxiqPwvdoc"
      },
      "outputs": [],
      "source": [
        "# Step 3: Build the n-gram Language Model\n",
        "def get_ngrams(text, n):\n",
        "    tokens = nltk.word_tokenize(text)\n",
        "    return list(ngrams(tokens, n))\n",
        "\n",
        "def train_ngram(data, n):\n",
        "    positive_ngrams = []\n",
        "    negative_ngrams = []\n",
        "\n",
        "    for index, row in data.iterrows():\n",
        "        grams = get_ngrams(row['review'], n)\n",
        "        if row['polarity'] == 1:\n",
        "            positive_ngrams.extend(grams)\n",
        "        elif row['polarity'] == 0:\n",
        "            negative_ngrams.extend(grams)\n",
        "\n",
        "    positive_freq = FreqDist(positive_ngrams)\n",
        "    negative_freq = FreqDist(negative_ngrams)\n",
        "\n",
        "    return positive_freq, negative_freq\n",
        "\n",
        "# Step 4: Train the Model\n",
        "n = 2  # Change to the desired n-gram size\n",
        "positive_freq, negative_freq = train_ngram(train_data, n)"
      ]
    },
    {
      "cell_type": "code",
      "execution_count": null,
      "metadata": {
        "id": "eOWfIRYpwJjD"
      },
      "outputs": [],
      "source": [
        "# Step 5: test the n-gram\n",
        "def test_ngram(data, positive_freq, negative_freq, n):\n",
        "  pred_labels = []\n",
        "\n",
        "  # Implement testing n-gram language model process here.\n",
        "\n",
        "  return pred_labels"
      ]
    },
    {
      "cell_type": "code",
      "execution_count": null,
      "metadata": {},
      "outputs": [],
      "source": [
        "# Step 6: Evaluate the model on the test set\n",
        "\n",
        "# Implement the evaluation process here."
      ]
    },
    {
      "cell_type": "code",
      "execution_count": null,
      "metadata": {},
      "outputs": [],
      "source": [
        "import re\n",
        "\n",
        "def custom_tokenizer(text):\n",
        "    pattern = r'\\b\\w+\\b'\n",
        "\n",
        "    tokens = re.findall(pattern, text)\n",
        "\n",
        "    return tokens"
      ]
    }
  ],
  "metadata": {
    "colab": {
      "provenance": []
    },
    "kernelspec": {
      "display_name": "Python 3",
      "name": "python3"
    },
    "language_info": {
      "name": "python"
    }
  },
  "nbformat": 4,
  "nbformat_minor": 0
}
