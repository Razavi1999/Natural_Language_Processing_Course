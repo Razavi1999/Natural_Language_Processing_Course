{
  "cells": [
    {
      "cell_type": "code",
      "execution_count": null,
      "metadata": {
        "id": "o7VelLEw17ka"
      },
      "outputs": [],
      "source": [
        "import nltk\n",
        "import numpy as np\n",
        "import pandas as pd\n",
        "from nltk import ngrams\n",
        "from nltk.probability import FreqDist\n",
        "from sklearn.metrics import accuracy_score\n",
        "from sklearn.model_selection import train_test_split\n",
        "\n",
        "nltk.download('popular')"
      ]
    },
    {
      "cell_type": "code",
      "source": [
        "from google.colab import drive\n",
        "drive.mount('/content/drive')"
      ],
      "metadata": {
        "colab": {
          "base_uri": "https://localhost:8080/"
        },
        "id": "oV64LlrHJ3Do",
        "outputId": "9712efb4-214d-44ad-ec92-848aba9248e0"
      },
      "execution_count": 2,
      "outputs": [
        {
          "output_type": "stream",
          "name": "stdout",
          "text": [
            "Mounted at /content/drive\n"
          ]
        }
      ]
    },
    {
      "cell_type": "code",
      "execution_count": 4,
      "metadata": {
        "id": "2ROsWwTCGyRC"
      },
      "outputs": [],
      "source": [
        "# Step 1: Load the data\n",
        "data = pd.read_csv('/content/drive/MyDrive/NLP_CA1/google_play_store_apps_reviews.csv')\n",
        "\n",
        "# Step 2: Split the data\n",
        "train_data, test_data = train_test_split(data, test_size = 0.2, random_state = 42)"
      ]
    },
    {
      "cell_type": "code",
      "execution_count": 20,
      "metadata": {
        "id": "LCLxiqPwvdoc",
        "colab": {
          "base_uri": "https://localhost:8080/"
        },
        "outputId": "359e2912-5cf4-46f7-a0a3-6c9025191673"
      },
      "outputs": [
        {
          "output_type": "stream",
          "name": "stdout",
          "text": [
            "n :  5\n",
            "Precision: 0.5714285714285714\n",
            "Recall: 0.07547169811320754\n",
            "F1 Score: 0.13333333333333333\n"
          ]
        }
      ],
      "source": [
        "# Step 3: Build the n-gram Language Model\n",
        "def get_ngrams(text, n):\n",
        "    tokens = nltk.word_tokenize(text)\n",
        "    return list(ngrams(tokens, n))\n",
        "\n",
        "def train_ngram(data, n):\n",
        "    positive_ngrams = []\n",
        "    negative_ngrams = []\n",
        "\n",
        "    for index, row in data.iterrows():\n",
        "        grams = get_ngrams(row['review'], n)\n",
        "        if row['polarity'] == 1:\n",
        "            positive_ngrams.extend(grams)\n",
        "        elif row['polarity'] == 0:\n",
        "            negative_ngrams.extend(grams)\n",
        "\n",
        "    positive_freq = FreqDist(positive_ngrams)\n",
        "    negative_freq = FreqDist(negative_ngrams)\n",
        "\n",
        "    return positive_freq, negative_freq\n",
        "\n",
        "# Step 4: Train the Model\n",
        "n = 5  # Change to the desired n-gram size\n",
        "positive_freq, negative_freq = train_ngram(train_data ,  n)\n",
        "\n",
        "precision, recall, f1_score = test_ngram(test_data, positive_freq, negative_freq, n)\n",
        "\n",
        "print(\"n : \" , n)\n",
        "print(\"Precision:\", precision)\n",
        "print(\"Recall:\", recall)\n",
        "print(\"F1 Score:\", f1_score)\n",
        "\n",
        "# positive_freq, negative_freq"
      ]
    },
    {
      "cell_type": "code",
      "source": [
        "from nltk.util import ngrams\n",
        "from nltk import FreqDist\n",
        "import nltk\n",
        "\n",
        "def test_ngram(test_data, positive_freq, negative_freq, n):\n",
        "    true_positives = 0\n",
        "    false_positives = 0\n",
        "    true_negatives = 0\n",
        "    false_negatives = 0\n",
        "\n",
        "    for index, row in test_data.iterrows():\n",
        "        grams = get_ngrams(row['review'], n)\n",
        "        pos_score = sum([positive_freq.get(gram, 0) for gram in grams])\n",
        "        neg_score = sum([negative_freq.get(gram, 0) for gram in grams])\n",
        "\n",
        "        if pos_score > neg_score:\n",
        "            predicted_polarity = 1\n",
        "        else:\n",
        "            predicted_polarity = 0\n",
        "\n",
        "        if row['polarity'] == 1 and predicted_polarity == 1:\n",
        "            true_positives += 1\n",
        "        elif row['polarity'] == 0 and predicted_polarity == 1:\n",
        "            false_positives += 1\n",
        "        elif row['polarity'] == 1 and predicted_polarity == 0:\n",
        "            false_negatives += 1\n",
        "        elif row['polarity'] == 0 and predicted_polarity == 0:\n",
        "            true_negatives += 1\n",
        "\n",
        "    precision = true_positives / (true_positives + false_positives)\n",
        "    recall = true_positives / (true_positives + false_negatives)\n",
        "    f1_score = 2 * (precision * recall) / (precision + recall)\n",
        "\n",
        "    print(\"n : \" , n)\n",
        "    print(\"Precision:\", precision)\n",
        "    print(\"Recall:\", recall)\n",
        "    print(\"F1 Score:\", f1_score)\n",
        "\n",
        "    return precision, recall, f1_score\n",
        "\n",
        "# Test the n-gram model on test data\n",
        "n = 6  # Change to the desired n-gram size\n",
        "precision, recall, f1_score = test_ngram(test_data, positive_freq, negative_freq, n)\n",
        "\n",
        "print(\"n : \" , n)\n",
        "print(\"Precision:\", precision)\n",
        "print(\"Recall:\", recall)\n",
        "print(\"F1 Score:\", f1_score)"
      ],
      "metadata": {
        "colab": {
          "base_uri": "https://localhost:8080/"
        },
        "id": "uGtvRWV2Lc8G",
        "outputId": "6ff1e477-e8a8-4529-92d1-cba88fe66f6a"
      },
      "execution_count": 10,
      "outputs": [
        {
          "output_type": "stream",
          "name": "stdout",
          "text": [
            "n :  5\n",
            "Precision: 0.5714285714285714\n",
            "Recall: 0.07547169811320754\n",
            "F1 Score: 0.13333333333333333\n"
          ]
        }
      ]
    }
  ],
  "metadata": {
    "colab": {
      "provenance": []
    },
    "kernelspec": {
      "display_name": "Python 3",
      "name": "python3"
    },
    "language_info": {
      "name": "python"
    }
  },
  "nbformat": 4,
  "nbformat_minor": 0
}