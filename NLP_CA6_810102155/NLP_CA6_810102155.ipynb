{
  "cells": [
    {
      "cell_type": "markdown",
      "metadata": {
        "id": "JtJrMDDMPBgX"
      },
      "source": [
        "## Initial Setups"
      ]
    },
    {
      "cell_type": "code",
      "execution_count": null,
      "metadata": {
        "colab": {
          "base_uri": "https://localhost:8080/"
        },
        "id": "TJ6ZLb8hPLrH",
        "outputId": "857e90ac-0629-450a-9bba-96233b53a91b"
      },
      "outputs": [
        {
          "name": "stdout",
          "output_type": "stream",
          "text": [
            "\u001b[2K     \u001b[90m━━━━━━━━━━━━━━━━━━━━━━━━━━━━━━━━━━━━━━━━\u001b[0m \u001b[32m983.6/983.6 kB\u001b[0m \u001b[31m9.8 MB/s\u001b[0m eta \u001b[36m0:00:00\u001b[0m\n",
            "\u001b[2K     \u001b[90m━━━━━━━━━━━━━━━━━━━━━━━━━━━━━━━━━━━━━━━━\u001b[0m \u001b[32m2.2/2.2 MB\u001b[0m \u001b[31m22.6 MB/s\u001b[0m eta \u001b[36m0:00:00\u001b[0m\n",
            "\u001b[2K     \u001b[90m━━━━━━━━━━━━━━━━━━━━━━━━━━━━━━━━━━━━━━━━\u001b[0m \u001b[32m357.9/357.9 kB\u001b[0m \u001b[31m23.9 MB/s\u001b[0m eta \u001b[36m0:00:00\u001b[0m\n",
            "\u001b[2K     \u001b[90m━━━━━━━━━━━━━━━━━━━━━━━━━━━━━━━━━━━━━━━━\u001b[0m \u001b[32m27.0/27.0 MB\u001b[0m \u001b[31m44.7 MB/s\u001b[0m eta \u001b[36m0:00:00\u001b[0m\n",
            "\u001b[2K     \u001b[90m━━━━━━━━━━━━━━━━━━━━━━━━━━━━━━━━━━━━━━━━\u001b[0m \u001b[32m85.5/85.5 MB\u001b[0m \u001b[31m9.2 MB/s\u001b[0m eta \u001b[36m0:00:00\u001b[0m\n",
            "\u001b[2K     \u001b[90m━━━━━━━━━━━━━━━━━━━━━━━━━━━━━━━━━━━━━━━━\u001b[0m \u001b[32m91.6/91.6 kB\u001b[0m \u001b[31m11.0 MB/s\u001b[0m eta \u001b[36m0:00:00\u001b[0m\n",
            "\u001b[2K     \u001b[90m━━━━━━━━━━━━━━━━━━━━━━━━━━━━━━━━━━━━━━━━\u001b[0m \u001b[32m227.1/227.1 kB\u001b[0m \u001b[31m24.5 MB/s\u001b[0m eta \u001b[36m0:00:00\u001b[0m\n",
            "\u001b[2K     \u001b[90m━━━━━━━━━━━━━━━━━━━━━━━━━━━━━━━━━━━━━━━━\u001b[0m \u001b[32m12.3/12.3 MB\u001b[0m \u001b[31m80.3 MB/s\u001b[0m eta \u001b[36m0:00:00\u001b[0m\n",
            "\u001b[2K     \u001b[90m━━━━━━━━━━━━━━━━━━━━━━━━━━━━━━━━━━━━━━━━\u001b[0m \u001b[32m127.9/127.9 kB\u001b[0m \u001b[31m15.7 MB/s\u001b[0m eta \u001b[36m0:00:00\u001b[0m\n",
            "\u001b[2K     \u001b[90m━━━━━━━━━━━━━━━━━━━━━━━━━━━━━━━━━━━━━━━━\u001b[0m \u001b[32m46.1/46.1 kB\u001b[0m \u001b[31m5.7 MB/s\u001b[0m eta \u001b[36m0:00:00\u001b[0m\n",
            "\u001b[2K     \u001b[90m━━━━━━━━━━━━━━━━━━━━━━━━━━━━━━━━━━━━━━━━\u001b[0m \u001b[32m92.0/92.0 kB\u001b[0m \u001b[31m11.8 MB/s\u001b[0m eta \u001b[36m0:00:00\u001b[0m\n",
            "\u001b[?25h  Preparing metadata (setup.py) ... \u001b[?25l\u001b[?25hdone\n",
            "\u001b[2K     \u001b[90m━━━━━━━━━━━━━━━━━━━━━━━━━━━━━━━━━━━━━━━━\u001b[0m \u001b[32m318.2/318.2 kB\u001b[0m \u001b[31m30.7 MB/s\u001b[0m eta \u001b[36m0:00:00\u001b[0m\n",
            "\u001b[2K     \u001b[90m━━━━━━━━━━━━━━━━━━━━━━━━━━━━━━━━━━━━━━━━\u001b[0m \u001b[32m75.6/75.6 kB\u001b[0m \u001b[31m9.5 MB/s\u001b[0m eta \u001b[36m0:00:00\u001b[0m\n",
            "\u001b[2K     \u001b[90m━━━━━━━━━━━━━━━━━━━━━━━━━━━━━━━━━━━━━━━━\u001b[0m \u001b[32m141.1/141.1 kB\u001b[0m \u001b[31m14.2 MB/s\u001b[0m eta \u001b[36m0:00:00\u001b[0m\n",
            "\u001b[2K     \u001b[90m━━━━━━━━━━━━━━━━━━━━━━━━━━━━━━━━━━━━━━━━\u001b[0m \u001b[32m10.1/10.1 MB\u001b[0m \u001b[31m93.7 MB/s\u001b[0m eta \u001b[36m0:00:00\u001b[0m\n",
            "\u001b[2K     \u001b[90m━━━━━━━━━━━━━━━━━━━━━━━━━━━━━━━━━━━━━━━━\u001b[0m \u001b[32m62.4/62.4 kB\u001b[0m \u001b[31m7.4 MB/s\u001b[0m eta \u001b[36m0:00:00\u001b[0m\n",
            "\u001b[2K     \u001b[90m━━━━━━━━━━━━━━━━━━━━━━━━━━━━━━━━━━━━━━━━\u001b[0m \u001b[32m129.9/129.9 kB\u001b[0m \u001b[31m15.3 MB/s\u001b[0m eta \u001b[36m0:00:00\u001b[0m\n",
            "\u001b[2K     \u001b[90m━━━━━━━━━━━━━━━━━━━━━━━━━━━━━━━━━━━━━━━━\u001b[0m \u001b[32m49.2/49.2 kB\u001b[0m \u001b[31m6.5 MB/s\u001b[0m eta \u001b[36m0:00:00\u001b[0m\n",
            "\u001b[2K     \u001b[90m━━━━━━━━━━━━━━━━━━━━━━━━━━━━━━━━━━━━━━━━\u001b[0m \u001b[32m77.9/77.9 kB\u001b[0m \u001b[31m9.6 MB/s\u001b[0m eta \u001b[36m0:00:00\u001b[0m\n",
            "\u001b[2K     \u001b[90m━━━━━━━━━━━━━━━━━━━━━━━━━━━━━━━━━━━━━━━━\u001b[0m \u001b[32m58.3/58.3 kB\u001b[0m \u001b[31m7.3 MB/s\u001b[0m eta \u001b[36m0:00:00\u001b[0m\n",
            "\u001b[2K     \u001b[90m━━━━━━━━━━━━━━━━━━━━━━━━━━━━━━━━━━━━━━━━\u001b[0m \u001b[32m328.5/328.5 kB\u001b[0m \u001b[31m30.2 MB/s\u001b[0m eta \u001b[36m0:00:00\u001b[0m\n",
            "\u001b[2K     \u001b[90m━━━━━━━━━━━━━━━━━━━━━━━━━━━━━━━━━━━━━━━━\u001b[0m \u001b[32m1.1/1.1 MB\u001b[0m \u001b[31m58.7 MB/s\u001b[0m eta \u001b[36m0:00:00\u001b[0m\n",
            "\u001b[2K     \u001b[90m━━━━━━━━━━━━━━━━━━━━━━━━━━━━━━━━━━━━━━━━\u001b[0m \u001b[32m21.3/21.3 MB\u001b[0m \u001b[31m59.6 MB/s\u001b[0m eta \u001b[36m0:00:00\u001b[0m\n",
            "\u001b[2K     \u001b[90m━━━━━━━━━━━━━━━━━━━━━━━━━━━━━━━━━━━━━━━━\u001b[0m \u001b[32m71.9/71.9 kB\u001b[0m \u001b[31m8.8 MB/s\u001b[0m eta \u001b[36m0:00:00\u001b[0m\n",
            "\u001b[2K     \u001b[90m━━━━━━━━━━━━━━━━━━━━━━━━━━━━━━━━━━━━━━━━\u001b[0m \u001b[32m53.6/53.6 kB\u001b[0m \u001b[31m4.7 MB/s\u001b[0m eta \u001b[36m0:00:00\u001b[0m\n",
            "\u001b[2K     \u001b[90m━━━━━━━━━━━━━━━━━━━━━━━━━━━━━━━━━━━━━━━━\u001b[0m \u001b[32m307.7/307.7 kB\u001b[0m \u001b[31m27.3 MB/s\u001b[0m eta \u001b[36m0:00:00\u001b[0m\n",
            "\u001b[2K     \u001b[90m━━━━━━━━━━━━━━━━━━━━━━━━━━━━━━━━━━━━━━━━\u001b[0m \u001b[32m341.4/341.4 kB\u001b[0m \u001b[31m33.6 MB/s\u001b[0m eta \u001b[36m0:00:00\u001b[0m\n",
            "\u001b[2K     \u001b[90m━━━━━━━━━━━━━━━━━━━━━━━━━━━━━━━━━━━━━━━━\u001b[0m \u001b[32m3.4/3.4 MB\u001b[0m \u001b[31m87.0 MB/s\u001b[0m eta \u001b[36m0:00:00\u001b[0m\n",
            "\u001b[2K     \u001b[90m━━━━━━━━━━━━━━━━━━━━━━━━━━━━━━━━━━━━━━━━\u001b[0m \u001b[32m1.2/1.2 MB\u001b[0m \u001b[31m32.3 MB/s\u001b[0m eta \u001b[36m0:00:00\u001b[0m\n",
            "\u001b[?25h  Building wheel for ffmpy (setup.py) ... \u001b[?25l\u001b[?25hdone\n"
          ]
        }
      ],
      "source": [
        "!pip install -qU langchain\\\n",
        "    langchain-community\\\n",
        "    langchain-together\\\n",
        "    langchain-core\\\n",
        "    faiss-cpu\\\n",
        "    faiss-gpu\\\n",
        "    langgraph\\\n",
        "    sentence-transformers\\\n",
        "    gradio"
      ]
    },
    {
      "cell_type": "code",
      "execution_count": null,
      "metadata": {
        "colab": {
          "base_uri": "https://localhost:8080/"
        },
        "id": "oMvTXZL1Pxud",
        "outputId": "cd353d0c-00fa-4cb3-bc3d-51168370a2f2"
      },
      "outputs": [
        {
          "name": "stderr",
          "output_type": "stream",
          "text": [
            "WARNING:langchain_community.utils.user_agent:USER_AGENT environment variable not set, consider setting it to identify your requests.\n"
          ]
        }
      ],
      "source": [
        "import os\n",
        "from dotenv import load_dotenv\n",
        "from langchain_community.document_loaders.web_base import WebBaseLoader\n",
        "from langchain.text_splitter import RecursiveCharacterTextSplitter\n",
        "from langchain_community.embeddings import HuggingFaceEmbeddings\n",
        "from langchain_together import ChatTogether\n",
        "from langchain_community.vectorstores import FAISS\n",
        "from langchain.prompts import ChatPromptTemplate\n",
        "from langchain_core.pydantic_v1 import BaseModel, Field\n",
        "from typing import Literal\n",
        "from operator import itemgetter\n",
        "from langchain_core.output_parsers import StrOutputParser\n",
        "from IPython.core.display import Markdown\n",
        "from langchain_core.messages import HumanMessage, AIMessage\n",
        "from langchain.output_parsers import PydanticOutputParser\n",
        "from langchain_core.prompts import PromptTemplate\n"
      ]
    },
    {
      "cell_type": "code",
      "execution_count": null,
      "metadata": {
        "id": "aAgMrulBvV8L"
      },
      "outputs": [],
      "source": [
        "os.environ[\"TAVILY_API_KEY\"] = \"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\"\n",
        "os.environ[\"TOGETHER_API_KEY\"] = \"b8106c97edb2c98054f475c4c4bebde1042c67a8bab953566fa82a7201da01d3\""
      ]
    },
    {
      "cell_type": "code",
      "execution_count": null,
      "metadata": {
        "id": "0ts98YA-P0pL"
      },
      "outputs": [],
      "source": [
        "# import os, getpass\n",
        "# print(\"Enter your Tavily API Key\")\n",
        "# TAVILY_API_KEY = getpass.getpass()\n",
        "# print(\"Enter your Together API Key\")\n",
        "# TOGETHER_API_KEY = getpass.getpass()\n",
        "\n",
        "\n",
        "# os.environ[\"TAVILY_API_KEY\"] = TAVILY_API_KEY\n",
        "# os.environ[\"TOGETHER_API_KEY\"] = TOGETHER_API_KEY"
      ]
    },
    {
      "cell_type": "markdown",
      "metadata": {
        "id": "Sfiaw7Xxdyt6"
      },
      "source": [
        "![image.png](data:image/png;base64,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)"
      ]
    },
    {
      "cell_type": "markdown",
      "metadata": {
        "id": "4ihZ8SNFPJHU"
      },
      "source": [
        "## Loading Data"
      ]
    },
    {
      "cell_type": "code",
      "execution_count": null,
      "metadata": {
        "id": "oT5EvRJC49HS"
      },
      "outputs": [],
      "source": [
        "import requests\n",
        "from bs4 import BeautifulSoup\n",
        "\n",
        "url = \"https://stanford.edu/~jurafsky/slp3/\"\n",
        "response = requests.get(url)\n",
        "soup = BeautifulSoup(response.text, 'html.parser')\n",
        "\n",
        "pdf_links = []\n",
        "for link in soup.find_all('a', href=True):\n",
        "    href = link['href']\n",
        "    if href.endswith('.pdf'):\n",
        "        pdf_links.append(url + href if href.startswith('/') else href)\n"
      ]
    },
    {
      "cell_type": "code",
      "execution_count": null,
      "metadata": {
        "id": "gYswQ6-FCmwt"
      },
      "outputs": [],
      "source": [
        "pdf_links_main = []\n",
        "for pdf in pdf_links:\n",
        "    item = 'https://' + append_text + pdf\n",
        "    pdf_links_main.append(item)\n",
        "    print(item)"
      ]
    },
    {
      "cell_type": "code",
      "execution_count": null,
      "metadata": {
        "id": "IddIpWPMQexs"
      },
      "outputs": [],
      "source": [
        "urls = [\n",
        "    'https://stanford.edu/~jurafsky/slp3/2.pdf' ,\n",
        "    'https://stanford.edu/~jurafsky/slp3/3.pdf' ,\n",
        "    'https://stanford.edu/~jurafsky/slp3/4.pdf' ,\n",
        "    'https://stanford.edu/~jurafsky/slp3/5.pdf' ,\n",
        "    'https://stanford.edu/~jurafsky/slp3/6.pdf' ,\n",
        "    'https://stanford.edu/~jurafsky/slp3/7.pdf' ,\n",
        "    'https://stanford.edu/~jurafsky/slp3/8.pdf' ,\n",
        "    'https://stanford.edu/~jurafsky/slp3/9.pdf' ,\n",
        "    'https://stanford.edu/~jurafsky/slp3/10.pdf' ,\n",
        "    'https://stanford.edu/~jurafsky/slp3/11.pdf' ,\n",
        "    'https://stanford.edu/~jurafsky/slp3/12.pdf' ,\n",
        "    'https://stanford.edu/~jurafsky/slp3/13.pdf' ,\n",
        "    'https://stanford.edu/~jurafsky/slp3/14.pdf' ,\n",
        "    'https://stanford.edu/~jurafsky/slp3/15.pdf' ,\n",
        "    'https://stanford.edu/~jurafsky/slp3/16.pdf' ,\n",
        "    'https://stanford.edu/~jurafsky/slp3/17.pdf' ,\n",
        "    'https://stanford.edu/~jurafsky/slp3/18.pdf' ,\n",
        "    'https://stanford.edu/~jurafsky/slp3/19.pdf' ,\n",
        "    'https://stanford.edu/~jurafsky/slp3/20.pdf' ,\n",
        "    'https://stanford.edu/~jurafsky/slp3/21.pdf' ,\n",
        "    'https://stanford.edu/~jurafsky/slp3/22.pdf' ,\n",
        "    'https://stanford.edu/~jurafsky/slp3/23.pdf' ,\n",
        "]"
      ]
    },
    {
      "cell_type": "code",
      "execution_count": null,
      "metadata": {
        "id": "uyHY3acjQskY"
      },
      "outputs": [],
      "source": [
        "loader = WebBaseLoader(urls , bs_get_text_kwargs={\"strip\": True})\n",
        "docs = loader.load()"
      ]
    },
    {
      "cell_type": "markdown",
      "metadata": {
        "id": "jk-TK-JrPLbZ"
      },
      "source": [
        "## Chunking, Vector Store and Retriever"
      ]
    },
    {
      "cell_type": "code",
      "execution_count": null,
      "metadata": {
        "colab": {
          "background_save": true,
          "base_uri": "https://localhost:8080/",
          "height": 597,
          "referenced_widgets": [
            "fd2ce68aef534f78bedfbc571dc78991",
            "81ffb6a0efd94214a6510313d3a77514",
            "3d1b8f5fc4644a01a623d1b37b33e35b",
            "ff7b73ac5a8b4d5e9db552c967af8169",
            "b86eb773c50f4c9db29045fed05edfcd",
            "d4f36c76c0094862bf327686ba2d6013",
            "f7848e661a124dfc85f54a54470d2074",
            "c0e55ff22c4d46ee8307aa82af392d35",
            "4e1d7bdff86b462191adfc7664fb8925",
            "08f9773788034b1780ec96292819f10c",
            "cd153389d7934a05885f1510b4a09980",
            "8d029bba2d944cfe8e7b0423e8eff926",
            "bed4247b31264975944023bef9dd1513",
            "eb17cd2d854a44fa8c977fdf81abe4aa",
            "d41c9dc42e304d6dbaab9e809cb38237",
            "9857201c1098431992a1617ceef9f8c1",
            "1458203bb7cb4493ac1362c2e092a6e0",
            "a24cee51a9894a90b5bf90640d54ff79",
            "c3c8b1c886d0464c8916707d9ee27bf9",
            "a075e18dcd4c47689860420e7457956f",
            "aec299349237442eb9ea7b46dbdf034e",
            "dc4f267140914ca9b8866743ff8dc63f",
            "730253c366164cb8a1b18d22f671aaf8",
            "2e58de8c413848e287ee575b85e7d42a",
            "cd19e8325c974cacaf3b81f24c66d920",
            "e9a5d40d685e423d8dba6d1377f8fa73",
            "96c23652c11c476ebaa732700d3021ef",
            "163223dcc7b84de9bcf60febfd4e6532",
            "225b0fbca58f49a6a17b971dcdfbf5ad",
            "36a9d8ec02fa403b8f27da40cbc6fbe2",
            "43624db382b245a292c2c235c1f7f3e2",
            "348b7c80310d47aea52f7a5730781f1a",
            "7a46d8bd8d034816a0225b17d231f6aa",
            "4124f05adf9040ee921cc56e418cf43b",
            "ff8624d9b07640f5aa18425a60b2ceae",
            "a3262b5f644243ce9e8ae11a0644ccdf",
            "eaf7e8ee84094d5ea386aa1da4cbe824",
            "3a6e5fb6502b4fb0bd3ecf270c237575",
            "8954fb321f8f46f180ba0e456e89ed97",
            "74373f6b81ba4f30a0978309ec76e9bc",
            "2f00dd66d9204ae3832c0fddf31d445d",
            "8dafdf332de84cee9246edb0f4cbedc9",
            "0e966b6a7b2f4f1f93850e6a249ae007",
            "7c694fe318cd43319896992e6bf3a05b",
            "87a7330f91094022b145e2169730ddb3",
            "aa61875ba4294bad8c94201142168faf",
            "9b11e0c537bc4c2c900ad0527d513e62",
            "d9873614d0934b4b9bbbb2f7524cd2fe",
            "d934a0d74fcb44cba3c850daccc5ffd8",
            "802af0970973428297ec3ae1e53b424d",
            "8831ddc9a3ad4f88b9e77c58e6be5c97",
            "9da440f620ab4ccc812ca5778aee9273",
            "b17bbb0c721f48b69d8a5b56f3843236",
            "9b537a8a7b8c4b16979ce2c0ff7d3117",
            "5a70833baa1f40ae8275953f8c6dccea",
            "79416d9035f44a9a9ff54cb4843abf89",
            "2bbcccc7274e4c51ae6c5516b69a0b21",
            "fe40a3e53952455282225fab6e341f0f",
            "d06e5f159bef4ce68deb656589b525da",
            "5cc0a3786f0846b0a8941ef22856f62e",
            "c07756265a224365889d98d3a01ee0a7",
            "b8baf64125f644458069102fcf7bc57d",
            "ddad32c8967440b1915362fc368ae3af",
            "0186b95cb5f04779a2ccc6c541ba2311",
            "1e86bcfc15734eb69cca0625b2ccabf8",
            "4b842ca489884aa5bddd669d32329029",
            "3c4700acdb1146618a8e4f7f77a97023",
            "d29a985f900b4aba9b696f3b251d514d",
            "95dbc43c21b64e0f80f87eb5824deb1f",
            "a6672ffa27fd447ab68a359736db7ddb",
            "4e13f7944bc24ae9bbb62759c1e4f3e6",
            "2eff103a12bb4970a99f2b0625a0d708",
            "52e7ca74fdd94533a0555102decbdc6b",
            "1ec583962be74489b68d81a2af0fbac8",
            "a313fd2262e34cedb97469c7309a941e",
            "0c296ddf9a204458b39b5899e8b0c599",
            "06ce9c8cb70a41adb8af9d75b79eb948",
            "6ba4fa3dbd5e46e5bfdb4b234d8b17f6",
            "7cf5dcb9f440453a93d2b49863f93636",
            "54a65dd91cac498f848cc5ec71b23c76",
            "6bbf65ac602849ce978218be6502792a",
            "9f8ab848d9644c11a6de01c71fbf3591",
            "b339252929fe4ef4b9ef8a1f6609d00c",
            "25155605fc2d4aff8547ed0ddab5bfcb",
            "b05f53f9927341789e4fa0de0a8c5542",
            "b92824bb2c7c471f8ee66c4eae7fe76b",
            "8121ed4904904ba9ab2e4ce384549fb5",
            "a0287e2a7566425db88ca7079cc09efe",
            "5334b3e407c3449da4de42b4cfbf5a8c",
            "f5f4652c28714e2386f5f0e17e8e1179",
            "bb453fa6d9554d509976e0350071fac8",
            "8b7cbf6f190a42f0b11c196f5ce7fa28",
            "25e33e610aba46c5bd1ca3adf3740c0e",
            "7a0fb03919e142b286da7192449f7b99",
            "f60c0280d4754929a943d61bb159e48d",
            "080d5a0b09ce4ec282950adc734ba590",
            "49ed96536d8b4b6eb6c0e1c2a28cd21d",
            "0a155049d12d47f58a5b611efd210ff8",
            "2f7497f164f4442da173defa5aaa2cea",
            "e7cbd68b140c4fc9904a00ee4abb8683",
            "3db8b1ff8cf044e1b62cec76691b4c15",
            "4d3c24f74a40464eaa88f7eded05c730",
            "a30f91a8dc944afab5e2b7e8a8b87def",
            "46b71c860f0845a5b2bb7655809f46b5",
            "43aed017d99e44868660a55aa031c3e2",
            "80f1ce15a8274afb91782aff28abfe8a",
            "71e48b666406479ea408029230601dbf",
            "b56ddb6f25c248e7926bdaf9dc1d738d",
            "3896b08946804989891ccbb13b908f44",
            "0803aa2ecc204374b951d0f23db10082",
            "33a7385c619e4d27b93dc13bab413e39",
            "0c0bea2d4cfa43ce892afcae99478374",
            "146fc9bfc7964bc69d83e1403d551787",
            "558e5654a8cd4d2195b6805d7529e83d",
            "d586ffc0d6324fcea126004fea5fdea4",
            "c96a999d6e8b4c578ceb4ca004ab1995",
            "2c2380df56c9403eb9ee4983ab1b8c12",
            "8d436e63acb94f3c9e208dce3c649f47",
            "1efc42f1084a4021aa5ddede07b73b63",
            "35dffc1c243c4d129665f0ca0b9f83c0",
            "3c1e27cb36cb4caca60d8f7b5ac09709"
          ]
        },
        "id": "7gXLavZ7Q0ZD",
        "outputId": "2e409a33-0a30-4ae0-f72b-d90233bfdfab"
      },
      "outputs": [
        {
          "name": "stderr",
          "output_type": "stream",
          "text": [
            "/usr/local/lib/python3.10/dist-packages/langchain_core/_api/deprecation.py:139: LangChainDeprecationWarning: The class `HuggingFaceEmbeddings` was deprecated in LangChain 0.2.2 and will be removed in 0.3.0. An updated version of the class exists in the langchain-huggingface package and should be used instead. To use it run `pip install -U langchain-huggingface` and import as `from langchain_huggingface import HuggingFaceEmbeddings`.\n",
            "  warn_deprecated(\n",
            "/usr/local/lib/python3.10/dist-packages/sentence_transformers/cross_encoder/CrossEncoder.py:11: TqdmExperimentalWarning: Using `tqdm.autonotebook.tqdm` in notebook mode. Use `tqdm.tqdm` instead to force console mode (e.g. in jupyter console)\n",
            "  from tqdm.autonotebook import tqdm, trange\n",
            "/usr/local/lib/python3.10/dist-packages/huggingface_hub/utils/_token.py:89: UserWarning: \n",
            "The secret `HF_TOKEN` does not exist in your Colab secrets.\n",
            "To authenticate with the Hugging Face Hub, create a token in your settings tab (https://huggingface.co/settings/tokens), set it as secret in your Google Colab and restart your session.\n",
            "You will be able to reuse this secret in all of your notebooks.\n",
            "Please note that authentication is recommended but still optional to access public models or datasets.\n",
            "  warnings.warn(\n"
          ]
        },
        {
          "data": {
            "application/vnd.jupyter.widget-view+json": {
              "model_id": "fd2ce68aef534f78bedfbc571dc78991",
              "version_major": 2,
              "version_minor": 0
            },
            "text/plain": [
              "modules.json:   0%|          | 0.00/349 [00:00<?, ?B/s]"
            ]
          },
          "metadata": {},
          "output_type": "display_data"
        },
        {
          "data": {
            "application/vnd.jupyter.widget-view+json": {
              "model_id": "8d029bba2d944cfe8e7b0423e8eff926",
              "version_major": 2,
              "version_minor": 0
            },
            "text/plain": [
              "config_sentence_transformers.json:   0%|          | 0.00/116 [00:00<?, ?B/s]"
            ]
          },
          "metadata": {},
          "output_type": "display_data"
        },
        {
          "data": {
            "application/vnd.jupyter.widget-view+json": {
              "model_id": "730253c366164cb8a1b18d22f671aaf8",
              "version_major": 2,
              "version_minor": 0
            },
            "text/plain": [
              "README.md:   0%|          | 0.00/10.6k [00:00<?, ?B/s]"
            ]
          },
          "metadata": {},
          "output_type": "display_data"
        },
        {
          "data": {
            "application/vnd.jupyter.widget-view+json": {
              "model_id": "4124f05adf9040ee921cc56e418cf43b",
              "version_major": 2,
              "version_minor": 0
            },
            "text/plain": [
              "sentence_bert_config.json:   0%|          | 0.00/53.0 [00:00<?, ?B/s]"
            ]
          },
          "metadata": {},
          "output_type": "display_data"
        },
        {
          "name": "stderr",
          "output_type": "stream",
          "text": [
            "/usr/local/lib/python3.10/dist-packages/huggingface_hub/file_download.py:1132: FutureWarning: `resume_download` is deprecated and will be removed in version 1.0.0. Downloads always resume when possible. If you want to force a new download, use `force_download=True`.\n",
            "  warnings.warn(\n"
          ]
        },
        {
          "data": {
            "application/vnd.jupyter.widget-view+json": {
              "model_id": "87a7330f91094022b145e2169730ddb3",
              "version_major": 2,
              "version_minor": 0
            },
            "text/plain": [
              "config.json:   0%|          | 0.00/571 [00:00<?, ?B/s]"
            ]
          },
          "metadata": {},
          "output_type": "display_data"
        },
        {
          "data": {
            "application/vnd.jupyter.widget-view+json": {
              "model_id": "79416d9035f44a9a9ff54cb4843abf89",
              "version_major": 2,
              "version_minor": 0
            },
            "text/plain": [
              "model.safetensors:   0%|          | 0.00/438M [00:00<?, ?B/s]"
            ]
          },
          "metadata": {},
          "output_type": "display_data"
        },
        {
          "data": {
            "application/vnd.jupyter.widget-view+json": {
              "model_id": "3c4700acdb1146618a8e4f7f77a97023",
              "version_major": 2,
              "version_minor": 0
            },
            "text/plain": [
              "tokenizer_config.json:   0%|          | 0.00/363 [00:00<?, ?B/s]"
            ]
          },
          "metadata": {},
          "output_type": "display_data"
        },
        {
          "data": {
            "application/vnd.jupyter.widget-view+json": {
              "model_id": "6ba4fa3dbd5e46e5bfdb4b234d8b17f6",
              "version_major": 2,
              "version_minor": 0
            },
            "text/plain": [
              "vocab.txt:   0%|          | 0.00/232k [00:00<?, ?B/s]"
            ]
          },
          "metadata": {},
          "output_type": "display_data"
        },
        {
          "data": {
            "application/vnd.jupyter.widget-view+json": {
              "model_id": "5334b3e407c3449da4de42b4cfbf5a8c",
              "version_major": 2,
              "version_minor": 0
            },
            "text/plain": [
              "tokenizer.json:   0%|          | 0.00/466k [00:00<?, ?B/s]"
            ]
          },
          "metadata": {},
          "output_type": "display_data"
        },
        {
          "data": {
            "application/vnd.jupyter.widget-view+json": {
              "model_id": "e7cbd68b140c4fc9904a00ee4abb8683",
              "version_major": 2,
              "version_minor": 0
            },
            "text/plain": [
              "special_tokens_map.json:   0%|          | 0.00/239 [00:00<?, ?B/s]"
            ]
          },
          "metadata": {},
          "output_type": "display_data"
        },
        {
          "data": {
            "application/vnd.jupyter.widget-view+json": {
              "model_id": "33a7385c619e4d27b93dc13bab413e39",
              "version_major": 2,
              "version_minor": 0
            },
            "text/plain": [
              "1_Pooling/config.json:   0%|          | 0.00/190 [00:00<?, ?B/s]"
            ]
          },
          "metadata": {},
          "output_type": "display_data"
        }
      ],
      "source": [
        "text_splitter = RecursiveCharacterTextSplitter(chunk_size = 1024 , chunk_overlap = 64)\n",
        "chunks = text_splitter.split_documents(docs)\n",
        "\n",
        "embedding_function = HuggingFaceEmbeddings(show_progress = True, multi_process = True)\n",
        "vector_store = FAISS.from_documents(documents=chunks, embedding = embedding_function)\n",
        "\n",
        "retriever = vector_store.as_retriever(search_kwargs = {\"k\": 3})"
      ]
    },
    {
      "cell_type": "markdown",
      "metadata": {
        "id": "zyhk0X4sddf7"
      },
      "source": [
        "# Examples"
      ]
    },
    {
      "cell_type": "code",
      "execution_count": null,
      "metadata": {
        "colab": {
          "base_uri": "https://localhost:8080/"
        },
        "id": "CnDGYSMQctNH",
        "outputId": "e60007a4-5cb8-4d95-fa52-3501698c0214"
      },
      "outputs": [
        {
          "name": "stderr",
          "output_type": "stream",
          "text": [
            "/usr/local/lib/python3.10/dist-packages/langchain_core/_api/deprecation.py:139: LangChainDeprecationWarning: The method `BaseRetriever.get_relevant_documents` was deprecated in langchain-core 0.1.46 and will be removed in 0.3.0. Use invoke instead.\n",
            "  warn_deprecated(\n"
          ]
        },
        {
          "data": {
            "text/plain": [
              "[Document(metadata={'source': 'https://stanford.edu/~jurafsky/slp3/11.pdf'}, page_content=']: [��\\x7f���\\x1cp�Z���]_���\\x14t?\\x00��\\x01*\\x19S�X\\\\_�u��\\x11�\\t�Rз\\x00\\x19\\x00\"\\n{F۸��\\\\�{��\\x1d��虋\\x04�+t�� �\\x1a\\\\Sp�y&\\x1dʒ�\\x1d=���\\\\C \\x08\\x10��\\x1c��w�w\\x02\\x83�8nf��\\x1f\\x195��/��@z�\\x10�ۜI5��[0`%\\x0c�\\x01{�Z�M\\x16�H}\\x11`�6���E�\"S^_��\\x14x�#x\\ra��D䛓q�`�K勠[q�\\x16\\x11^�\\'��y\\x1dO2p81E��r�{\\\\NC��^\\x04}]Q\\x0co��#b(������5/\\\\�\\x07\\x1e\\x18�\\x12L�~�ߗ=���V����g�T�\\x16�U�p�\\\\u{\\x7f��V[�q�s+i\\u07bf\\x0b<[eY�\\x18��=���9l�\\x14ձ�UG��m���\\x1e��ː�\\x0cU1��(\\x07�qT��\\x0eI9\\x10V#aSo�\\x0fM@�6��H`/\\x03�d��ǰB\\x02~oM\\x08*�C��i\\t��\\x03Ԁ����@�@���R1y���Z��%\\x11>�1\\x0f�\"�s�)��l\\x17��u\\x08Bx08}�q��B�z�`785�ſ\\ue9679��\\x0bTAꜾ\\x1ay��?�Y6���1[�k7��cQ\\x1bw��\\n\\x1d@ �IHh��ɻ������Z@>\"�!��\\x1fP3��������RX����T�O\\x11p�\\x1c\\x00n�\\x02�\\x17��\\x15BL�O`FzW��@\\x12��\\x00\\t��弧\\x7f8]iB}�l�>-[Mo��9\\x14�\\\\\\x0c!O\\x01s\\x7f͐w�ႩD�\\x7f\\r�K�]��\\x06�p&T4�����Q�\\x1b���M\\'�\\x1fL\\x16���Qg�Fh��{\\x1c�ɞ�m�\\'b�\\'%�\\x0bl���}\\x10o<�O��6�8�.l#B�Zb\\x1b�\\x1f\\x027ţ��|\\x12��98ȅ�eO�����\\x17J\\x02��\\nendstream\\nendobj\\n528 0 obj\\n<<\\n/Type /XObject\\n/Subtype /Form\\n/FormType 1\\n/PTEX.FileName (./Pictures/transformer-masked-span-training.pdf)\\n/PTEX.PageNumber 1\\n/PTEX.InfoDict 543 0 R\\n/BBox [0 0 811 486]\\n/Resources <<\\n/ProcSet [ /PDF /Text /ImageB /ImageC /ImageI ]\\n/ColorSpace <<\\n/Cs1 544 0 R\\n/Cs2 545 0 R\\n/Cs3 546 0 R\\n>>/ExtGState <<\\n/Gs1 547 0 R\\n/Gs2 548 0 R'),\n",
              " Document(metadata={'source': 'https://stanford.edu/~jurafsky/slp3/15.pdf'}, page_content=\"r��v��h2��'$�m��P������kbn�=�#�\\nw�/!�<9ELa)\\x05�\\x1bl>[R���Gl���gSl\\\\��Q\\x1d�ͪ��u�\\x02k+�T,��\\x15\\x11.�,�Gn_NJ�ۗ�Z��\\x07�l�I巻\\x1fq\\x7f��-�>7��en���#,gh��}�\\x1d\\x0b\\x17.���)�'�_k��\\x13\\x0b]�\\x13P;�Y���OaJ�mj\\x0c�B*QSoN�b}Ax�|�$�Wcz�-mJ��&�����S�\\x1e:\\x01�`2\\x1a�<�^��P�ףKq�S�3M��,K���+Z�\\tƤi\\x13��jVG\\x7f��{�(\\x17K��,�4��dL���QR�TY?~J\\x1c�^�uWt��\\x07/��E��$$�y��\\x11�|s^�.8�\\x1f,\\x15'��\\x0c�fC|�%Kj��\\x1a�\\x0e�\\x13z9\\x7f��7�\\x1d�Q�����F�>�Ա�3�M\\x01괯�վrM\\u05fa˺~2w��+[ڊg��\\\\�r��vR�\\x1f�rNQ\\nendstream\\nendobj\\n394 0 obj\\n<<\\n/Type /XObject\\n/Subtype /Form\\n/FormType 1\\n/PTEX.FileName (./Pictures/chatbottraining2.pdf)\\n/PTEX.PageNumber 1\\n/PTEX.InfoDict 423 0 R\\n/BBox [0 0 751 277]\\n/Resources <<\\n/ProcSet [ /PDF /Text ]\\n/ColorSpace <<\\n/Cs1 424 0 R\\n/Cs2 425 0 R\\n/Cs3 426 0 R\\n>>/Font << /TT1 427 0 R/TT2 428 0 R>>\\n>>\\n/Length 1446\\n/Filter /FlateDecode\\n>>\\nstream\\nx\\x01�W�n[7\\x10��+�;{\\x11��7���:^ԋ\\x16�\\x05tQtQ�Q�@��\\x07���!�յ%�N\\x118��yϙ��>�\\x1d9�+�ɗB���\\x0f�J�/\\x1e��\\x0f���~~��[�o���@�R(�\\x13�;\\x10��wL�j������W�s?��\\x07o3�2d[A����Պ\\r�jC\\x7f�ٿ�������\\x7f��/Z]��J�\\x7f]:�h�k�t3��.H?�|�xN�/o\\x17\\x17\\x10�\\x18\\x1d�4b�\\x10���\\t�1�T�\\t�~|��-��\\x08`�Ԃu�\\x13yW��wq����ߏ\\x0f�'�D\\x0fY�\\x06�4\\x04�CO\\x01� Pp��\"),\n",
              " Document(metadata={'source': 'https://stanford.edu/~jurafsky/slp3/21.pdf'}, page_content='�c���t��\"��\\x18��\\x16�V\\x0c\\x1d�s\\x04ф��0t��\\x00�\"\\x11^\\x00��0t�\\x1d��\\x12\"k%�\\x00�V�\\x02�\\x0bN\\x05\\x10k��0W+S��Պ�O�R�]����T���\\x01*���\\x00��oY�o{���\\nOm���ü�F5%�\\u07b9���c3�����Ԃ�-���=����*6((�`E\\x19\\x1f\\x14<Ҧ���_Y;H\\x1a�Z7���\\x7f���/�pe�\\x1c\"�?�H�[��mY�y)�l\\x19;h��\\x1b�\\x0f�8\\x19�\\x1aT��/�K�iӬ������\\x7f��\\x1b���\\x1a���Y�U7u�]]u�]u�[�}��zz��GK�B���\\x08p�_�V�=�\"O�B��\\x12�9\\x11�\\x07��\\x1b_����&��\\x12\\x10�*�\\x0fĭ\\n�WO�������d�P5�����丹\\\\_��5+l]=UW�uO|�[�*�:�ʋPQ���!n�\\'�2\"�\\x17%��rQ��F\\x10�NGxQ��X��b�^\\x1cV}��\\x12�b#e�\\u0604z��=vlS��v�űͨ�\\x00�<L��O(��w��i\\\\��\\x7f�˶�R��J�k�$E�\\\\\\n�����7/\\x1fG7\\x1d�Ϗ�iM��6���a�ll�\\\\}}�;��O�\\x7f\\x01Q�u�\\nendstream\\nendobj\\n2431 0 obj\\n<<\\n/Length 2447 0 R\\n/Filter /FlateDecode\\n/Type /XObject\\n/Subtype /Form\\n/FormType 1\\n/BBox [ 92 627 270 780]\\n/Resources 2448 0 R\\n/Group <<\\n/S /Transparency\\n/CS 2399 0 R\\n/I true\\n/K false\\n>>\\n>>\\nstream')]"
            ]
          },
          "execution_count": 12,
          "metadata": {},
          "output_type": "execute_result"
        }
      ],
      "source": [
        "retriever.get_relevant_documents('Masked Language Model')"
      ]
    },
    {
      "cell_type": "code",
      "execution_count": null,
      "metadata": {
        "colab": {
          "base_uri": "https://localhost:8080/"
        },
        "id": "b6X9PjBSAJRk",
        "outputId": "b52f28cd-6d99-4c7e-c92b-a7707e737647"
      },
      "outputs": [
        {
          "data": {
            "text/plain": [
              "[Document(metadata={'source': 'https://stanford.edu/~jurafsky/slp3/21.pdf'}, page_content=\"0��i�9�6�\\x01�\\x01N�h�\\x170\\r`�otc�\\x10?��.w�����˔��\\x0e����5��N_���+���\\x1f�/ug:�,\\x06zB\\x1b+�\\x154\\x0fz\\x03�M��D�V��� H\\x0e�<@)`*�\\t�\\x15`�G���9�Dtr��cW8x7}��'�q3y�;��\"),\n",
              " Document(metadata={'source': 'https://stanford.edu/~jurafsky/slp3/4.pdf'}, page_content=\"w�\\x1c:3\\x14�y��7t��oK�t��\\x13}$\\x16�ׅ+�/5HgNJ'��gNH'mκ��-v�luu���\\x17�RCVC\\x03�\\x0b�-cz>�\\x0fd��\\\\���άl١Fjg\\x17*\\x19� Z\\x03EAo�\\x1c�\\x0bf�mn��1��O�-Ը�Thq�\\x0c\\x1fP�X�&�u\\x13j���ى�n\\x19�#\\x00:\\x14&CH\\x0f�\\x15_�::+P\\x1d\\r\\x06\\x15�A�������YU�\\\\Dm��ܪH�Sϓ�m�4WU��\\x7f��\\r�ک�4��\\x0b���c�nyqӵ{�Y\\x19\\x0eK>~�pQk���\\x1d��\\u07bc���\\x1d�\\x17]�����PSZdw��ᒙm\\x0b��]�>�\\x1c�c�6�+\\x05\\\\\\x0bZ:n�us\\x17Ϫ���\"),\n",
              " Document(metadata={'source': 'https://stanford.edu/~jurafsky/slp3/5.pdf'}, page_content='x���1\\x01\\x00\\x00\\x00\\xa0��g\\r\\x0f�\\x00\\x00\\x00\\x00\\x00\\x00\\x00\\x00\\x00\\x00\\x00\\x00\\x00\\x00\\x00\\x00\\x00\\x00\\x00\\x00\\x00\\x00\\x00\\x00\\x00\\x00\\x00\\x00\\x00\\x00\\x00\\x00\\x00\\x00\\x00\\x00\\x00\\x00\\x00\\x00\\x00\\x00\\x00\\x00\\x00\\x00\\x00\\x00\\x00\\x00\\x00\\x00\\x00\\x00\\x00\\x00\\x00\\x00\\x00\\x00\\x00\\x00\\x00\\x00\\x00\\x00\\x00\\x00\\x00\\x00\\x00\\x00\\x00\\x00\\x00\\x00\\x00\\x00\\x00\\x00\\x00\\x00\\x00\\x00\\x00\\x00\\x00\\x00\\x00\\x00\\x00\\x00\\x00\\x00\\x00\\x00\\x00\\x00\\x00\\x00\\x00\\x00\\x00\\x00\\x00\\x00\\x00\\x00\\x00\\x00\\x00\\x00\\x00\\x00\\x00\\x00\\x00\\x00\\x00\\x00\\x00\\x00\\x00\\x00\\x00\\x00\\x00\\x00\\x00\\x00\\x00\\x00\\x00\\x00\\x00\\x00\\x00\\x00\\x00\\x00\\x00\\x00\\x00\\x00\\x00\\x00\\x00\\x00\\x00\\x00\\x00\\x00\\x00\\x00\\x00\\x00\\x00\\x00\\x00\\x00\\x00\\x00\\x00\\x00\\x00\\x00\\x00\\x00\\x00\\x00\\x00\\x00\\x00\\x00\\x00\\x00\\x00\\x00\\x00\\x00\\x00\\x00\\x00\\x00\\x00\\x00\\x00\\x00\\x00\\x00\\x00\\x00\\x00\\x00\\x00\\x00\\x00\\x00\\x00\\x00\\x00\\x00\\x00\\x00\\x00\\x00\\x00\\x00\\x00\\x00\\x00\\x00\\x00\\x00\\x00\\x00\\x00\\x00\\x00\\x00\\x00\\x00\\x00\\x00\\x00\\x00\\x00\\x00\\x00\\x00\\x00\\x00\\x00\\x00\\x00\\x00\\x00\\x00\\x00\\x00\\x00\\x00\\x00\\x00\\x00\\x00\\x00\\x00\\x00\\x00\\x00\\x00\\x00\\x00\\x00\\x00\\x00\\x00\\x00\\x00\\x00\\x00\\x00\\x00\\x00\\x00\\x00\\x00\\x00\\x00\\x00\\x00\\x00\\x00\\x00\\x00\\x00\\x00\\x00\\x00\\x00\\x00\\x00\\x00\\x00\\x00\\x00\\x00\\x00\\x00\\x00\\x00\\x00\\x00\\x00\\x00\\x00\\x00\\x00\\x00\\x00\\x00\\x00\\x00\\x00\\x00\\x00\\x00\\x00\\x00\\x00\\x00\\x00\\x00\\x00\\x00\\x00\\x00\\x00\\x00\\x00\\x00\\x00\\x00\\x00\\x00\\x00\\x00\\x00\\x00\\x00\\x00\\x00\\x00\\x00\\x00\\x00\\x00\\x00\\x00\\x00\\x00\\x00\\x00\\x00\\x00\\x00\\x00\\x00\\x00\\x00\\x00\\x00\\x00\\x00\\x00\\x00\\x00\\x00\\x00\\x00\\x00\\x00\\x00\\x00\\x00\\x00\\x00\\x00\\x00\\x00\\x00\\x00\\x00\\x00\\x00\\x00\\x00\\x00\\x00\\x00\\x00\\x00\\x00\\x00\\x00\\x00\\x00\\x00\\x00\\x00\\x00\\x00\\x00\\x00\\x00\\x00\\x00\\x00\\x00\\x00\\x00\\x00\\x00\\x00\\x00\\x00\\x00\\x00\\x00\\x00\\x00\\x00\\x00\\x00\\x00\\x00\\x00\\x00\\x00\\x00\\x00\\x00\\x00\\x00\\x00\\x00\\x00\\x00\\x00\\x00\\x00\\x00\\x00\\x00\\x00\\x00\\x00\\x00\\x00\\x00\\x00\\x00\\x00\\x00\\x00\\x00\\x00\\x00\\x00\\x00\\x00\\x00\\x00\\x00\\x00\\x00\\x00\\x00\\x00\\x00\\x00\\x00\\x00\\x00\\x00\\x00\\x00\\x00\\x00\\x00\\x00\\x00\\x00\\x00\\x00\\x00\\x00\\x00\\x00\\x00\\x00\\x00\\x00\\x00\\x00\\x00\\x00\\x00\\x00\\x00\\x00\\x00\\x00\\x00\\x00\\x00\\x00\\x00\\x00\\x00\\x00\\x00\\x00\\x00\\x00\\x00\\x00\\x00\\x00\\x00\\x00\\x00\\x00\\x00\\x00\\x00\\x00\\x00\\x00\\x00\\x00\\x00\\x00\\x00\\x00\\x00\\x00\\x00\\x00\\x00\\x00\\x00\\x00\\x00\\x00\\x00\\x00\\x00\\x00\\x00\\x00\\x00\\x00\\x00\\x00\\x00\\x00\\x00\\x00\\x00\\x00\\x00\\x00\\x00\\x00\\x00\\x00\\x00\\x00\\x00\\x00\\x00\\x00\\x00\\x00\\x00\\x00\\x00\\x00\\x00\\x00\\x00\\x00\\x00\\x00\\x00\\x00\\x00\\x00\\x00\\x00\\x00\\x00\\x00\\x00\\x00\\x00\\x00\\x00\\x00\\x00\\x00\\x00\\x00\\x00\\x00\\x00\\x00\\x00\\x00\\x00\\x00\\x00\\x00\\x00\\x00\\x00\\x00\\x00\\x00\\x00\\x00\\x00\\x00\\x00\\x00\\x00\\x00\\x00\\x00\\x00\\x00\\x00\\x00\\x00\\x00\\x00\\x00\\x00\\x00\\x00\\x00\\x00\\x00\\x00\\x00\\x00\\x00\\x00\\x00\\x00\\x00\\x00\\x00\\x00\\x00\\x00\\x00\\x00\\x00\\x00\\x00\\x00\\x00\\x00\\x00\\x00\\x00\\x00\\x00\\x00\\x00\\x00\\x00\\x00\\x00\\x00\\x00\\x00\\x00\\x00\\x00\\x00\\x00\\x00\\x00\\x00\\x00\\x00\\x00\\x00\\x00\\x00\\x00\\x00\\x00\\x00\\x00\\x00\\x00\\x00\\x00\\x00\\x00\\x00\\x00\\x00\\x00\\x00\\x00\\x00\\x00\\x00\\x00\\x00\\x00\\x00\\x00\\x00\\x00\\x00\\x00\\x00\\x00\\x00\\x00\\x00\\x00\\x00\\x00\\x00\\x00\\x00\\x00\\x00\\x00\\x00\\x00\\x00\\x00\\x00\\x00\\x00\\x00\\x00\\x00\\x00\\x00\\x00\\x00\\x00\\x00\\x00\\x00\\x00\\x00\\x00\\x00\\x00\\x00\\x00\\x00\\x00\\x00\\x00\\x00\\x00\\x00\\x00\\x00\\x00\\x00\\x00\\x00\\x00\\x00\\x00\\x00\\x00\\x00\\x00\\x00\\x00\\x00\\x00\\x00\\x00\\x00\\x00\\x00\\x00\\x00\\x00\\x00\\x00\\x00\\x00\\x00\\x00\\x00\\x00\\x00\\x00\\x00\\x00\\x00\\x00\\x00\\x00\\x00\\x00\\x00\\x00\\x00\\x00\\x00\\x00\\x00\\x00\\x00\\x00\\x00\\x00\\x00\\x00\\x00\\x00\\x00\\x00\\x00\\x00\\x00\\x00\\x00\\x00\\x00\\x00\\x00\\x00\\x00\\x00\\x00\\x00\\x00\\x00\\x00\\x00\\x00\\x00\\x00\\x00\\x00\\x00\\x00\\x00\\x00\\x00\\x00\\x00\\x00\\x00\\x00\\x00\\x00\\x00\\x00\\x00\\x00\\x00\\x00\\x00\\x00\\x00\\x00\\x00\\x00\\x00\\x00\\x00\\x00\\x00\\x00\\x00\\x00\\x00\\x00\\x00\\x00\\x00\\x00\\x00\\x00\\x00\\x00\\x00\\x00\\x00\\x00\\x00\\x00\\x00\\x00\\x00\\x00\\x00\\x00\\x00\\x00\\x00\\x00\\x00\\x00\\x00\\x00\\x00\\x00\\x00\\x00\\x00\\x00\\x00\\x00\\x00\\x00\\x00\\x00\\x00\\x00\\x00\\x00\\x00\\x00\\x00\\x00\\x00\\x00\\x00\\x00\\x00\\x00\\x00\\x00\\x00\\x00\\x00\\x00\\x00\\x00\\x00\\x00\\x00\\x00\\x00\\x00\\x00\\x00\\x00\\x00\\x00\\x00\\x00\\x00\\x00\\x00\\x00\\x00\\x00\\x00\\x00\\x00\\x00\\x00\\x00\\x00\\x00\\x00\\x00\\x00\\x00\\x00\\x00\\x00\\x00\\x00\\x00\\x00\\x00\\x00\\x00\\x00\\x00\\x00\\x00\\x00\\x00\\x00\\x00\\x00\\x00\\x00\\x00\\x00\\x00\\x00\\x00\\x00\\x00\\x00\\x00\\x00\\x00\\x00\\x00\\x00\\x00\\x00')]"
            ]
          },
          "execution_count": 15,
          "metadata": {},
          "output_type": "execute_result"
        }
      ],
      "source": [
        "retriever.get_relevant_documents('Token')"
      ]
    },
    {
      "cell_type": "code",
      "execution_count": null,
      "metadata": {
        "colab": {
          "base_uri": "https://localhost:8080/"
        },
        "id": "l_3JcfwUXAdV",
        "outputId": "5158bf9f-578d-4a9c-9046-4632326d4ec6"
      },
      "outputs": [
        {
          "data": {
            "text/plain": [
              "[Document(metadata={'source': 'https://stanford.edu/~jurafsky/slp3/5.pdf'}, page_content='x���1\\x01\\x00\\x00\\x00\\xa0��g\\r\\x0f�\\x00\\x00\\x00\\x00\\x00\\x00\\x00\\x00\\x00\\x00\\x00\\x00\\x00\\x00\\x00\\x00\\x00\\x00\\x00\\x00\\x00\\x00\\x00\\x00\\x00\\x00\\x00\\x00\\x00\\x00\\x00\\x00\\x00\\x00\\x00\\x00\\x00\\x00\\x00\\x00\\x00\\x00\\x00\\x00\\x00\\x00\\x00\\x00\\x00\\x00\\x00\\x00\\x00\\x00\\x00\\x00\\x00\\x00\\x00\\x00\\x00\\x00\\x00\\x00\\x00\\x00\\x00\\x00\\x00\\x00\\x00\\x00\\x00\\x00\\x00\\x00\\x00\\x00\\x00\\x00\\x00\\x00\\x00\\x00\\x00\\x00\\x00\\x00\\x00\\x00\\x00\\x00\\x00\\x00\\x00\\x00\\x00\\x00\\x00\\x00\\x00\\x00\\x00\\x00\\x00\\x00\\x00\\x00\\x00\\x00\\x00\\x00\\x00\\x00\\x00\\x00\\x00\\x00\\x00\\x00\\x00\\x00\\x00\\x00\\x00\\x00\\x00\\x00\\x00\\x00\\x00\\x00\\x00\\x00\\x00\\x00\\x00\\x00\\x00\\x00\\x00\\x00\\x00\\x00\\x00\\x00\\x00\\x00\\x00\\x00\\x00\\x00\\x00\\x00\\x00\\x00\\x00\\x00\\x00\\x00\\x00\\x00\\x00\\x00\\x00\\x00\\x00\\x00\\x00\\x00\\x00\\x00\\x00\\x00\\x00\\x00\\x00\\x00\\x00\\x00\\x00\\x00\\x00\\x00\\x00\\x00\\x00\\x00\\x00\\x00\\x00\\x00\\x00\\x00\\x00\\x00\\x00\\x00\\x00\\x00\\x00\\x00\\x00\\x00\\x00\\x00\\x00\\x00\\x00\\x00\\x00\\x00\\x00\\x00\\x00\\x00\\x00\\x00\\x00\\x00\\x00\\x00\\x00\\x00\\x00\\x00\\x00\\x00\\x00\\x00\\x00\\x00\\x00\\x00\\x00\\x00\\x00\\x00\\x00\\x00\\x00\\x00\\x00\\x00\\x00\\x00\\x00\\x00\\x00\\x00\\x00\\x00\\x00\\x00\\x00\\x00\\x00\\x00\\x00\\x00\\x00\\x00\\x00\\x00\\x00\\x00\\x00\\x00\\x00\\x00\\x00\\x00\\x00\\x00\\x00\\x00\\x00\\x00\\x00\\x00\\x00\\x00\\x00\\x00\\x00\\x00\\x00\\x00\\x00\\x00\\x00\\x00\\x00\\x00\\x00\\x00\\x00\\x00\\x00\\x00\\x00\\x00\\x00\\x00\\x00\\x00\\x00\\x00\\x00\\x00\\x00\\x00\\x00\\x00\\x00\\x00\\x00\\x00\\x00\\x00\\x00\\x00\\x00\\x00\\x00\\x00\\x00\\x00\\x00\\x00\\x00\\x00\\x00\\x00\\x00\\x00\\x00\\x00\\x00\\x00\\x00\\x00\\x00\\x00\\x00\\x00\\x00\\x00\\x00\\x00\\x00\\x00\\x00\\x00\\x00\\x00\\x00\\x00\\x00\\x00\\x00\\x00\\x00\\x00\\x00\\x00\\x00\\x00\\x00\\x00\\x00\\x00\\x00\\x00\\x00\\x00\\x00\\x00\\x00\\x00\\x00\\x00\\x00\\x00\\x00\\x00\\x00\\x00\\x00\\x00\\x00\\x00\\x00\\x00\\x00\\x00\\x00\\x00\\x00\\x00\\x00\\x00\\x00\\x00\\x00\\x00\\x00\\x00\\x00\\x00\\x00\\x00\\x00\\x00\\x00\\x00\\x00\\x00\\x00\\x00\\x00\\x00\\x00\\x00\\x00\\x00\\x00\\x00\\x00\\x00\\x00\\x00\\x00\\x00\\x00\\x00\\x00\\x00\\x00\\x00\\x00\\x00\\x00\\x00\\x00\\x00\\x00\\x00\\x00\\x00\\x00\\x00\\x00\\x00\\x00\\x00\\x00\\x00\\x00\\x00\\x00\\x00\\x00\\x00\\x00\\x00\\x00\\x00\\x00\\x00\\x00\\x00\\x00\\x00\\x00\\x00\\x00\\x00\\x00\\x00\\x00\\x00\\x00\\x00\\x00\\x00\\x00\\x00\\x00\\x00\\x00\\x00\\x00\\x00\\x00\\x00\\x00\\x00\\x00\\x00\\x00\\x00\\x00\\x00\\x00\\x00\\x00\\x00\\x00\\x00\\x00\\x00\\x00\\x00\\x00\\x00\\x00\\x00\\x00\\x00\\x00\\x00\\x00\\x00\\x00\\x00\\x00\\x00\\x00\\x00\\x00\\x00\\x00\\x00\\x00\\x00\\x00\\x00\\x00\\x00\\x00\\x00\\x00\\x00\\x00\\x00\\x00\\x00\\x00\\x00\\x00\\x00\\x00\\x00\\x00\\x00\\x00\\x00\\x00\\x00\\x00\\x00\\x00\\x00\\x00\\x00\\x00\\x00\\x00\\x00\\x00\\x00\\x00\\x00\\x00\\x00\\x00\\x00\\x00\\x00\\x00\\x00\\x00\\x00\\x00\\x00\\x00\\x00\\x00\\x00\\x00\\x00\\x00\\x00\\x00\\x00\\x00\\x00\\x00\\x00\\x00\\x00\\x00\\x00\\x00\\x00\\x00\\x00\\x00\\x00\\x00\\x00\\x00\\x00\\x00\\x00\\x00\\x00\\x00\\x00\\x00\\x00\\x00\\x00\\x00\\x00\\x00\\x00\\x00\\x00\\x00\\x00\\x00\\x00\\x00\\x00\\x00\\x00\\x00\\x00\\x00\\x00\\x00\\x00\\x00\\x00\\x00\\x00\\x00\\x00\\x00\\x00\\x00\\x00\\x00\\x00\\x00\\x00\\x00\\x00\\x00\\x00\\x00\\x00\\x00\\x00\\x00\\x00\\x00\\x00\\x00\\x00\\x00\\x00\\x00\\x00\\x00\\x00\\x00\\x00\\x00\\x00\\x00\\x00\\x00\\x00\\x00\\x00\\x00\\x00\\x00\\x00\\x00\\x00\\x00\\x00\\x00\\x00\\x00\\x00\\x00\\x00\\x00\\x00\\x00\\x00\\x00\\x00\\x00\\x00\\x00\\x00\\x00\\x00\\x00\\x00\\x00\\x00\\x00\\x00\\x00\\x00\\x00\\x00\\x00\\x00\\x00\\x00\\x00\\x00\\x00\\x00\\x00\\x00\\x00\\x00\\x00\\x00\\x00\\x00\\x00\\x00\\x00\\x00\\x00\\x00\\x00\\x00\\x00\\x00\\x00\\x00\\x00\\x00\\x00\\x00\\x00\\x00\\x00\\x00\\x00\\x00\\x00\\x00\\x00\\x00\\x00\\x00\\x00\\x00\\x00\\x00\\x00\\x00\\x00\\x00\\x00\\x00\\x00\\x00\\x00\\x00\\x00\\x00\\x00\\x00\\x00\\x00\\x00\\x00\\x00\\x00\\x00\\x00\\x00\\x00\\x00\\x00\\x00\\x00\\x00\\x00\\x00\\x00\\x00\\x00\\x00\\x00\\x00\\x00\\x00\\x00\\x00\\x00\\x00\\x00\\x00\\x00\\x00\\x00\\x00\\x00\\x00\\x00\\x00\\x00\\x00\\x00\\x00\\x00\\x00\\x00\\x00\\x00\\x00\\x00\\x00\\x00\\x00\\x00\\x00\\x00\\x00\\x00\\x00\\x00\\x00\\x00\\x00\\x00\\x00\\x00\\x00\\x00\\x00\\x00\\x00\\x00\\x00\\x00\\x00\\x00\\x00\\x00\\x00\\x00\\x00\\x00\\x00\\x00\\x00\\x00\\x00\\x00\\x00\\x00\\x00\\x00\\x00\\x00\\x00\\x00\\x00\\x00\\x00\\x00\\x00\\x00\\x00\\x00\\x00\\x00\\x00\\x00\\x00\\x00\\x00\\x00\\x00\\x00\\x00\\x00\\x00\\x00\\x00\\x00\\x00\\x00\\x00\\x00\\x00\\x00\\x00\\x00\\x00\\x00\\x00\\x00\\x00\\x00\\x00\\x00\\x00\\x00\\x00\\x00\\x00\\x00\\x00\\x00\\x00\\x00\\x00\\x00\\x00\\x00\\x00\\x00\\x00\\x00\\x00\\x00\\x00\\x00\\x00\\x00\\x00\\x00\\x00\\x00\\x00\\x00\\x00\\x00\\x00\\x00\\x00\\x00\\x00\\x00\\x00\\x00\\x00\\x00\\x00\\x00\\x00\\x00\\x00\\x00\\x00\\x00\\x00\\x00\\x00\\x00\\x00\\x00\\x00\\x00\\x00\\x00\\x00\\x00\\x00\\x00\\x00\\x00\\x00\\x00\\x00\\x00\\x00\\x00\\x00\\x00\\x00\\x00\\x00\\x00\\x00\\x00\\x00\\x00\\x00\\x00\\x00'),\n",
              " Document(metadata={'source': 'https://stanford.edu/~jurafsky/slp3/13.pdf'}, page_content='x���1\\x01\\x00\\x00\\x00\\xa0��g\\r\\x0f�\\x00\\x00\\x00\\x00\\x00\\x00\\x00\\x00\\x00\\x00\\x00\\x00\\x00\\x00\\x00\\x00\\x00\\x00\\x00\\x00\\x00\\x00\\x00\\x00\\x00\\x00\\x00\\x00\\x00\\x00\\x00\\x00\\x00\\x00\\x00\\x00\\x00\\x00\\x00\\x00\\x00\\x00\\x00\\x00\\x00\\x00\\x00\\x00\\x00\\x00\\x00\\x00\\x00\\x00\\x00\\x00\\x00\\x00\\x00\\x00\\x00\\x00\\x00\\x00\\x00\\x00\\x00\\x00\\x00\\x00\\x00\\x00\\x00\\x00\\x00\\x00\\x00\\x00\\x00\\x00\\x00\\x00\\x00\\x00\\x00\\x00\\x00\\x00\\x00\\x00\\x00\\x00\\x00\\x00\\x00\\x00\\x00\\x00\\x00\\x00\\x00\\x00\\x00\\x00\\x00\\x00\\x00\\x00\\x00\\x00\\x00\\x00\\x00\\x00\\x00\\x00\\x00\\x00\\x00\\x00\\x00\\x00\\x00\\x00\\x00\\x00\\x00\\x00\\x00\\x00\\x00\\x00\\x00\\x00\\x00\\x00\\x00\\x00\\x00\\x00\\x00\\x00\\x00\\x00\\x00\\x00\\x00\\x00\\x00\\x00\\x00\\x00\\x00\\x00\\x00\\x00\\x00\\x00\\x00\\x00\\x00\\x00\\x00\\x00\\x00\\x00\\x00\\x00\\x00\\x00\\x00\\x00\\x00\\x00\\x00\\x00\\x00\\x00\\x00\\x00\\x00\\x00\\x00\\x00\\x00\\x00\\x00\\x00\\x00\\x00\\x00\\x00\\x00\\x00\\x00\\x00\\x00\\x00\\x00\\x00\\x00\\x00\\x00\\x00\\x00\\x00\\x00\\x00\\x00\\x00\\x00\\x00\\x00\\x00\\x00\\x00\\x00\\x00\\x00\\x00\\x00\\x00\\x00\\x00\\x00\\x00\\x00\\x00\\x00\\x00\\x00\\x00\\x00\\x00\\x00\\x00\\x00\\x00\\x00\\x00\\x00\\x00\\x00\\x00\\x00\\x00\\x00\\x00\\x00\\x00\\x00\\x00\\x00\\x00\\x00\\x00\\x00\\x00\\x00\\x00\\x00\\x00\\x00\\x00\\x00\\x00\\x00\\x00\\x00\\x00\\x00\\x00\\x00\\x00\\x00\\x00\\x00\\x00\\x00\\x00\\x00\\x00\\x00\\x00\\x00\\x00\\x00\\x00\\x00\\x00\\x00\\x00\\x00\\x00\\x00\\x00\\x00\\x00\\x00\\x00\\x00\\x00\\x00\\x00\\x00\\x00\\x00\\x00\\x00\\x00\\x00\\x00\\x00\\x00\\x00\\x00\\x00\\x00\\x00\\x00\\x00\\x00\\x00\\x00\\x00\\x00\\x00\\x00\\x00\\x00\\x00\\x00\\x00\\x00\\x00\\x00\\x00\\x00\\x00\\x00\\x00\\x00\\x00\\x00\\x00\\x00\\x00\\x00\\x00\\x00\\x00\\x00\\x00\\x00\\x00\\x00\\x00\\x00\\x00\\x00\\x00\\x00\\x00\\x00\\x00\\x00\\x00\\x00\\x00\\x00\\x00\\x00\\x00\\x00\\x00\\x00\\x00\\x00\\x00\\x00\\x00\\x00\\x00\\x00\\x00\\x00\\x00\\x00\\x00\\x00\\x00\\x00\\x00\\x00\\x00\\x00\\x00\\x00\\x00\\x00\\x00\\x00\\x00\\x00\\x00\\x00\\x00\\x00\\x00\\x00\\x00\\x00\\x00\\x00\\x00\\x00\\x00\\x00\\x00\\x00\\x00\\x00\\x00\\x00\\x00\\x00\\x00\\x00\\x00\\x00\\x00\\x00\\x00\\x00\\x00\\x00\\x00\\x00\\x00\\x00\\x00\\x00\\x00\\x00\\x00\\x00\\x00\\x00\\x00\\x00\\x00\\x00\\x00\\x00\\x00\\x00\\x00\\x00\\x00\\x00\\x00\\x00\\x00\\x00\\x00\\x00\\x00\\x00\\x00\\x00\\x00\\x00\\x00\\x00\\x00\\x00\\x00\\x00\\x00\\x00\\x00\\x00\\x00\\x00\\x00\\x00\\x00\\x00\\x00\\x00\\x00\\x00\\x00\\x00\\x00\\x00\\x00\\x00\\x00\\x00\\x00\\x00\\x00\\x00\\x00\\x00\\x00\\x00\\x00\\x00\\x00\\x00\\x00\\x00\\x00\\x00\\x00\\x00\\x00\\x00\\x00\\x00\\x00\\x00\\x00\\x00\\x00\\x00\\x00\\x00\\x00\\x00\\x00\\x00\\x00\\x00\\x00\\x00\\x00\\x00\\x00\\x00\\x00\\x00\\x00\\x00\\x00\\x00\\x00\\x00\\x00\\x00\\x00\\x00\\x00\\x00\\x00\\x00\\x00\\x00\\x00\\x00\\x00\\x00\\x00\\x00\\x00\\x00\\x00\\x00\\x00\\x00\\x00\\x00\\x00\\x00\\x00\\x00\\x00\\x00\\x00\\x00\\x00\\x00\\x00\\x00\\x00\\x00\\x00\\x00\\x00\\x00\\x00\\x00\\x00\\x00\\x00\\x00\\x00\\x00\\x00\\x00\\x00\\x00\\x00\\x00\\x00\\x00\\x00\\x00\\x00\\x00\\x00\\x00\\x00\\x00\\x00\\x00\\x00\\x00\\x00\\x00\\x00\\x00\\x00\\x00\\x00\\x00\\x00\\x00\\x00\\x00\\x00\\x00\\x00\\x00\\x00\\x00\\x00\\x00\\x00\\x00\\x00\\x00\\x00\\x00\\x00\\x00\\x00\\x00\\x00\\x00\\x00\\x00\\x00\\x00\\x00\\x00\\x00\\x00\\x00\\x00\\x00\\x00\\x00\\x00\\x00\\x00\\x00\\x00\\x00\\x00\\x00\\x00\\x00\\x00\\x00\\x00\\x00\\x00\\x00\\x00\\x00\\x00\\x00\\x00\\x00\\x00\\x00\\x00\\x00\\x00\\x00\\x00\\x00\\x00\\x00\\x00\\x00\\x00\\x00\\x00\\x00\\x00\\x00\\x00\\x00\\x00\\x00\\x00\\x00\\x00\\x00\\x00\\x00\\x00\\x00\\x00\\x00\\x00\\x00\\x00\\x00\\x00\\x00\\x00\\x00\\x00\\x00\\x00\\x00\\x00\\x00\\x00\\x00\\x00\\x00\\x00\\x00\\x00\\x00\\x00\\x00\\x00\\x00\\x00\\x00\\x00\\x00\\x00\\x00\\x00\\x00\\x00\\x00\\x00\\x00\\x00\\x00\\x00\\x00\\x00\\x00\\x00\\x00\\x00\\x00\\x00\\x00\\x00\\x00\\x00\\x00\\x00\\x00\\x00\\x00\\x00\\x00\\x00\\x00\\x00\\x00\\x00\\x00\\x00\\x00\\x00\\x00\\x00\\x00\\x00\\x00\\x00\\x00\\x00\\x00\\x00\\x00\\x00\\x00\\x00\\x00\\x00\\x00\\x00\\x00\\x00\\x00\\x00\\x00\\x00\\x00\\x00\\x00\\x00\\x00\\x00\\x00\\x00\\x00\\x00\\x00\\x00\\x00\\x00\\x00\\x00\\x00\\x00\\x00\\x00\\x00\\x00\\x00\\x00\\x00\\x00\\x00\\x00\\x00\\x00\\x00\\x00\\x00\\x00\\x00\\x00\\x00\\x00\\x00\\x00\\x00\\x00\\x00\\x00\\x00\\x00\\x00\\x00\\x00\\x00\\x00\\x00\\x00\\x00\\x00\\x00\\x00\\x00\\x00\\x00\\x00\\x00\\x00\\x00\\x00\\x00\\x00\\x00\\x00\\x00\\x00\\x00\\x00\\x00\\x00\\x00\\x00\\x00\\x00\\x00\\x00\\x00\\x00\\x00\\x00\\x00\\x00\\x00\\x00\\x00\\x00\\x00\\x00\\x00\\x00\\x00\\x00\\x00\\x00\\x00\\x00\\x00\\x00\\x00\\x00\\x00\\x00\\x00\\x00\\x00\\x00\\x00\\x00\\x00\\x00\\x00\\x00\\x00\\x00\\x00\\x00\\x00\\x00\\x00\\x00\\x00\\x00\\x00\\x00\\x00\\x00\\x00\\x00\\x00\\x00\\x00\\x00\\x00\\x00\\x00\\x00\\x00\\x00\\x00\\x00\\x00\\x00\\x00\\x00\\x00\\x00\\x00\\x00\\x00\\x00\\x00\\x00\\x00\\x00\\x00\\x00\\x00\\x00\\x00\\x00\\x00\\x00\\x00\\x00\\x00\\x00\\x00\\x00\\x00\\x00\\x00\\x00\\x00\\x00\\x00\\x00\\x00\\x00\\x00\\x00\\x00\\x00\\x00\\x00\\x00\\x00\\x00\\x00\\x00\\x00'),\n",
              " Document(metadata={'source': 'https://stanford.edu/~jurafsky/slp3/7.pdf'}, page_content='x���1\\x01\\x00\\x00\\x00\\xa0��g\\r\\x0f�\\x00\\x00\\x00\\x00\\x00\\x00\\x00\\x00\\x00\\x00\\x00\\x00\\x00\\x00\\x00\\x00\\x00\\x00\\x00\\x00\\x00\\x00\\x00\\x00\\x00\\x00\\x00\\x00\\x00\\x00\\x00\\x00\\x00\\x00\\x00\\x00\\x00\\x00\\x00\\x00\\x00\\x00\\x00\\x00\\x00\\x00\\x00\\x00\\x00\\x00\\x00\\x00\\x00\\x00\\x00\\x00\\x00\\x00\\x00\\x00\\x00\\x00\\x00\\x00\\x00\\x00\\x00\\x00\\x00\\x00\\x00\\x00\\x00\\x00\\x00\\x00\\x00\\x00\\x00\\x00\\x00\\x00\\x00\\x00\\x00\\x00\\x00\\x00\\x00\\x00\\x00\\x00\\x00\\x00\\x00\\x00\\x00\\x00\\x00\\x00\\x00\\x00\\x00\\x00\\x00\\x00\\x00\\x00\\x00\\x00\\x00\\x00\\x00\\x00\\x00\\x00\\x00\\x00\\x00\\x00\\x00\\x00\\x00\\x00\\x00\\x00\\x00\\x00\\x00\\x00\\x00\\x00\\x00\\x00\\x00\\x00\\x00\\x00\\x00\\x00\\x00\\x00\\x00\\x00\\x00\\x00\\x00\\x00\\x00\\x00\\x00\\x00\\x00\\x00\\x00\\x00\\x00\\x00\\x00\\x00\\x00\\x00\\x00\\x00\\x00\\x00\\x00\\x00\\x00\\x00\\x00\\x00\\x00\\x00\\x00\\x00\\x00\\x00\\x00\\x00\\x00\\x00\\x00\\x00\\x00\\x00\\x00\\x00\\x00\\x00\\x00\\x00\\x00\\x00\\x00\\x00\\x00\\x00\\x00\\x00\\x00\\x00\\x00\\x00\\x00\\x00\\x00\\x00\\x00\\x00\\x00\\x00\\x00\\x00\\x00\\x00\\x00\\x00\\x00\\x00\\x00\\x00\\x00\\x00\\x00\\x00\\x00\\x00\\x00\\x00\\x00\\x00\\x00\\x00\\x00\\x00\\x00\\x00\\x00\\x00\\x00\\x00\\x00\\x00\\x00\\x00\\x00\\x00\\x00\\x00\\x00\\x00\\x00\\x00\\x00\\x00\\x00\\x00\\x00\\x00\\x00\\x00\\x00\\x00\\x00\\x00\\x00\\x00\\x00\\x00\\x00\\x00\\x00\\x00\\x00\\x00\\x00\\x00\\x00\\x00\\x00\\x00\\x00\\x00\\x00\\x00\\x00\\x00\\x00\\x00\\x00\\x00\\x00\\x00\\x00\\x00\\x00\\x00\\x00\\x00\\x00\\x00\\x00\\x00\\x00\\x00\\x00\\x00\\x00\\x00\\x00\\x00\\x00\\x00\\x00\\x00\\x00\\x00\\x00\\x00\\x00\\x00\\x00\\x00\\x00\\x00\\x00\\x00\\x00\\x00\\x00\\x00\\x00\\x00\\x00\\x00\\x00\\x00\\x00\\x00\\x00\\x00\\x00\\x00\\x00\\x00\\x00\\x00\\x00\\x00\\x00\\x00\\x00\\x00\\x00\\x00\\x00\\x00\\x00\\x00\\x00\\x00\\x00\\x00\\x00\\x00\\x00\\x00\\x00\\x00\\x00\\x00\\x00\\x00\\x00\\x00\\x00\\x00\\x00\\x00\\x00\\x00\\x00\\x00\\x00\\x00\\x00\\x00\\x00\\x00\\x00\\x00\\x00\\x00\\x00\\x00\\x00\\x00\\x00\\x00\\x00\\x00\\x00\\x00\\x00\\x00\\x00\\x00\\x00\\x00\\x00\\x00\\x00\\x00\\x00\\x00\\x00\\x00\\x00\\x00\\x00\\x00\\x00\\x00\\x00\\x00\\x00\\x00\\x00\\x00\\x00\\x00\\x00\\x00\\x00\\x00\\x00\\x00\\x00\\x00\\x00\\x00\\x00\\x00\\x00\\x00\\x00\\x00\\x00\\x00\\x00\\x00\\x00\\x00\\x00\\x00\\x00\\x00\\x00\\x00\\x00\\x00\\x00\\x00\\x00\\x00\\x00\\x00\\x00\\x00\\x00\\x00\\x00\\x00\\x00\\x00\\x00\\x00\\x00\\x00\\x00\\x00\\x00\\x00\\x00\\x00\\x00\\x00\\x00\\x00\\x00\\x00\\x00\\x00\\x00\\x00\\x00\\x00\\x00\\x00\\x00\\x00\\x00\\x00\\x00\\x00\\x00\\x00\\x00\\x00\\x00\\x00\\x00\\x00\\x00\\x00\\x00\\x00\\x00\\x00\\x00\\x00\\x00\\x00\\x00\\x00\\x00\\x00\\x00\\x00\\x00\\x00\\x00\\x00\\x00\\x00\\x00\\x00\\x00\\x00\\x00\\x00\\x00\\x00\\x00\\x00\\x00\\x00\\x00\\x00\\x00\\x00\\x00\\x00\\x00\\x00\\x00\\x00\\x00\\x00\\x00\\x00\\x00\\x00\\x00\\x00\\x00\\x00\\x00\\x00\\x00\\x00\\x00\\x00\\x00\\x00\\x00\\x00\\x00\\x00\\x00\\x00\\x00\\x00\\x00\\x00\\x00\\x00\\x00\\x00\\x00\\x00\\x00\\x00\\x00\\x00\\x00\\x00\\x00\\x00\\x00\\x00\\x00\\x00\\x00\\x00\\x00\\x00\\x00\\x00\\x00\\x00\\x00\\x00\\x00\\x00\\x00\\x00\\x00\\x00\\x00\\x00\\x00\\x00\\x00\\x00\\x00\\x00\\x00\\x00\\x00\\x00\\x00\\x00\\x00\\x00\\x00\\x00\\x00\\x00\\x00\\x00\\x00\\x00\\x00\\x00\\x00\\x00\\x00\\x00\\x00\\x00\\x00\\x00\\x00\\x00\\x00\\x00\\x00\\x00\\x00\\x00\\x00\\x00\\x00\\x00\\x00\\x00\\x00\\x00\\x00\\x00\\x00\\x00\\x00\\x00\\x00\\x00\\x00\\x00\\x00\\x00\\x00\\x00\\x00\\x00\\x00\\x00\\x00\\x00\\x00\\x00\\x00\\x00\\x00\\x00\\x00\\x00\\x00\\x00\\x00\\x00\\x00\\x00\\x00\\x00\\x00\\x00\\x00\\x00\\x00\\x00\\x00\\x00\\x00\\x00\\x00\\x00\\x00\\x00\\x00\\x00\\x00\\x00\\x00\\x00\\x00\\x00\\x00\\x00\\x00\\x00\\x00\\x00\\x00\\x00\\x00\\x00\\x00\\x00\\x00\\x00\\x00\\x00\\x00\\x00\\x00\\x00\\x00\\x00\\x00\\x00\\x00\\x00\\x00\\x00\\x00\\x00\\x00\\x00\\x00\\x00\\x00\\x00\\x00\\x00\\x00\\x00\\x00\\x00\\x00\\x00\\x00\\x00\\x00\\x00\\x00\\x00\\x00\\x00\\x00\\x00\\x00\\x00\\x00\\x00\\x00\\x00\\x00\\x00\\x00\\x00\\x00\\x00\\x00\\x00\\x00\\x00\\x00\\x00\\x00\\x00\\x00\\x00\\x00\\x00\\x00\\x00\\x00\\x00\\x00\\x00\\x00\\x00\\x00\\x00\\x00\\x00\\x00\\x00\\x00\\x00\\x00\\x00\\x00\\x00\\x00\\x00\\x00\\x00\\x00\\x00\\x00\\x00\\x00\\x00\\x00\\x00\\x00\\x00\\x00\\x00\\x00\\x00\\x00\\x00\\x00\\x00\\x00\\x00\\x00\\x00\\x00\\x00\\x00\\x00\\x00\\x00\\x00\\x00\\x00\\x00\\x00\\x00\\x00\\x00\\x00\\x00\\x00\\x00\\x00\\x00\\x00\\x00\\x00\\x00\\x00\\x00\\x00\\x00\\x00\\x00\\x00\\x00\\x00\\x00\\x00\\x00\\x00\\x00\\x00\\x00\\x00\\x00\\x00\\x00\\x00\\x00\\x00\\x00\\x00\\x00\\x00\\x00\\x00\\x00\\x00\\x00\\x00\\x00\\x00\\x00\\x00\\x00\\x00\\x00\\x00\\x00\\x00\\x00\\x00\\x00\\x00\\x00\\x00\\x00\\x00\\x00\\x00\\x00\\x00\\x00\\x00\\x00\\x00\\x00\\x00\\x00\\x00\\x00\\x00\\x00\\x00\\x00\\x00\\x00\\x00\\x00\\x00\\x00\\x00\\x00\\x00\\x00\\x00\\x00\\x00\\x00\\x00\\x00\\x00\\x00\\x00\\x00\\x00\\x00\\x00\\x00\\x00\\x00\\x00\\x00\\x00\\x00\\x00\\x00\\x00\\x00\\x00\\x00\\x00\\x00\\x00\\x00\\x00\\x00\\x00\\x00\\x00\\x00\\x00\\x00\\x00\\x00\\x00\\x00\\x00\\x00\\x00\\x00\\x00\\x00\\x00\\x00\\x00\\x00\\x00')]"
            ]
          },
          "execution_count": 18,
          "metadata": {},
          "output_type": "execute_result"
        }
      ],
      "source": [
        "retriever.get_relevant_documents('GPT')"
      ]
    },
    {
      "cell_type": "code",
      "execution_count": null,
      "metadata": {
        "colab": {
          "base_uri": "https://localhost:8080/"
        },
        "id": "cNgKY4JqCHFa",
        "outputId": "a0da6164-c0d5-44fe-a8fb-21ff6b6b60c9"
      },
      "outputs": [
        {
          "data": {
            "text/plain": [
              "[Document(metadata={'source': 'https://stanford.edu/~jurafsky/slp3/18.pdf'}, page_content='endstream\\nendobj\\n767 0 obj\\n<<\\n/Length1 1626\\n/Length2 13887\\n/Length3 0\\n/Length 14734     \\n/Filter /FlateDecode\\n>>\\nstream\\nxڭ�ctf��&\\x1a�bU�$\\x15۶S��\\x7f�|?�\\x18랼��=�Z�D�J���6�@1\\x1bkGZF:\\x06.�����������\\r�4�\\x0c��\\x1c�%g�#%\\x15�\\x07\\x1a8��X�\\x188\\x02�\\x00j@c�\\x08�\\x08��\\x04`���#\\x05\\x08�غٛ��9\\x02(T\\x14�(��i�K�\\t���\\x7fj�<\\x1d�M�\\x01d_/�@K\\x1b[+���W��kG% \\x10�h\\x06\\x04��[\\x02\\x01�r�\\x1a���\\x00\\nqY\\x15�8�\\x1aho`\\t�w2�47\\x02H�\\x1b\\x01�\\x1d��\\x00\\x13\\x1b{��\\x0f\\x00#\\x1bkc�\\x7fJs���%�\\x000\\x008�\\x02�̿܀�F@�\\x7fT4\\x00[�������;��\\x01`jo`���\\x03G\\x1b�������?\\x00��&6�\\x02dko�ea���'),\n",
              " Document(metadata={'source': 'https://stanford.edu/~jurafsky/slp3/21.pdf'}, page_content='endstream\\nendobj\\n2358 0 obj\\n<<\\n/Length 2377 0 R\\n/N 3\\n/Alternate /DeviceRGB\\n/Filter /FlateDecode\\n>>\\nstream\\nx\\x01��wTS�\\x16�Ͻ7��\\x12\" %�\\x1az\\t �;H\\x15\\x04Q�I�P\\x02��&vD\\x05F\\x14\\x11)VdT�\\x01G�\"cE\\x14\\x0b��b�\\t�\\x10P��QDE�\\u074ck\\t�5�ޚ��Y�����g�}\\u05fa\\x00P��\\x04�tX\\x01�4�X\\x14���\\\\\\x12\\x13���\\x02\\x18\\x10\\x01\\x0eX\\x01��ff\\x04G�D\\x02���=���HƳ��.�d��,�P&s��\\x7f�\"7C$\\x06\\x00\\nE�6<~&\\x17�\\x02�S��\\x192�\\x04���)2�12\\x16�\\t��\"�įl���+�ɘ�&�\\x1aY�\\x19�4���Pޚ%ᣌ\\x04�\\\\�%�g�|\\x07e�TI�\\x00��(����L\\x000\\x14�_��&�l�2E\\x14\\x19��\\x02\\x00\\x08��9�r\\x0e��9h�\\x00x�g�\\x04�Ib�\\x11טi���f��S�b1+��M�xL���\\x0c�0\\x17��o�E\\x01%Ym�h���\\x1c��Y��h����\\x1e~S�=�z�U�&�ϞA��Y�l�/�\\x16\\x00�$Z�\\x1d���U\\x00�m\\x06@��O� \\x00�\\x05\\x00�ޜ�\\x1e�l^���\\x0c\\'\\x0b���ls\\x01�k.+�7���oʿ�9�����V;�\\x17?�#I\\x153eE妧�KD��\\x0c\\x0e��d��\\x10���9i���,���\\x17��UQ�\\t��h��<�X�.d\\n�\\x7f��\\x7f\\x186\\'\\x07\\x19~�k\\x14hu_\\x00}�9P�I\\x07�o=\\x00C#\\x03$n?z\\x02}�[\\x101\\nȾ�h���s�2z���\\x1f\\x0b\\\\�n�LA\"S��\\x0c�dr%�,\\x19�߄l�\\x02\\x12�\\x07t�\\n4�.0\\x02,`\\r\\x1c�3p\\x03� \\x00��H\\x10\\x03�\\x03.H\\x02i@\\x04�A>�\\x00\\nA1�\\x01v�jp\\x00ԁz�\\x04N�6p\\x06\\\\\\x04W�\\rp\\x0b\\x0c�G@\\n��K0\\x01ށi\\x08��\\x10\\x15�A��\\x16�\\x0f�B�\\x10\\x1bZ\\x08yCAP8\\x14\\x03�C��\\x10�@��&�\\x18*���CP=�#t\\x1a�\\x08]���\\x07� 4\\x06�\\x01}�\\x11�\\x02�a\\r�\\x00��ٰ;\\x1c\\x08G���Dx\\x15�\\x07\\x17���J�\\x16>\\x0e��\\x17�\\x1b�\\x00,�_\\x93\\x08@�\\x08\\x03�FX\\x08\\x1b�DB�X$\\x01\\x11!k�\"�\\x02�E��\\x0e�\\x1b��H�q�\\x03\\x06��a�\\x18\\x16�\\x19�Y��bVa�bJ0\\u0558c�VL\\x17�6f\\x103����bձ�X\\'�?v\\t6\\x11��-�V`�`[���\\x03�a�;\\x1c\\x0e��\\x19�\\x1cp~�\\x18\\\\2n5�\\x04�\\x0f\\u05cc����\\r�&�x�*�\\x14�\\x0f�s�b|!�'),\n",
              " Document(metadata={'source': 'https://stanford.edu/~jurafsky/slp3/23.pdf'}, page_content='kb\\x17!�JE\\x15�*��%�����8\\x07�U�D)!�7�\\x1a�\\x05I\\x18����p�b�H䘐�}a�2M��9\\x11.r(�\\x10lq�!��!�L\"_\\x1b넖�7a��C�叼�X���a�\\x1f����\\nendstream\\nendobj\\n5 0 obj\\n<<\\n/Type /ObjStm\\n/N 100\\n/First 806\\n/Length 2338      \\n/Filter /FlateDecode\\n>>\\nstream\\nx��ZYo�F\\x12~��G\\x1b�%�w�a\\x04�.ۀ�h%\\x05ɮ�\\x07j�-\\x11�H��\\x18v~�~E���\\x1a�D\\x1eKq�ͣ������i�r���3-\\x19\\x17�\\x19�q�;�q����0�3�\\x15~L(�\\x1f\\x13N$Bc��%�\\x1a�=�\\x0eO\\x04SB2)���IÔ�C�t�3�c\\x19��L[�)fx�(͌��cƀ�3�@&��@Y��6�z�Y�4g�r��2�Kf\\x14�\\'���b.����1�3��u�\\x0eBaԌsH\\x01�8\\x07#���c\\x15�\\x0b���\\\\H�8\\x0e=h�c��jЋ\\x01t\\x07:\\x03f�\\x18�%��\\x02\\x16(���\\x01\\x16w�x��i��ΌK�eB�A')]"
            ]
          },
          "execution_count": 20,
          "metadata": {},
          "output_type": "execute_result"
        }
      ],
      "source": [
        "retriever.get_relevant_documents('Data Structure')"
      ]
    },
    {
      "cell_type": "code",
      "execution_count": null,
      "metadata": {
        "colab": {
          "base_uri": "https://localhost:8080/"
        },
        "id": "E7GIYkFhA8yv",
        "outputId": "2a123d50-c5c8-49ec-d98c-eb052fae566d"
      },
      "outputs": [
        {
          "data": {
            "text/plain": [
              "[Document(metadata={'source': 'https://stanford.edu/~jurafsky/slp3/5.pdf'}, page_content=\"��\\x17_Ll�2�W�;���\\x1b?~|�����Ǿ9d�\\x10�j m͜\\x19����R��\\x7fX�J�\\x00\\x00�f\\x0c�A/�lC�\\x0e�\\x0f-\\x7f��_�[�.�\\x1f��\\x7f\\u07b4i��C�S��ĉ\\x13�v\\x14�c��G���\\x0fN�f�XD۴i\\x13�k�����o��vÆ\\rK�,��</��&M�ķW999�^{�!�\\x1c\\x12��'�p�s5��V�\\x08��\\x15��j�2̝�B\\x00\\x00lK��\\x17j�G\\x1ey$>x�y�\\x17-Z��\\x0fx\\x84\\t�\\x07\\\\�~�\\x0f?����nʔ)B�Z\\x16.\\\\��fd�ȑ��,2��F�\\x1a\\x15���g������O\\u05ed[��Ϟ~��-[��\\x07{��w_�bE���e\\x1e\\x04��\"),\n",
              " Document(metadata={'source': 'https://stanford.edu/~jurafsky/slp3/16.pdf'}, page_content='�\\x14U��Z�S|\\x007@�z�\\x03�\\x05\\x1c���雮;<�Ǯ��\\x1f�ق��`r\\x18f\\x0f�Y\\x19�![�\\u074b_�����<9G\\x0fN�}�\\ts�¼*\\x0e��I��\\x01��\\x0f��8�Ă�\\x1deg���\\x1b\\x16\\x13`����8����^>�a\\x06E���~V\\x1aU�t�\\x1cؿ9��l/�j\\x17���\\x0cή\\x04��ܕi2uj���iyJ-�v]C�p�Ɇ�I\\x06fk�JP\\x08fR\\x12�c�!�O˃�M��%h\\x1a�ͤ�!H\\x033�\\x14d���t���}�A�ˌRߞ\\x1c���\\x00�'),\n",
              " Document(metadata={'source': 'https://stanford.edu/~jurafsky/slp3/21.pdf'}, page_content='V\\x0eZL\\x1d��\\x06�\\x146��\\x0cM�lm�r0�M�z�\\x10Z�~N\\'��p^��v�\\U000a862e�~��U6(\\r_�:\\\\��\\x19\\x10�q4\\r���\\x0b�5����|��b(3�\\x0c7k�i\\x14M��X�c\\x18�\\x17�)ߌ�EzQ��j)\\rq�[D�^�wX>+esص|\\x1c_�\\x1f�n$3f���F�\\x10�\\x07��m$�!n�Ǥ\\x1f�O�_\\x18G\\x0f���pG<�}�!���b�\\n�b�e\\'�{��7���w�{���ߙZ���i\\x15�IOЧ,�Me�طX\\x07�Ķ���^6�^c\\x1f�\\x1a��W�sR��F��\\\\��@\\ue4bfg�Ͱ���pp�Wÿ\\x1d�T+�n�yȇ�X�}� v�O��\\r�S�.3�\\x14���0\\x17[Ⱦ�����\\x1ef\\x07��\\x0f����e\\x1f�\\x0f�c�\\x05��*7r;J\\x1dQ����\\'��?���^�\\x7f�I��\\x18�+M�*���\\x1a��.�F{FzGΗ��\\x1a�\\\\f�c�o8hx����b�.��_��G\\x17�.�=L�;��\\x0c�\\x0c�i�P6�!�+�NU�շ�-��ރ�{�^g\\x16�.�\\x15�*6\\x0b�if��\\x1av\\x13\"y+��\\x1e���\\x14{\\x0eQ�\\x03;�5�r����|')]"
            ]
          },
          "execution_count": 19,
          "metadata": {},
          "output_type": "execute_result"
        }
      ],
      "source": [
        "retriever.get_relevant_documents('president of France')"
      ]
    },
    {
      "cell_type": "markdown",
      "metadata": {
        "id": "hoRkwIcpdic4"
      },
      "source": [
        "# Hybrid Retriever **"
      ]
    },
    {
      "cell_type": "code",
      "execution_count": null,
      "metadata": {
        "colab": {
          "base_uri": "https://localhost:8080/",
          "height": 616
        },
        "id": "sn1W-uAJdlbs",
        "outputId": "39dba035-f0f1-409e-c8b8-eecd0d24fb20"
      },
      "outputs": [
        {
          "ename": "ImportError",
          "evalue": "Could not import rank_bm25, please install with `pip install rank_bm25`.",
          "output_type": "error",
          "traceback": [
            "\u001b[0;31m---------------------------------------------------------------------------\u001b[0m",
            "\u001b[0;31mModuleNotFoundError\u001b[0m                       Traceback (most recent call last)",
            "\u001b[0;32m/usr/local/lib/python3.10/dist-packages/langchain_community/retrievers/bm25.py\u001b[0m in \u001b[0;36mfrom_texts\u001b[0;34m(cls, texts, metadatas, bm25_params, preprocess_func, **kwargs)\u001b[0m\n\u001b[1;32m     53\u001b[0m         \u001b[0;32mtry\u001b[0m\u001b[0;34m:\u001b[0m\u001b[0;34m\u001b[0m\u001b[0;34m\u001b[0m\u001b[0m\n\u001b[0;32m---> 54\u001b[0;31m             \u001b[0;32mfrom\u001b[0m \u001b[0mrank_bm25\u001b[0m \u001b[0;32mimport\u001b[0m \u001b[0mBM25Okapi\u001b[0m\u001b[0;34m\u001b[0m\u001b[0;34m\u001b[0m\u001b[0m\n\u001b[0m\u001b[1;32m     55\u001b[0m         \u001b[0;32mexcept\u001b[0m \u001b[0mImportError\u001b[0m\u001b[0;34m:\u001b[0m\u001b[0;34m\u001b[0m\u001b[0;34m\u001b[0m\u001b[0m\n",
            "\u001b[0;31mModuleNotFoundError\u001b[0m: No module named 'rank_bm25'",
            "\nDuring handling of the above exception, another exception occurred:\n",
            "\u001b[0;31mImportError\u001b[0m                               Traceback (most recent call last)",
            "\u001b[0;32m<ipython-input-10-941e63889af7>\u001b[0m in \u001b[0;36m<cell line: 3>\u001b[0;34m()\u001b[0m\n\u001b[1;32m      1\u001b[0m \u001b[0;31m# from langchain.retrievers import BM25Retriever, HybridRetriever\u001b[0m\u001b[0;34m\u001b[0m\u001b[0;34m\u001b[0m\u001b[0m\n\u001b[1;32m      2\u001b[0m \u001b[0;34m\u001b[0m\u001b[0m\n\u001b[0;32m----> 3\u001b[0;31m \u001b[0mlexical_retriever\u001b[0m \u001b[0;34m=\u001b[0m \u001b[0mBM25Retriever\u001b[0m\u001b[0;34m.\u001b[0m\u001b[0mfrom_documents\u001b[0m\u001b[0;34m(\u001b[0m\u001b[0mchunks\u001b[0m\u001b[0;34m)\u001b[0m\u001b[0;34m\u001b[0m\u001b[0;34m\u001b[0m\u001b[0m\n\u001b[0m\u001b[1;32m      4\u001b[0m \u001b[0msemantic_retriever\u001b[0m \u001b[0;34m=\u001b[0m \u001b[0mvector_store\u001b[0m\u001b[0;34m.\u001b[0m\u001b[0mas_retriever\u001b[0m\u001b[0;34m(\u001b[0m\u001b[0msearch_kwargs\u001b[0m\u001b[0;34m=\u001b[0m\u001b[0;34m{\u001b[0m\u001b[0;34m\"k\"\u001b[0m\u001b[0;34m:\u001b[0m \u001b[0;36m3\u001b[0m\u001b[0;34m}\u001b[0m\u001b[0;34m)\u001b[0m\u001b[0;34m\u001b[0m\u001b[0;34m\u001b[0m\u001b[0m\n\u001b[1;32m      5\u001b[0m \u001b[0mretriever\u001b[0m \u001b[0;34m=\u001b[0m \u001b[0mHybridRetriever\u001b[0m\u001b[0;34m(\u001b[0m\u001b[0mlexical_retriever\u001b[0m\u001b[0;34m=\u001b[0m\u001b[0mlexical_retriever\u001b[0m\u001b[0;34m,\u001b[0m \u001b[0msemantic_retriever\u001b[0m\u001b[0;34m=\u001b[0m\u001b[0msemantic_retriever\u001b[0m\u001b[0;34m)\u001b[0m\u001b[0;34m\u001b[0m\u001b[0;34m\u001b[0m\u001b[0m\n",
            "\u001b[0;32m/usr/local/lib/python3.10/dist-packages/langchain_community/retrievers/bm25.py\u001b[0m in \u001b[0;36mfrom_documents\u001b[0;34m(cls, documents, bm25_params, preprocess_func, **kwargs)\u001b[0m\n\u001b[1;32m     89\u001b[0m         \"\"\"\n\u001b[1;32m     90\u001b[0m         \u001b[0mtexts\u001b[0m\u001b[0;34m,\u001b[0m \u001b[0mmetadatas\u001b[0m \u001b[0;34m=\u001b[0m \u001b[0mzip\u001b[0m\u001b[0;34m(\u001b[0m\u001b[0;34m*\u001b[0m\u001b[0;34m(\u001b[0m\u001b[0;34m(\u001b[0m\u001b[0md\u001b[0m\u001b[0;34m.\u001b[0m\u001b[0mpage_content\u001b[0m\u001b[0;34m,\u001b[0m \u001b[0md\u001b[0m\u001b[0;34m.\u001b[0m\u001b[0mmetadata\u001b[0m\u001b[0;34m)\u001b[0m \u001b[0;32mfor\u001b[0m \u001b[0md\u001b[0m \u001b[0;32min\u001b[0m \u001b[0mdocuments\u001b[0m\u001b[0;34m)\u001b[0m\u001b[0;34m)\u001b[0m\u001b[0;34m\u001b[0m\u001b[0;34m\u001b[0m\u001b[0m\n\u001b[0;32m---> 91\u001b[0;31m         return cls.from_texts(\n\u001b[0m\u001b[1;32m     92\u001b[0m             \u001b[0mtexts\u001b[0m\u001b[0;34m=\u001b[0m\u001b[0mtexts\u001b[0m\u001b[0;34m,\u001b[0m\u001b[0;34m\u001b[0m\u001b[0;34m\u001b[0m\u001b[0m\n\u001b[1;32m     93\u001b[0m             \u001b[0mbm25_params\u001b[0m\u001b[0;34m=\u001b[0m\u001b[0mbm25_params\u001b[0m\u001b[0;34m,\u001b[0m\u001b[0;34m\u001b[0m\u001b[0;34m\u001b[0m\u001b[0m\n",
            "\u001b[0;32m/usr/local/lib/python3.10/dist-packages/langchain_community/retrievers/bm25.py\u001b[0m in \u001b[0;36mfrom_texts\u001b[0;34m(cls, texts, metadatas, bm25_params, preprocess_func, **kwargs)\u001b[0m\n\u001b[1;32m     54\u001b[0m             \u001b[0;32mfrom\u001b[0m \u001b[0mrank_bm25\u001b[0m \u001b[0;32mimport\u001b[0m \u001b[0mBM25Okapi\u001b[0m\u001b[0;34m\u001b[0m\u001b[0;34m\u001b[0m\u001b[0m\n\u001b[1;32m     55\u001b[0m         \u001b[0;32mexcept\u001b[0m \u001b[0mImportError\u001b[0m\u001b[0;34m:\u001b[0m\u001b[0;34m\u001b[0m\u001b[0;34m\u001b[0m\u001b[0m\n\u001b[0;32m---> 56\u001b[0;31m             raise ImportError(\n\u001b[0m\u001b[1;32m     57\u001b[0m                 \u001b[0;34m\"Could not import rank_bm25, please install with `pip install \"\u001b[0m\u001b[0;34m\u001b[0m\u001b[0;34m\u001b[0m\u001b[0m\n\u001b[1;32m     58\u001b[0m                 \u001b[0;34m\"rank_bm25`.\"\u001b[0m\u001b[0;34m\u001b[0m\u001b[0;34m\u001b[0m\u001b[0m\n",
            "\u001b[0;31mImportError\u001b[0m: Could not import rank_bm25, please install with `pip install rank_bm25`.",
            "",
            "\u001b[0;31m---------------------------------------------------------------------------\u001b[0;32m\nNOTE: If your import is failing due to a missing package, you can\nmanually install dependencies using either !pip or !apt.\n\nTo view examples of installing some common dependencies, click the\n\"Open Examples\" button below.\n\u001b[0;31m---------------------------------------------------------------------------\u001b[0m\n"
          ]
        }
      ],
      "source": [
        "# from langchain.retrievers import BM25Retriever, HybridRetriever\n",
        "\n",
        "lexical_retriever = BM25Retriever.from_documents(chunks)\n",
        "semantic_retriever = vector_store.as_retriever(search_kwargs={\"k\": 3})\n",
        "retriever = HybridRetriever(lexical_retriever=lexical_retriever, semantic_retriever=semantic_retriever)\n",
        "\n",
        "class HybridRetriever(BaseRetriever):\n",
        "    def __init__(self, lexical_retriever: BaseRetriever, semantic_retriever: VectorStoreRetriever, weight: float = 0.5):\n",
        "        self.lexical_retriever = lexical_retriever\n",
        "        self.semantic_retriever = semantic_retriever\n",
        "        self.weight = weight\n",
        "\n",
        "    def retrieve(self, query: str, top_k: int = 10) -> List[Document]:\n",
        "        lexical_results = self.lexical_retriever.retrieve(query, top_k=top_k)\n",
        "        semantic_results = self.semantic_retriever.retrieve(query, top_k=top_k)\n",
        "\n",
        "        combined_scores = {}\n",
        "        for result in lexical_results:\n",
        "            combined_scores[result.page_content] = self.weight * result.metadata['score']\n",
        "        for result in semantic_results:\n",
        "            if result.page_content in combined_scores:\n",
        "                combined_scores[result.page_content] += (1 - self.weight) * result.metadata['score']\n",
        "            else:\n",
        "                combined_scores[result.page_content] = (1 - self.weight) * result.metadata['score']\n",
        "\n",
        "\n",
        "        sorted_results = sorted(combined_scores.items(), key=lambda x: x[1], reverse=True)\n",
        "        top_results = [Document(page_content=content) for content, score in sorted_results[:top_k]]\n",
        "\n",
        "        return top_results\n",
        "\n",
        "hybrid_retriever = HybridRetriever(lexical_retriever, semantic_retriever, weight=0.5)\n",
        "\n",
        "query = \"Language Model\"\n",
        "results = hybrid_retriever.retrieve(query, top_k=10)\n",
        "for result in results:\n",
        "    print(result.page_content)"
      ]
    },
    {
      "cell_type": "code",
      "execution_count": null,
      "metadata": {
        "id": "yM4t9hrodt-r"
      },
      "outputs": [],
      "source": [
        "query = \"Masked Language Model\"\n",
        "\n",
        "results = retriever.retrieve(query)\n",
        "for result in results:\n",
        "    print(result.page_content)"
      ]
    },
    {
      "cell_type": "markdown",
      "metadata": {
        "id": "J82IdEZiPR4D"
      },
      "source": [
        "## Chains"
      ]
    },
    {
      "cell_type": "markdown",
      "metadata": {
        "id": "toK8voD4WDL2"
      },
      "source": [
        "### Prompt"
      ]
    },
    {
      "cell_type": "code",
      "execution_count": null,
      "metadata": {
        "id": "y6GeHHkhePOa"
      },
      "outputs": [],
      "source": [
        "llm = ChatTogether(\n",
        "      together_api_key = \"b8106c97edb2c98054f475c4c4bebde1042c67a8bab953566fa82a7201da01d3\",\n",
        "      model = \"meta-llama/Llama-3-70b-chat-hf\",\n",
        "      temperature = 0\n",
        "    )"
      ]
    },
    {
      "cell_type": "markdown",
      "metadata": {
        "id": "RNwo-lS0D2sL"
      },
      "source": [
        "# Section 4"
      ]
    },
    {
      "cell_type": "code",
      "execution_count": null,
      "metadata": {
        "colab": {
          "base_uri": "https://localhost:8080/",
          "height": 356
        },
        "id": "Un9FssiqC-JX",
        "outputId": "7df24c07-0f88-45b7-88b7-67db93c39458"
      },
      "outputs": [
        {
          "ename": "KeyError",
          "evalue": "'messages'",
          "output_type": "error",
          "traceback": [
            "\u001b[0;31m---------------------------------------------------------------------------\u001b[0m",
            "\u001b[0;31mKeyError\u001b[0m                                  Traceback (most recent call last)",
            "\u001b[0;32m<ipython-input-9-a4b86fccd16e>\u001b[0m in \u001b[0;36m<cell line: 3>\u001b[0;34m()\u001b[0m\n\u001b[1;32m      1\u001b[0m \u001b[0mllm\u001b[0m \u001b[0;34m=\u001b[0m \u001b[0mChatTogether\u001b[0m\u001b[0;34m(\u001b[0m\u001b[0mmodel_name\u001b[0m\u001b[0;34m=\u001b[0m\u001b[0;34m\"meta-llama/Llama-3-70b-chat-hf\"\u001b[0m\u001b[0;34m,\u001b[0m \u001b[0mtemperature\u001b[0m\u001b[0;34m=\u001b[0m\u001b[0;36m0\u001b[0m\u001b[0;34m)\u001b[0m\u001b[0;34m\u001b[0m\u001b[0;34m\u001b[0m\u001b[0m\n\u001b[1;32m      2\u001b[0m \u001b[0;34m\u001b[0m\u001b[0m\n\u001b[0;32m----> 3\u001b[0;31m prompt_template = ChatPromptTemplate(\n\u001b[0m\u001b[1;32m      4\u001b[0m     \u001b[0mtemplate\u001b[0m\u001b[0;34m=\u001b[0m\u001b[0;34m\"Determine the context of the following query: {query}\\n\"\u001b[0m\u001b[0;34m\u001b[0m\u001b[0;34m\u001b[0m\u001b[0m\n\u001b[1;32m      5\u001b[0m              \u001b[0;34m\"Is it related to NLP, Computer Science, or neither?\"\u001b[0m\u001b[0;34m,\u001b[0m\u001b[0;34m\u001b[0m\u001b[0;34m\u001b[0m\u001b[0m\n",
            "\u001b[0;32m/usr/local/lib/python3.10/dist-packages/pydantic/v1/main.py\u001b[0m in \u001b[0;36m__init__\u001b[0;34m(__pydantic_self__, **data)\u001b[0m\n\u001b[1;32m    337\u001b[0m         \"\"\"\n\u001b[1;32m    338\u001b[0m         \u001b[0;31m# Uses something other than `self` the first arg to allow \"self\" as a settable attribute\u001b[0m\u001b[0;34m\u001b[0m\u001b[0;34m\u001b[0m\u001b[0m\n\u001b[0;32m--> 339\u001b[0;31m         \u001b[0mvalues\u001b[0m\u001b[0;34m,\u001b[0m \u001b[0mfields_set\u001b[0m\u001b[0;34m,\u001b[0m \u001b[0mvalidation_error\u001b[0m \u001b[0;34m=\u001b[0m \u001b[0mvalidate_model\u001b[0m\u001b[0;34m(\u001b[0m\u001b[0m__pydantic_self__\u001b[0m\u001b[0;34m.\u001b[0m\u001b[0m__class__\u001b[0m\u001b[0;34m,\u001b[0m \u001b[0mdata\u001b[0m\u001b[0;34m)\u001b[0m\u001b[0;34m\u001b[0m\u001b[0;34m\u001b[0m\u001b[0m\n\u001b[0m\u001b[1;32m    340\u001b[0m         \u001b[0;32mif\u001b[0m \u001b[0mvalidation_error\u001b[0m\u001b[0;34m:\u001b[0m\u001b[0;34m\u001b[0m\u001b[0;34m\u001b[0m\u001b[0m\n\u001b[1;32m    341\u001b[0m             \u001b[0;32mraise\u001b[0m \u001b[0mvalidation_error\u001b[0m\u001b[0;34m\u001b[0m\u001b[0;34m\u001b[0m\u001b[0m\n",
            "\u001b[0;32m/usr/local/lib/python3.10/dist-packages/pydantic/v1/main.py\u001b[0m in \u001b[0;36mvalidate_model\u001b[0;34m(model, input_data, cls)\u001b[0m\n\u001b[1;32m   1046\u001b[0m     \u001b[0;32mfor\u001b[0m \u001b[0mvalidator\u001b[0m \u001b[0;32min\u001b[0m \u001b[0mmodel\u001b[0m\u001b[0;34m.\u001b[0m\u001b[0m__pre_root_validators__\u001b[0m\u001b[0;34m:\u001b[0m\u001b[0;34m\u001b[0m\u001b[0;34m\u001b[0m\u001b[0m\n\u001b[1;32m   1047\u001b[0m         \u001b[0;32mtry\u001b[0m\u001b[0;34m:\u001b[0m\u001b[0;34m\u001b[0m\u001b[0;34m\u001b[0m\u001b[0m\n\u001b[0;32m-> 1048\u001b[0;31m             \u001b[0minput_data\u001b[0m \u001b[0;34m=\u001b[0m \u001b[0mvalidator\u001b[0m\u001b[0;34m(\u001b[0m\u001b[0mcls_\u001b[0m\u001b[0;34m,\u001b[0m \u001b[0minput_data\u001b[0m\u001b[0;34m)\u001b[0m\u001b[0;34m\u001b[0m\u001b[0;34m\u001b[0m\u001b[0m\n\u001b[0m\u001b[1;32m   1049\u001b[0m         \u001b[0;32mexcept\u001b[0m \u001b[0;34m(\u001b[0m\u001b[0mValueError\u001b[0m\u001b[0;34m,\u001b[0m \u001b[0mTypeError\u001b[0m\u001b[0;34m,\u001b[0m \u001b[0mAssertionError\u001b[0m\u001b[0;34m)\u001b[0m \u001b[0;32mas\u001b[0m \u001b[0mexc\u001b[0m\u001b[0;34m:\u001b[0m\u001b[0;34m\u001b[0m\u001b[0;34m\u001b[0m\u001b[0m\n\u001b[1;32m   1050\u001b[0m             \u001b[0;32mreturn\u001b[0m \u001b[0;34m{\u001b[0m\u001b[0;34m}\u001b[0m\u001b[0;34m,\u001b[0m \u001b[0mset\u001b[0m\u001b[0;34m(\u001b[0m\u001b[0;34m)\u001b[0m\u001b[0;34m,\u001b[0m \u001b[0mValidationError\u001b[0m\u001b[0;34m(\u001b[0m\u001b[0;34m[\u001b[0m\u001b[0mErrorWrapper\u001b[0m\u001b[0;34m(\u001b[0m\u001b[0mexc\u001b[0m\u001b[0;34m,\u001b[0m \u001b[0mloc\u001b[0m\u001b[0;34m=\u001b[0m\u001b[0mROOT_KEY\u001b[0m\u001b[0;34m)\u001b[0m\u001b[0;34m]\u001b[0m\u001b[0;34m,\u001b[0m \u001b[0mcls_\u001b[0m\u001b[0;34m)\u001b[0m\u001b[0;34m\u001b[0m\u001b[0;34m\u001b[0m\u001b[0m\n",
            "\u001b[0;32m/usr/local/lib/python3.10/dist-packages/langchain_core/prompts/chat.py\u001b[0m in \u001b[0;36mvalidate_input_variables\u001b[0;34m(cls, values)\u001b[0m\n\u001b[1;32m    968\u001b[0m             \u001b[0mValueError\u001b[0m\u001b[0;34m:\u001b[0m \u001b[0mIf\u001b[0m \u001b[0minput\u001b[0m \u001b[0mvariables\u001b[0m \u001b[0mdo\u001b[0m \u001b[0;32mnot\u001b[0m \u001b[0mmatch\u001b[0m\u001b[0;34m.\u001b[0m\u001b[0;34m\u001b[0m\u001b[0;34m\u001b[0m\u001b[0m\n\u001b[1;32m    969\u001b[0m         \"\"\"\n\u001b[0;32m--> 970\u001b[0;31m         \u001b[0mmessages\u001b[0m \u001b[0;34m=\u001b[0m \u001b[0mvalues\u001b[0m\u001b[0;34m[\u001b[0m\u001b[0;34m\"messages\"\u001b[0m\u001b[0;34m]\u001b[0m\u001b[0;34m\u001b[0m\u001b[0;34m\u001b[0m\u001b[0m\n\u001b[0m\u001b[1;32m    971\u001b[0m         \u001b[0minput_vars\u001b[0m \u001b[0;34m=\u001b[0m \u001b[0mset\u001b[0m\u001b[0;34m(\u001b[0m\u001b[0;34m)\u001b[0m\u001b[0;34m\u001b[0m\u001b[0;34m\u001b[0m\u001b[0m\n\u001b[1;32m    972\u001b[0m         \u001b[0moptional_variables\u001b[0m \u001b[0;34m=\u001b[0m \u001b[0mset\u001b[0m\u001b[0;34m(\u001b[0m\u001b[0;34m)\u001b[0m\u001b[0;34m\u001b[0m\u001b[0;34m\u001b[0m\u001b[0m\n",
            "\u001b[0;31mKeyError\u001b[0m: 'messages'"
          ]
        }
      ],
      "source": [
        "llm = ChatTogether(model_name=\"meta-llama/Llama-3-70b-chat-hf\", temperature=0)\n",
        "\n",
        "prompt_template = ChatPromptTemplate(\n",
        "    template=\"Determine the context of the following query: {query}\\n\"\n",
        "             \"Is it related to NLP, Computer Science, or neither?\",\n",
        "    input_variables=[\"query\"]\n",
        ")\n",
        "\n",
        "def get_context_chain(query):\n",
        "    prompt = prompt_template.format(query=query)\n",
        "    response = llm(prompt)\n",
        "    return response\n",
        "\n",
        "query = \"Explain the transformer architecture used in NLP.\"\n",
        "context = get_context_chain(query)\n",
        "print(f\"Query: {query}\")\n",
        "print(f\"Context: {context}\")\n"
      ]
    },
    {
      "cell_type": "code",
      "execution_count": null,
      "metadata": {
        "colab": {
          "base_uri": "https://localhost:8080/",
          "height": 140
        },
        "id": "KAA5gVqJWlCR",
        "outputId": "7f64544c-ff16-439e-ad6f-9d38ed9d2113"
      },
      "outputs": [
        {
          "data": {
            "application/vnd.google.colaboratory.intrinsic+json": {
              "type": "string"
            },
            "text/plain": [
              "'Here is the information you requested:\\n\\n**NLP Reference Book:**\\n\\nOne of the most popular and widely used NLP reference books is \"Natural Language Processing (almost) from Scratch\" by Collobert et al. (2011). However, there are many other excellent books on NLP that can serve as a reference, depending on your specific needs and goals.\\n\\n**Topics Covered in a Typical NLP Reference Book:**\\n\\nHere are some of the typical topics covered in a comprehensive NLP reference book:\\n\\n1. **Mathematical Foundations**: Linear Algebra, Calculus, Probability Theory, and Information Theory.\\n2. **Language Modeling**: N-gram models, Markov models, and neural network-based language models.\\n3. **Text Preprocessing**: Tokenization, Stopword removal, Stemming, Lemmatization, and Named Entity Recognition.\\n4. **Word Embeddings**: Word2Vec, GloVe, and FastText.\\n5. **Text Classification**: Sentiment Analysis, Spam Detection, and Topic Modeling.\\n6. **Sequence Labeling**: Part-of-Speech Tagging, Named Entity Recognition, and Chunking.\\n7. **Dependency Parsing**: Syntactic Dependency Parsing and Semantic Role Labeling.\\n8. **Machine Translation**: Statistical Machine Translation and Neural Machine Translation.\\n9. **Question Answering**: Question Classification, Answer Extraction, and Answer Generation.\\n10. ** Dialogue Systems**: Chatbots, Conversational Agents, and Dialogue Management.\\n11. **Deep Learning for NLP**: Recurrent Neural Networks (RNNs), Long Short-Term Memory (LSTM) Networks, and Transformers.\\n12. **Specialized NLP Topics**: Coreference Resolution, Event Extraction, and Sentiment Analysis.\\n\\n**Persian Translation:**\\n\\nکتاب مرجع پردازش زبان طبیعی:\\n\\nیکی از کتاب\\u200cهای مرجع پردازش زبان طبیعی که بسیار محبوب و گسترده استفاده می\\u200cشود، \"پردازش زبان طبیعی (تقریبا) از ابتدا\" توسط کولوبرت و همکاران (۲۰۱۱) است. با این حال، کتاب\\u200cهای دیگری نیز در مورد پردازش زبان طبیعی وجود دارند که می\\u200cتوانند به عنوان مرجع استفاده شوند، بسته به نیازها و اهداف خاص شما.\\n\\n**موضوعات پوشش داده شده در کتاب مرجع پردازش زبان طبیعی:**\\n\\n۱. **پایه\\u200cهای ریاضی**: جبر خطی، حساب دیفرانسیل و انتگرال، نظریه احتمال و نظریه اطلاعات.\\n۲. **مدل\\u200cسازی زبان**: مدل\\u200cهای N-گرام، مدل\\u200cهای مارکوف و مدل\\u200cهای شبکه عصبی زبان.\\n۳. **پیش\\u200cپردازش متن**: توکن\\u200cسازی، حذف کلمات توقف، ریشه\\u200cیابی، لمت\\u200cسازی و شناسایی موجودیت نامگذاری شده.\\n۴. **تودرتو کلمات**: Word2Vec، GloVe و FastText.\\n۵. **کلاس\\u200cبندی متن**: تحلیل احساسات، تشخیص اسپم و مدل\\u200cسازی موضوع.\\n۶. **برچسب\\u200cگذاری توالی**: برچسب\\u200cگذاری بخش کلامی، شناسایی موجودیت نامگذاری شده و چانکینگ.\\n۷. **پارسیнг وابستگی**: پارسیнг وابستگی نحوی و برچسب\\u200cگذاری نقش معنایی.\\n۸. **ترجمه ماشینی**: ترجمه ماشینی آماری و ترجمه ماشینی عصبی.\\n۹. **پاسخ به پرسش**: طبقه\\u200cبندی پرسش، استخراج پاسخ و تولید پاسخ.\\n۱۰. **سیستم\\u200cهای گفتگو**: ربات\\u200cهای چَت، عوامل گفتگو و مدیریت گفتگو.\\n۱۱. **یادگیری عمیق برای پردازش زبان طبیعی**: شبکه\\u200cهای عصبی بازگشتی (RNN)، شبکه\\u200cهای حافظه کوتاه\\u200cمدت بلندمدت (LSTM) و ترانسفورمرها.\\n۱۲. **موضوعات تخصصی پردازش زبان طبیعی**: حل هم\\u200cمرجع، استخراج رویداد و تحلیل احساسات.'"
            ]
          },
          "execution_count": 20,
          "metadata": {},
          "output_type": "execute_result"
        }
      ],
      "source": [
        "from pprint import pprint\n",
        "\n",
        "# raw_prompt = \"Hi, I'm learning langchain to use it with LLMs and make awesome stuff!\"\n",
        "# raw_prompt = \"سلام . من علاقه‌مند به یادگیری تکنولوژی اسپارک و هدوپ و کافکا برای یافتن شغل مهندس داده هستم.\"\n",
        "\n",
        "raw_prompt2 = 'Hi my dear assistant ! What is NLP and What does it do in our lifes ?'\n",
        "raw_prompt3 = 'What is NLP Reference book and What\\'s the topics of this book ? please tell me in persian . thanks'\n",
        "llm.invoke(raw_prompt3).content"
      ]
    },
    {
      "cell_type": "code",
      "execution_count": null,
      "metadata": {
        "colab": {
          "base_uri": "https://localhost:8080/",
          "height": 356
        },
        "id": "aEDvvAjGYB7N",
        "outputId": "ee66df8c-12fe-4e42-f560-5683e77b3944"
      },
      "outputs": [
        {
          "ename": "KeyError",
          "evalue": "\"Input to ChatPromptTemplate is missing variables {'query'}.  Expected: ['query', 'tool'] Received: ['tool']\"",
          "output_type": "error",
          "traceback": [
            "\u001b[0;31m---------------------------------------------------------------------------\u001b[0m",
            "\u001b[0;31mKeyError\u001b[0m                                  Traceback (most recent call last)",
            "\u001b[0;32m<ipython-input-8-6d57b1a9b919>\u001b[0m in \u001b[0;36m<cell line: 8>\u001b[0;34m()\u001b[0m\n\u001b[1;32m      6\u001b[0m )\n\u001b[1;32m      7\u001b[0m \u001b[0;34m\u001b[0m\u001b[0m\n\u001b[0;32m----> 8\u001b[0;31m prompt_chat_template.invoke({\n\u001b[0m\u001b[1;32m      9\u001b[0m     \u001b[0;34m\"tool\"\u001b[0m\u001b[0;34m:\u001b[0m\u001b[0;34m\"llama_index\"\u001b[0m\u001b[0;34m\u001b[0m\u001b[0;34m\u001b[0m\u001b[0m\n\u001b[1;32m     10\u001b[0m })\n",
            "\u001b[0;32m/usr/local/lib/python3.10/dist-packages/langchain_core/prompts/base.py\u001b[0m in \u001b[0;36minvoke\u001b[0;34m(self, input, config)\u001b[0m\n\u001b[1;32m    177\u001b[0m         \u001b[0;32mif\u001b[0m \u001b[0mself\u001b[0m\u001b[0;34m.\u001b[0m\u001b[0mtags\u001b[0m\u001b[0;34m:\u001b[0m\u001b[0;34m\u001b[0m\u001b[0;34m\u001b[0m\u001b[0m\n\u001b[1;32m    178\u001b[0m             \u001b[0mconfig\u001b[0m\u001b[0;34m[\u001b[0m\u001b[0;34m\"tags\"\u001b[0m\u001b[0;34m]\u001b[0m \u001b[0;34m=\u001b[0m \u001b[0mconfig\u001b[0m\u001b[0;34m[\u001b[0m\u001b[0;34m\"tags\"\u001b[0m\u001b[0;34m]\u001b[0m \u001b[0;34m+\u001b[0m \u001b[0mself\u001b[0m\u001b[0;34m.\u001b[0m\u001b[0mtags\u001b[0m\u001b[0;34m\u001b[0m\u001b[0;34m\u001b[0m\u001b[0m\n\u001b[0;32m--> 179\u001b[0;31m         return self._call_with_config(\n\u001b[0m\u001b[1;32m    180\u001b[0m             \u001b[0mself\u001b[0m\u001b[0;34m.\u001b[0m\u001b[0m_format_prompt_with_error_handling\u001b[0m\u001b[0;34m,\u001b[0m\u001b[0;34m\u001b[0m\u001b[0;34m\u001b[0m\u001b[0m\n\u001b[1;32m    181\u001b[0m             \u001b[0minput\u001b[0m\u001b[0;34m,\u001b[0m\u001b[0;34m\u001b[0m\u001b[0;34m\u001b[0m\u001b[0m\n",
            "\u001b[0;32m/usr/local/lib/python3.10/dist-packages/langchain_core/runnables/base.py\u001b[0m in \u001b[0;36m_call_with_config\u001b[0;34m(self, func, input, config, run_type, **kwargs)\u001b[0m\n\u001b[1;32m   1592\u001b[0m             output = cast(\n\u001b[1;32m   1593\u001b[0m                 \u001b[0mOutput\u001b[0m\u001b[0;34m,\u001b[0m\u001b[0;34m\u001b[0m\u001b[0;34m\u001b[0m\u001b[0m\n\u001b[0;32m-> 1594\u001b[0;31m                 context.run(\n\u001b[0m\u001b[1;32m   1595\u001b[0m                     \u001b[0mcall_func_with_variable_args\u001b[0m\u001b[0;34m,\u001b[0m  \u001b[0;31m# type: ignore[arg-type]\u001b[0m\u001b[0;34m\u001b[0m\u001b[0;34m\u001b[0m\u001b[0m\n\u001b[1;32m   1596\u001b[0m                     \u001b[0mfunc\u001b[0m\u001b[0;34m,\u001b[0m  \u001b[0;31m# type: ignore[arg-type]\u001b[0m\u001b[0;34m\u001b[0m\u001b[0;34m\u001b[0m\u001b[0m\n",
            "\u001b[0;32m/usr/local/lib/python3.10/dist-packages/langchain_core/runnables/config.py\u001b[0m in \u001b[0;36mcall_func_with_variable_args\u001b[0;34m(func, input, config, run_manager, **kwargs)\u001b[0m\n\u001b[1;32m    378\u001b[0m     \u001b[0;32mif\u001b[0m \u001b[0mrun_manager\u001b[0m \u001b[0;32mis\u001b[0m \u001b[0;32mnot\u001b[0m \u001b[0;32mNone\u001b[0m \u001b[0;32mand\u001b[0m \u001b[0maccepts_run_manager\u001b[0m\u001b[0;34m(\u001b[0m\u001b[0mfunc\u001b[0m\u001b[0;34m)\u001b[0m\u001b[0;34m:\u001b[0m\u001b[0;34m\u001b[0m\u001b[0;34m\u001b[0m\u001b[0m\n\u001b[1;32m    379\u001b[0m         \u001b[0mkwargs\u001b[0m\u001b[0;34m[\u001b[0m\u001b[0;34m\"run_manager\"\u001b[0m\u001b[0;34m]\u001b[0m \u001b[0;34m=\u001b[0m \u001b[0mrun_manager\u001b[0m\u001b[0;34m\u001b[0m\u001b[0;34m\u001b[0m\u001b[0m\n\u001b[0;32m--> 380\u001b[0;31m     \u001b[0;32mreturn\u001b[0m \u001b[0mfunc\u001b[0m\u001b[0;34m(\u001b[0m\u001b[0minput\u001b[0m\u001b[0;34m,\u001b[0m \u001b[0;34m**\u001b[0m\u001b[0mkwargs\u001b[0m\u001b[0;34m)\u001b[0m  \u001b[0;31m# type: ignore[call-arg]\u001b[0m\u001b[0;34m\u001b[0m\u001b[0;34m\u001b[0m\u001b[0m\n\u001b[0m\u001b[1;32m    381\u001b[0m \u001b[0;34m\u001b[0m\u001b[0m\n\u001b[1;32m    382\u001b[0m \u001b[0;34m\u001b[0m\u001b[0m\n",
            "\u001b[0;32m/usr/local/lib/python3.10/dist-packages/langchain_core/prompts/base.py\u001b[0m in \u001b[0;36m_format_prompt_with_error_handling\u001b[0;34m(self, inner_input)\u001b[0m\n\u001b[1;32m    151\u001b[0m \u001b[0;34m\u001b[0m\u001b[0m\n\u001b[1;32m    152\u001b[0m     \u001b[0;32mdef\u001b[0m \u001b[0m_format_prompt_with_error_handling\u001b[0m\u001b[0;34m(\u001b[0m\u001b[0mself\u001b[0m\u001b[0;34m,\u001b[0m \u001b[0minner_input\u001b[0m\u001b[0;34m:\u001b[0m \u001b[0mDict\u001b[0m\u001b[0;34m)\u001b[0m \u001b[0;34m->\u001b[0m \u001b[0mPromptValue\u001b[0m\u001b[0;34m:\u001b[0m\u001b[0;34m\u001b[0m\u001b[0;34m\u001b[0m\u001b[0m\n\u001b[0;32m--> 153\u001b[0;31m         \u001b[0m_inner_input\u001b[0m \u001b[0;34m=\u001b[0m \u001b[0mself\u001b[0m\u001b[0;34m.\u001b[0m\u001b[0m_validate_input\u001b[0m\u001b[0;34m(\u001b[0m\u001b[0minner_input\u001b[0m\u001b[0;34m)\u001b[0m\u001b[0;34m\u001b[0m\u001b[0;34m\u001b[0m\u001b[0m\n\u001b[0m\u001b[1;32m    154\u001b[0m         \u001b[0;32mreturn\u001b[0m \u001b[0mself\u001b[0m\u001b[0;34m.\u001b[0m\u001b[0mformat_prompt\u001b[0m\u001b[0;34m(\u001b[0m\u001b[0;34m**\u001b[0m\u001b[0m_inner_input\u001b[0m\u001b[0;34m)\u001b[0m\u001b[0;34m\u001b[0m\u001b[0;34m\u001b[0m\u001b[0m\n\u001b[1;32m    155\u001b[0m \u001b[0;34m\u001b[0m\u001b[0m\n",
            "\u001b[0;32m/usr/local/lib/python3.10/dist-packages/langchain_core/prompts/base.py\u001b[0m in \u001b[0;36m_validate_input\u001b[0;34m(self, inner_input)\u001b[0m\n\u001b[1;32m    143\u001b[0m         \u001b[0mmissing\u001b[0m \u001b[0;34m=\u001b[0m \u001b[0mset\u001b[0m\u001b[0;34m(\u001b[0m\u001b[0mself\u001b[0m\u001b[0;34m.\u001b[0m\u001b[0minput_variables\u001b[0m\u001b[0;34m)\u001b[0m\u001b[0;34m.\u001b[0m\u001b[0mdifference\u001b[0m\u001b[0;34m(\u001b[0m\u001b[0minner_input\u001b[0m\u001b[0;34m)\u001b[0m\u001b[0;34m\u001b[0m\u001b[0;34m\u001b[0m\u001b[0m\n\u001b[1;32m    144\u001b[0m         \u001b[0;32mif\u001b[0m \u001b[0mmissing\u001b[0m\u001b[0;34m:\u001b[0m\u001b[0;34m\u001b[0m\u001b[0;34m\u001b[0m\u001b[0m\n\u001b[0;32m--> 145\u001b[0;31m             raise KeyError(\n\u001b[0m\u001b[1;32m    146\u001b[0m                 \u001b[0;34mf\"Input to {self.__class__.__name__} is missing variables {missing}. \"\u001b[0m\u001b[0;34m\u001b[0m\u001b[0;34m\u001b[0m\u001b[0m\n\u001b[1;32m    147\u001b[0m                 \u001b[0;34mf\" Expected: {self.input_variables}\"\u001b[0m\u001b[0;34m\u001b[0m\u001b[0;34m\u001b[0m\u001b[0m\n",
            "\u001b[0;31mKeyError\u001b[0m: \"Input to ChatPromptTemplate is missing variables {'query'}.  Expected: ['query', 'tool'] Received: ['tool']\""
          ]
        }
      ],
      "source": [
        "prompt_template = \"Hi, I'm learning {tool} to use it for classify of {query} in one of the 3 categories. \\\n",
        "Natural Language Processing , Computer Science or None of them.\"\n",
        "\n",
        "prompt_chat_template = ChatPromptTemplate.from_template(\n",
        "    template=prompt_template,\n",
        ")\n",
        "\n",
        "prompt_chat_template.invoke({\n",
        "    \"tool\":\"llama_index\" ,\n",
        "    \"query\" : \"query\"\n",
        "})\n"
      ]
    },
    {
      "cell_type": "code",
      "execution_count": null,
      "metadata": {
        "colab": {
          "base_uri": "https://localhost:8080/",
          "height": 88
        },
        "id": "T7VpfELMYY79",
        "outputId": "19f2d7f9-ccf5-4f8c-93bb-5371607bd739"
      },
      "outputs": [
        {
          "data": {
            "application/vnd.google.colaboratory.intrinsic+json": {
              "type": "string"
            },
            "text/plain": [
              "\"That's great to hear! LlamaIndex is an amazing tool for building applications with Large Language Models (LLMs). It provides a simple and efficient way to index and query large language models, making it easier to integrate them into your projects.\\n\\nWhat kind of awesome stuff are you planning to build with LlamaIndex and LLMs? Are you looking to create a chatbot, a language-based game, or something entirely new?\\n\\nIf you have any questions or need help getting started with LlamaIndex, feel free to ask. I'm here to assist you!\""
            ]
          },
          "execution_count": 25,
          "metadata": {},
          "output_type": "execute_result"
        }
      ],
      "source": [
        "prompt = prompt_chat_template.invoke({\n",
        "    \"tool\":\"llama_index\"\n",
        "})\n",
        "llm.invoke(prompt).content"
      ]
    },
    {
      "cell_type": "code",
      "execution_count": null,
      "metadata": {
        "colab": {
          "base_uri": "https://localhost:8080/",
          "height": 88
        },
        "id": "aNHvSTxEZAg4",
        "outputId": "81e9cbf6-0254-4d84-c576-37a49b4ba356"
      },
      "outputs": [
        {
          "data": {
            "application/vnd.google.colaboratory.intrinsic+json": {
              "type": "string"
            },
            "text/plain": [
              "\"That's great to hear! LlamaIndex is an amazing tool for building applications with Large Language Models (LLMs). It provides a simple and efficient way to index and query large language models, making it easier to integrate them into your projects.\\n\\nWhat kind of awesome stuff are you planning to build with LlamaIndex and LLMs? Are you looking to create a chatbot, a language-based game, or something entirely new?\\n\\nIf you have any questions or need help getting started with LlamaIndex, feel free to ask! I'm here to assist you.\""
            ]
          },
          "execution_count": 26,
          "metadata": {},
          "output_type": "execute_result"
        }
      ],
      "source": [
        "chain = prompt_chat_template | llm\n",
        "\n",
        "chain.invoke(\n",
        "    {\n",
        "    \"tool\":\"llama_index\"\n",
        "  }\n",
        ").content"
      ]
    },
    {
      "cell_type": "code",
      "execution_count": null,
      "metadata": {
        "id": "ZoE360VqM5ci"
      },
      "outputs": [],
      "source": [
        "# Set up a parser + inject instructions into the prompt template.\n",
        "\n",
        "router_prompt_template = (\n",
        " \"You are an expert in routing user queries to either a VectorStore or A Fallback Message\\n\"\n",
        " \"Your VectorStore contains data about migraine, diabetes and malaria. if the given query is about one of these diseases, choose VectorStore\"\n",
        " \"If the query is not related to medical questions at all, DO NOT choose any tool.\"\n",
        " \"Give me only and only the name of the tool you chose and nothing more. If there are no chose tool, give me back the string None\"\n",
        " \"{output_instructions}\"\n",
        " \"query: {query}\"\n",
        ")\n",
        "\n",
        "\n",
        "prompt = ChatPromptTemplate.from_template(\n",
        "    template=router_prompt_template,\n",
        ")\n"
      ]
    },
    {
      "cell_type": "markdown",
      "metadata": {
        "id": "j-OgcFBFPod6"
      },
      "source": [
        "### Pydantic Parser"
      ]
    },
    {
      "cell_type": "code",
      "execution_count": null,
      "metadata": {
        "colab": {
          "base_uri": "https://localhost:8080/",
          "height": 105
        },
        "id": "dI-x5OURPnpl",
        "outputId": "7400ae1b-029e-4b00-ce79-0d4b9c0ee303"
      },
      "outputs": [
        {
          "data": {
            "application/vnd.google.colaboratory.intrinsic+json": {
              "type": "string"
            },
            "text/plain": [
              "'The output should be formatted as a JSON instance that conforms to the JSON schema below.\\n\\nAs an example, for the schema {\"properties\": {\"foo\": {\"title\": \"Foo\", \"description\": \"a list of strings\", \"type\": \"array\", \"items\": {\"type\": \"string\"}}}, \"required\": [\"foo\"]}\\nthe object {\"foo\": [\"bar\", \"baz\"]} is a well-formatted instance of the schema. The object {\"properties\": {\"foo\": [\"bar\", \"baz\"]}} is not well-formatted.\\n\\nHere is the output schema:\\n```\\n{\"properties\": {\"tool_name\": {\"title\": \"Tool Name\", \"description\": \"the tool that was chosen by LLM in question routing stage\", \"enum\": [\"None\", \"VectorStore\"], \"type\": \"string\"}}, \"required\": [\"tool_name\"]}\\n```'"
            ]
          },
          "execution_count": 28,
          "metadata": {},
          "output_type": "execute_result"
        }
      ],
      "source": [
        "from typing import Literal\n",
        "\n",
        "class ChosenTool(BaseModel):\n",
        "    tool_name: Literal['None', \"VectorStore\"] = Field(description=\"the tool that was chosen by LLM in question routing stage\")\n",
        "\n",
        "\n",
        "question_router_parser = PydanticOutputParser(pydantic_object=ChosenTool)\n",
        "\n",
        "question_router_parser.get_format_instructions()"
      ]
    },
    {
      "cell_type": "code",
      "execution_count": null,
      "metadata": {
        "colab": {
          "base_uri": "https://localhost:8080/"
        },
        "id": "73vVZ4V2V6g2",
        "outputId": "441eb074-e3eb-4beb-af3e-c4dd93a8eba2"
      },
      "outputs": [
        {
          "data": {
            "text/plain": [
              "ChosenTool(tool_name='None')"
            ]
          },
          "execution_count": 63,
          "metadata": {},
          "output_type": "execute_result"
        }
      ],
      "source": [
        "question_router = prompt | llm | question_router_parser\n",
        "\n",
        "res = question_router.invoke({\"query\": \"my name is vahid\",\n",
        "                                   \"output_instructions\": question_router_parser.get_format_instructions()\n",
        " })\n",
        "res"
      ]
    },
    {
      "cell_type": "code",
      "execution_count": null,
      "metadata": {
        "colab": {
          "base_uri": "https://localhost:8080/"
        },
        "id": "1ILpOh61gJOQ",
        "outputId": "289444fb-8906-4b56-c8c3-0e4cbbbfc2ed"
      },
      "outputs": [
        {
          "data": {
            "text/plain": [
              "AIMessage(content='{\"tool_name\": \"VectorStore\"}', response_metadata={'token_usage': {'completion_tokens': 9, 'prompt_tokens': 283, 'total_tokens': 292}, 'model_name': 'meta-llama/Llama-3-70b-chat-hf', 'system_fingerprint': None, 'finish_reason': 'stop', 'logprobs': None}, id='run-ae57ec5f-28e8-46b9-88c3-608ced1bee8f-0', usage_metadata={'input_tokens': 283, 'output_tokens': 9, 'total_tokens': 292})"
            ]
          },
          "execution_count": 64,
          "metadata": {},
          "output_type": "execute_result"
        }
      ],
      "source": [
        "test_chain = prompt | llm\n",
        "\n",
        "test_chain.invoke({\n",
        "    \"query\": \"how dangerous is migraines?\",\n",
        "    \"output_instructions\": question_router_parser.get_format_instructions()\n",
        "})"
      ]
    }
  ],
  "metadata": {
    "accelerator": "GPU",
    "colab": {
      "collapsed_sections": [
        "zyhk0X4sddf7"
      ],
      "gpuType": "T4",
      "provenance": []
    },
    "kernelspec": {
      "display_name": "Python 3",
      "name": "python3"
    },
    "language_info": {
      "name": "python"
    },
    "widgets": {
      "application/vnd.jupyter.widget-state+json": {
        "0186b95cb5f04779a2ccc6c541ba2311": {
          "model_module": "@jupyter-widgets/controls",
          "model_module_version": "1.5.0",
          "model_name": "ProgressStyleModel",
          "state": {
            "_model_module": "@jupyter-widgets/controls",
            "_model_module_version": "1.5.0",
            "_model_name": "ProgressStyleModel",
            "_view_count": null,
            "_view_module": "@jupyter-widgets/base",
            "_view_module_version": "1.2.0",
            "_view_name": "StyleView",
            "bar_color": null,
            "description_width": ""
          }
        },
        "06ce9c8cb70a41adb8af9d75b79eb948": {
          "model_module": "@jupyter-widgets/controls",
          "model_module_version": "1.5.0",
          "model_name": "DescriptionStyleModel",
          "state": {
            "_model_module": "@jupyter-widgets/controls",
            "_model_module_version": "1.5.0",
            "_model_name": "DescriptionStyleModel",
            "_view_count": null,
            "_view_module": "@jupyter-widgets/base",
            "_view_module_version": "1.2.0",
            "_view_name": "StyleView",
            "description_width": ""
          }
        },
        "0803aa2ecc204374b951d0f23db10082": {
          "model_module": "@jupyter-widgets/controls",
          "model_module_version": "1.5.0",
          "model_name": "DescriptionStyleModel",
          "state": {
            "_model_module": "@jupyter-widgets/controls",
            "_model_module_version": "1.5.0",
            "_model_name": "DescriptionStyleModel",
            "_view_count": null,
            "_view_module": "@jupyter-widgets/base",
            "_view_module_version": "1.2.0",
            "_view_name": "StyleView",
            "description_width": ""
          }
        },
        "080d5a0b09ce4ec282950adc734ba590": {
          "model_module": "@jupyter-widgets/base",
          "model_module_version": "1.2.0",
          "model_name": "LayoutModel",
          "state": {
            "_model_module": "@jupyter-widgets/base",
            "_model_module_version": "1.2.0",
            "_model_name": "LayoutModel",
            "_view_count": null,
            "_view_module": "@jupyter-widgets/base",
            "_view_module_version": "1.2.0",
            "_view_name": "LayoutView",
            "align_content": null,
            "align_items": null,
            "align_self": null,
            "border": null,
            "bottom": null,
            "display": null,
            "flex": null,
            "flex_flow": null,
            "grid_area": null,
            "grid_auto_columns": null,
            "grid_auto_flow": null,
            "grid_auto_rows": null,
            "grid_column": null,
            "grid_gap": null,
            "grid_row": null,
            "grid_template_areas": null,
            "grid_template_columns": null,
            "grid_template_rows": null,
            "height": null,
            "justify_content": null,
            "justify_items": null,
            "left": null,
            "margin": null,
            "max_height": null,
            "max_width": null,
            "min_height": null,
            "min_width": null,
            "object_fit": null,
            "object_position": null,
            "order": null,
            "overflow": null,
            "overflow_x": null,
            "overflow_y": null,
            "padding": null,
            "right": null,
            "top": null,
            "visibility": null,
            "width": null
          }
        },
        "08f9773788034b1780ec96292819f10c": {
          "model_module": "@jupyter-widgets/base",
          "model_module_version": "1.2.0",
          "model_name": "LayoutModel",
          "state": {
            "_model_module": "@jupyter-widgets/base",
            "_model_module_version": "1.2.0",
            "_model_name": "LayoutModel",
            "_view_count": null,
            "_view_module": "@jupyter-widgets/base",
            "_view_module_version": "1.2.0",
            "_view_name": "LayoutView",
            "align_content": null,
            "align_items": null,
            "align_self": null,
            "border": null,
            "bottom": null,
            "display": null,
            "flex": null,
            "flex_flow": null,
            "grid_area": null,
            "grid_auto_columns": null,
            "grid_auto_flow": null,
            "grid_auto_rows": null,
            "grid_column": null,
            "grid_gap": null,
            "grid_row": null,
            "grid_template_areas": null,
            "grid_template_columns": null,
            "grid_template_rows": null,
            "height": null,
            "justify_content": null,
            "justify_items": null,
            "left": null,
            "margin": null,
            "max_height": null,
            "max_width": null,
            "min_height": null,
            "min_width": null,
            "object_fit": null,
            "object_position": null,
            "order": null,
            "overflow": null,
            "overflow_x": null,
            "overflow_y": null,
            "padding": null,
            "right": null,
            "top": null,
            "visibility": null,
            "width": null
          }
        },
        "0a155049d12d47f58a5b611efd210ff8": {
          "model_module": "@jupyter-widgets/base",
          "model_module_version": "1.2.0",
          "model_name": "LayoutModel",
          "state": {
            "_model_module": "@jupyter-widgets/base",
            "_model_module_version": "1.2.0",
            "_model_name": "LayoutModel",
            "_view_count": null,
            "_view_module": "@jupyter-widgets/base",
            "_view_module_version": "1.2.0",
            "_view_name": "LayoutView",
            "align_content": null,
            "align_items": null,
            "align_self": null,
            "border": null,
            "bottom": null,
            "display": null,
            "flex": null,
            "flex_flow": null,
            "grid_area": null,
            "grid_auto_columns": null,
            "grid_auto_flow": null,
            "grid_auto_rows": null,
            "grid_column": null,
            "grid_gap": null,
            "grid_row": null,
            "grid_template_areas": null,
            "grid_template_columns": null,
            "grid_template_rows": null,
            "height": null,
            "justify_content": null,
            "justify_items": null,
            "left": null,
            "margin": null,
            "max_height": null,
            "max_width": null,
            "min_height": null,
            "min_width": null,
            "object_fit": null,
            "object_position": null,
            "order": null,
            "overflow": null,
            "overflow_x": null,
            "overflow_y": null,
            "padding": null,
            "right": null,
            "top": null,
            "visibility": null,
            "width": null
          }
        },
        "0c0bea2d4cfa43ce892afcae99478374": {
          "model_module": "@jupyter-widgets/controls",
          "model_module_version": "1.5.0",
          "model_name": "HTMLModel",
          "state": {
            "_dom_classes": [],
            "_model_module": "@jupyter-widgets/controls",
            "_model_module_version": "1.5.0",
            "_model_name": "HTMLModel",
            "_view_count": null,
            "_view_module": "@jupyter-widgets/controls",
            "_view_module_version": "1.5.0",
            "_view_name": "HTMLView",
            "description": "",
            "description_tooltip": null,
            "layout": "IPY_MODEL_c96a999d6e8b4c578ceb4ca004ab1995",
            "placeholder": "​",
            "style": "IPY_MODEL_2c2380df56c9403eb9ee4983ab1b8c12",
            "value": "1_Pooling/config.json: 100%"
          }
        },
        "0c296ddf9a204458b39b5899e8b0c599": {
          "model_module": "@jupyter-widgets/base",
          "model_module_version": "1.2.0",
          "model_name": "LayoutModel",
          "state": {
            "_model_module": "@jupyter-widgets/base",
            "_model_module_version": "1.2.0",
            "_model_name": "LayoutModel",
            "_view_count": null,
            "_view_module": "@jupyter-widgets/base",
            "_view_module_version": "1.2.0",
            "_view_name": "LayoutView",
            "align_content": null,
            "align_items": null,
            "align_self": null,
            "border": null,
            "bottom": null,
            "display": null,
            "flex": null,
            "flex_flow": null,
            "grid_area": null,
            "grid_auto_columns": null,
            "grid_auto_flow": null,
            "grid_auto_rows": null,
            "grid_column": null,
            "grid_gap": null,
            "grid_row": null,
            "grid_template_areas": null,
            "grid_template_columns": null,
            "grid_template_rows": null,
            "height": null,
            "justify_content": null,
            "justify_items": null,
            "left": null,
            "margin": null,
            "max_height": null,
            "max_width": null,
            "min_height": null,
            "min_width": null,
            "object_fit": null,
            "object_position": null,
            "order": null,
            "overflow": null,
            "overflow_x": null,
            "overflow_y": null,
            "padding": null,
            "right": null,
            "top": null,
            "visibility": null,
            "width": null
          }
        },
        "0e966b6a7b2f4f1f93850e6a249ae007": {
          "model_module": "@jupyter-widgets/base",
          "model_module_version": "1.2.0",
          "model_name": "LayoutModel",
          "state": {
            "_model_module": "@jupyter-widgets/base",
            "_model_module_version": "1.2.0",
            "_model_name": "LayoutModel",
            "_view_count": null,
            "_view_module": "@jupyter-widgets/base",
            "_view_module_version": "1.2.0",
            "_view_name": "LayoutView",
            "align_content": null,
            "align_items": null,
            "align_self": null,
            "border": null,
            "bottom": null,
            "display": null,
            "flex": null,
            "flex_flow": null,
            "grid_area": null,
            "grid_auto_columns": null,
            "grid_auto_flow": null,
            "grid_auto_rows": null,
            "grid_column": null,
            "grid_gap": null,
            "grid_row": null,
            "grid_template_areas": null,
            "grid_template_columns": null,
            "grid_template_rows": null,
            "height": null,
            "justify_content": null,
            "justify_items": null,
            "left": null,
            "margin": null,
            "max_height": null,
            "max_width": null,
            "min_height": null,
            "min_width": null,
            "object_fit": null,
            "object_position": null,
            "order": null,
            "overflow": null,
            "overflow_x": null,
            "overflow_y": null,
            "padding": null,
            "right": null,
            "top": null,
            "visibility": null,
            "width": null
          }
        },
        "1458203bb7cb4493ac1362c2e092a6e0": {
          "model_module": "@jupyter-widgets/base",
          "model_module_version": "1.2.0",
          "model_name": "LayoutModel",
          "state": {
            "_model_module": "@jupyter-widgets/base",
            "_model_module_version": "1.2.0",
            "_model_name": "LayoutModel",
            "_view_count": null,
            "_view_module": "@jupyter-widgets/base",
            "_view_module_version": "1.2.0",
            "_view_name": "LayoutView",
            "align_content": null,
            "align_items": null,
            "align_self": null,
            "border": null,
            "bottom": null,
            "display": null,
            "flex": null,
            "flex_flow": null,
            "grid_area": null,
            "grid_auto_columns": null,
            "grid_auto_flow": null,
            "grid_auto_rows": null,
            "grid_column": null,
            "grid_gap": null,
            "grid_row": null,
            "grid_template_areas": null,
            "grid_template_columns": null,
            "grid_template_rows": null,
            "height": null,
            "justify_content": null,
            "justify_items": null,
            "left": null,
            "margin": null,
            "max_height": null,
            "max_width": null,
            "min_height": null,
            "min_width": null,
            "object_fit": null,
            "object_position": null,
            "order": null,
            "overflow": null,
            "overflow_x": null,
            "overflow_y": null,
            "padding": null,
            "right": null,
            "top": null,
            "visibility": null,
            "width": null
          }
        },
        "146fc9bfc7964bc69d83e1403d551787": {
          "model_module": "@jupyter-widgets/controls",
          "model_module_version": "1.5.0",
          "model_name": "FloatProgressModel",
          "state": {
            "_dom_classes": [],
            "_model_module": "@jupyter-widgets/controls",
            "_model_module_version": "1.5.0",
            "_model_name": "FloatProgressModel",
            "_view_count": null,
            "_view_module": "@jupyter-widgets/controls",
            "_view_module_version": "1.5.0",
            "_view_name": "ProgressView",
            "bar_style": "success",
            "description": "",
            "description_tooltip": null,
            "layout": "IPY_MODEL_8d436e63acb94f3c9e208dce3c649f47",
            "max": 190,
            "min": 0,
            "orientation": "horizontal",
            "style": "IPY_MODEL_1efc42f1084a4021aa5ddede07b73b63",
            "value": 190
          }
        },
        "163223dcc7b84de9bcf60febfd4e6532": {
          "model_module": "@jupyter-widgets/base",
          "model_module_version": "1.2.0",
          "model_name": "LayoutModel",
          "state": {
            "_model_module": "@jupyter-widgets/base",
            "_model_module_version": "1.2.0",
            "_model_name": "LayoutModel",
            "_view_count": null,
            "_view_module": "@jupyter-widgets/base",
            "_view_module_version": "1.2.0",
            "_view_name": "LayoutView",
            "align_content": null,
            "align_items": null,
            "align_self": null,
            "border": null,
            "bottom": null,
            "display": null,
            "flex": null,
            "flex_flow": null,
            "grid_area": null,
            "grid_auto_columns": null,
            "grid_auto_flow": null,
            "grid_auto_rows": null,
            "grid_column": null,
            "grid_gap": null,
            "grid_row": null,
            "grid_template_areas": null,
            "grid_template_columns": null,
            "grid_template_rows": null,
            "height": null,
            "justify_content": null,
            "justify_items": null,
            "left": null,
            "margin": null,
            "max_height": null,
            "max_width": null,
            "min_height": null,
            "min_width": null,
            "object_fit": null,
            "object_position": null,
            "order": null,
            "overflow": null,
            "overflow_x": null,
            "overflow_y": null,
            "padding": null,
            "right": null,
            "top": null,
            "visibility": null,
            "width": null
          }
        },
        "1e86bcfc15734eb69cca0625b2ccabf8": {
          "model_module": "@jupyter-widgets/base",
          "model_module_version": "1.2.0",
          "model_name": "LayoutModel",
          "state": {
            "_model_module": "@jupyter-widgets/base",
            "_model_module_version": "1.2.0",
            "_model_name": "LayoutModel",
            "_view_count": null,
            "_view_module": "@jupyter-widgets/base",
            "_view_module_version": "1.2.0",
            "_view_name": "LayoutView",
            "align_content": null,
            "align_items": null,
            "align_self": null,
            "border": null,
            "bottom": null,
            "display": null,
            "flex": null,
            "flex_flow": null,
            "grid_area": null,
            "grid_auto_columns": null,
            "grid_auto_flow": null,
            "grid_auto_rows": null,
            "grid_column": null,
            "grid_gap": null,
            "grid_row": null,
            "grid_template_areas": null,
            "grid_template_columns": null,
            "grid_template_rows": null,
            "height": null,
            "justify_content": null,
            "justify_items": null,
            "left": null,
            "margin": null,
            "max_height": null,
            "max_width": null,
            "min_height": null,
            "min_width": null,
            "object_fit": null,
            "object_position": null,
            "order": null,
            "overflow": null,
            "overflow_x": null,
            "overflow_y": null,
            "padding": null,
            "right": null,
            "top": null,
            "visibility": null,
            "width": null
          }
        },
        "1ec583962be74489b68d81a2af0fbac8": {
          "model_module": "@jupyter-widgets/base",
          "model_module_version": "1.2.0",
          "model_name": "LayoutModel",
          "state": {
            "_model_module": "@jupyter-widgets/base",
            "_model_module_version": "1.2.0",
            "_model_name": "LayoutModel",
            "_view_count": null,
            "_view_module": "@jupyter-widgets/base",
            "_view_module_version": "1.2.0",
            "_view_name": "LayoutView",
            "align_content": null,
            "align_items": null,
            "align_self": null,
            "border": null,
            "bottom": null,
            "display": null,
            "flex": null,
            "flex_flow": null,
            "grid_area": null,
            "grid_auto_columns": null,
            "grid_auto_flow": null,
            "grid_auto_rows": null,
            "grid_column": null,
            "grid_gap": null,
            "grid_row": null,
            "grid_template_areas": null,
            "grid_template_columns": null,
            "grid_template_rows": null,
            "height": null,
            "justify_content": null,
            "justify_items": null,
            "left": null,
            "margin": null,
            "max_height": null,
            "max_width": null,
            "min_height": null,
            "min_width": null,
            "object_fit": null,
            "object_position": null,
            "order": null,
            "overflow": null,
            "overflow_x": null,
            "overflow_y": null,
            "padding": null,
            "right": null,
            "top": null,
            "visibility": null,
            "width": null
          }
        },
        "1efc42f1084a4021aa5ddede07b73b63": {
          "model_module": "@jupyter-widgets/controls",
          "model_module_version": "1.5.0",
          "model_name": "ProgressStyleModel",
          "state": {
            "_model_module": "@jupyter-widgets/controls",
            "_model_module_version": "1.5.0",
            "_model_name": "ProgressStyleModel",
            "_view_count": null,
            "_view_module": "@jupyter-widgets/base",
            "_view_module_version": "1.2.0",
            "_view_name": "StyleView",
            "bar_color": null,
            "description_width": ""
          }
        },
        "225b0fbca58f49a6a17b971dcdfbf5ad": {
          "model_module": "@jupyter-widgets/controls",
          "model_module_version": "1.5.0",
          "model_name": "DescriptionStyleModel",
          "state": {
            "_model_module": "@jupyter-widgets/controls",
            "_model_module_version": "1.5.0",
            "_model_name": "DescriptionStyleModel",
            "_view_count": null,
            "_view_module": "@jupyter-widgets/base",
            "_view_module_version": "1.2.0",
            "_view_name": "StyleView",
            "description_width": ""
          }
        },
        "25155605fc2d4aff8547ed0ddab5bfcb": {
          "model_module": "@jupyter-widgets/controls",
          "model_module_version": "1.5.0",
          "model_name": "DescriptionStyleModel",
          "state": {
            "_model_module": "@jupyter-widgets/controls",
            "_model_module_version": "1.5.0",
            "_model_name": "DescriptionStyleModel",
            "_view_count": null,
            "_view_module": "@jupyter-widgets/base",
            "_view_module_version": "1.2.0",
            "_view_name": "StyleView",
            "description_width": ""
          }
        },
        "25e33e610aba46c5bd1ca3adf3740c0e": {
          "model_module": "@jupyter-widgets/base",
          "model_module_version": "1.2.0",
          "model_name": "LayoutModel",
          "state": {
            "_model_module": "@jupyter-widgets/base",
            "_model_module_version": "1.2.0",
            "_model_name": "LayoutModel",
            "_view_count": null,
            "_view_module": "@jupyter-widgets/base",
            "_view_module_version": "1.2.0",
            "_view_name": "LayoutView",
            "align_content": null,
            "align_items": null,
            "align_self": null,
            "border": null,
            "bottom": null,
            "display": null,
            "flex": null,
            "flex_flow": null,
            "grid_area": null,
            "grid_auto_columns": null,
            "grid_auto_flow": null,
            "grid_auto_rows": null,
            "grid_column": null,
            "grid_gap": null,
            "grid_row": null,
            "grid_template_areas": null,
            "grid_template_columns": null,
            "grid_template_rows": null,
            "height": null,
            "justify_content": null,
            "justify_items": null,
            "left": null,
            "margin": null,
            "max_height": null,
            "max_width": null,
            "min_height": null,
            "min_width": null,
            "object_fit": null,
            "object_position": null,
            "order": null,
            "overflow": null,
            "overflow_x": null,
            "overflow_y": null,
            "padding": null,
            "right": null,
            "top": null,
            "visibility": null,
            "width": null
          }
        },
        "2bbcccc7274e4c51ae6c5516b69a0b21": {
          "model_module": "@jupyter-widgets/controls",
          "model_module_version": "1.5.0",
          "model_name": "HTMLModel",
          "state": {
            "_dom_classes": [],
            "_model_module": "@jupyter-widgets/controls",
            "_model_module_version": "1.5.0",
            "_model_name": "HTMLModel",
            "_view_count": null,
            "_view_module": "@jupyter-widgets/controls",
            "_view_module_version": "1.5.0",
            "_view_name": "HTMLView",
            "description": "",
            "description_tooltip": null,
            "layout": "IPY_MODEL_c07756265a224365889d98d3a01ee0a7",
            "placeholder": "​",
            "style": "IPY_MODEL_b8baf64125f644458069102fcf7bc57d",
            "value": "model.safetensors: 100%"
          }
        },
        "2c2380df56c9403eb9ee4983ab1b8c12": {
          "model_module": "@jupyter-widgets/controls",
          "model_module_version": "1.5.0",
          "model_name": "DescriptionStyleModel",
          "state": {
            "_model_module": "@jupyter-widgets/controls",
            "_model_module_version": "1.5.0",
            "_model_name": "DescriptionStyleModel",
            "_view_count": null,
            "_view_module": "@jupyter-widgets/base",
            "_view_module_version": "1.2.0",
            "_view_name": "StyleView",
            "description_width": ""
          }
        },
        "2e58de8c413848e287ee575b85e7d42a": {
          "model_module": "@jupyter-widgets/controls",
          "model_module_version": "1.5.0",
          "model_name": "HTMLModel",
          "state": {
            "_dom_classes": [],
            "_model_module": "@jupyter-widgets/controls",
            "_model_module_version": "1.5.0",
            "_model_name": "HTMLModel",
            "_view_count": null,
            "_view_module": "@jupyter-widgets/controls",
            "_view_module_version": "1.5.0",
            "_view_name": "HTMLView",
            "description": "",
            "description_tooltip": null,
            "layout": "IPY_MODEL_163223dcc7b84de9bcf60febfd4e6532",
            "placeholder": "​",
            "style": "IPY_MODEL_225b0fbca58f49a6a17b971dcdfbf5ad",
            "value": "README.md: 100%"
          }
        },
        "2eff103a12bb4970a99f2b0625a0d708": {
          "model_module": "@jupyter-widgets/base",
          "model_module_version": "1.2.0",
          "model_name": "LayoutModel",
          "state": {
            "_model_module": "@jupyter-widgets/base",
            "_model_module_version": "1.2.0",
            "_model_name": "LayoutModel",
            "_view_count": null,
            "_view_module": "@jupyter-widgets/base",
            "_view_module_version": "1.2.0",
            "_view_name": "LayoutView",
            "align_content": null,
            "align_items": null,
            "align_self": null,
            "border": null,
            "bottom": null,
            "display": null,
            "flex": null,
            "flex_flow": null,
            "grid_area": null,
            "grid_auto_columns": null,
            "grid_auto_flow": null,
            "grid_auto_rows": null,
            "grid_column": null,
            "grid_gap": null,
            "grid_row": null,
            "grid_template_areas": null,
            "grid_template_columns": null,
            "grid_template_rows": null,
            "height": null,
            "justify_content": null,
            "justify_items": null,
            "left": null,
            "margin": null,
            "max_height": null,
            "max_width": null,
            "min_height": null,
            "min_width": null,
            "object_fit": null,
            "object_position": null,
            "order": null,
            "overflow": null,
            "overflow_x": null,
            "overflow_y": null,
            "padding": null,
            "right": null,
            "top": null,
            "visibility": null,
            "width": null
          }
        },
        "2f00dd66d9204ae3832c0fddf31d445d": {
          "model_module": "@jupyter-widgets/base",
          "model_module_version": "1.2.0",
          "model_name": "LayoutModel",
          "state": {
            "_model_module": "@jupyter-widgets/base",
            "_model_module_version": "1.2.0",
            "_model_name": "LayoutModel",
            "_view_count": null,
            "_view_module": "@jupyter-widgets/base",
            "_view_module_version": "1.2.0",
            "_view_name": "LayoutView",
            "align_content": null,
            "align_items": null,
            "align_self": null,
            "border": null,
            "bottom": null,
            "display": null,
            "flex": null,
            "flex_flow": null,
            "grid_area": null,
            "grid_auto_columns": null,
            "grid_auto_flow": null,
            "grid_auto_rows": null,
            "grid_column": null,
            "grid_gap": null,
            "grid_row": null,
            "grid_template_areas": null,
            "grid_template_columns": null,
            "grid_template_rows": null,
            "height": null,
            "justify_content": null,
            "justify_items": null,
            "left": null,
            "margin": null,
            "max_height": null,
            "max_width": null,
            "min_height": null,
            "min_width": null,
            "object_fit": null,
            "object_position": null,
            "order": null,
            "overflow": null,
            "overflow_x": null,
            "overflow_y": null,
            "padding": null,
            "right": null,
            "top": null,
            "visibility": null,
            "width": null
          }
        },
        "2f7497f164f4442da173defa5aaa2cea": {
          "model_module": "@jupyter-widgets/controls",
          "model_module_version": "1.5.0",
          "model_name": "DescriptionStyleModel",
          "state": {
            "_model_module": "@jupyter-widgets/controls",
            "_model_module_version": "1.5.0",
            "_model_name": "DescriptionStyleModel",
            "_view_count": null,
            "_view_module": "@jupyter-widgets/base",
            "_view_module_version": "1.2.0",
            "_view_name": "StyleView",
            "description_width": ""
          }
        },
        "33a7385c619e4d27b93dc13bab413e39": {
          "model_module": "@jupyter-widgets/controls",
          "model_module_version": "1.5.0",
          "model_name": "HBoxModel",
          "state": {
            "_dom_classes": [],
            "_model_module": "@jupyter-widgets/controls",
            "_model_module_version": "1.5.0",
            "_model_name": "HBoxModel",
            "_view_count": null,
            "_view_module": "@jupyter-widgets/controls",
            "_view_module_version": "1.5.0",
            "_view_name": "HBoxView",
            "box_style": "",
            "children": [
              "IPY_MODEL_0c0bea2d4cfa43ce892afcae99478374",
              "IPY_MODEL_146fc9bfc7964bc69d83e1403d551787",
              "IPY_MODEL_558e5654a8cd4d2195b6805d7529e83d"
            ],
            "layout": "IPY_MODEL_d586ffc0d6324fcea126004fea5fdea4"
          }
        },
        "348b7c80310d47aea52f7a5730781f1a": {
          "model_module": "@jupyter-widgets/base",
          "model_module_version": "1.2.0",
          "model_name": "LayoutModel",
          "state": {
            "_model_module": "@jupyter-widgets/base",
            "_model_module_version": "1.2.0",
            "_model_name": "LayoutModel",
            "_view_count": null,
            "_view_module": "@jupyter-widgets/base",
            "_view_module_version": "1.2.0",
            "_view_name": "LayoutView",
            "align_content": null,
            "align_items": null,
            "align_self": null,
            "border": null,
            "bottom": null,
            "display": null,
            "flex": null,
            "flex_flow": null,
            "grid_area": null,
            "grid_auto_columns": null,
            "grid_auto_flow": null,
            "grid_auto_rows": null,
            "grid_column": null,
            "grid_gap": null,
            "grid_row": null,
            "grid_template_areas": null,
            "grid_template_columns": null,
            "grid_template_rows": null,
            "height": null,
            "justify_content": null,
            "justify_items": null,
            "left": null,
            "margin": null,
            "max_height": null,
            "max_width": null,
            "min_height": null,
            "min_width": null,
            "object_fit": null,
            "object_position": null,
            "order": null,
            "overflow": null,
            "overflow_x": null,
            "overflow_y": null,
            "padding": null,
            "right": null,
            "top": null,
            "visibility": null,
            "width": null
          }
        },
        "35dffc1c243c4d129665f0ca0b9f83c0": {
          "model_module": "@jupyter-widgets/base",
          "model_module_version": "1.2.0",
          "model_name": "LayoutModel",
          "state": {
            "_model_module": "@jupyter-widgets/base",
            "_model_module_version": "1.2.0",
            "_model_name": "LayoutModel",
            "_view_count": null,
            "_view_module": "@jupyter-widgets/base",
            "_view_module_version": "1.2.0",
            "_view_name": "LayoutView",
            "align_content": null,
            "align_items": null,
            "align_self": null,
            "border": null,
            "bottom": null,
            "display": null,
            "flex": null,
            "flex_flow": null,
            "grid_area": null,
            "grid_auto_columns": null,
            "grid_auto_flow": null,
            "grid_auto_rows": null,
            "grid_column": null,
            "grid_gap": null,
            "grid_row": null,
            "grid_template_areas": null,
            "grid_template_columns": null,
            "grid_template_rows": null,
            "height": null,
            "justify_content": null,
            "justify_items": null,
            "left": null,
            "margin": null,
            "max_height": null,
            "max_width": null,
            "min_height": null,
            "min_width": null,
            "object_fit": null,
            "object_position": null,
            "order": null,
            "overflow": null,
            "overflow_x": null,
            "overflow_y": null,
            "padding": null,
            "right": null,
            "top": null,
            "visibility": null,
            "width": null
          }
        },
        "36a9d8ec02fa403b8f27da40cbc6fbe2": {
          "model_module": "@jupyter-widgets/base",
          "model_module_version": "1.2.0",
          "model_name": "LayoutModel",
          "state": {
            "_model_module": "@jupyter-widgets/base",
            "_model_module_version": "1.2.0",
            "_model_name": "LayoutModel",
            "_view_count": null,
            "_view_module": "@jupyter-widgets/base",
            "_view_module_version": "1.2.0",
            "_view_name": "LayoutView",
            "align_content": null,
            "align_items": null,
            "align_self": null,
            "border": null,
            "bottom": null,
            "display": null,
            "flex": null,
            "flex_flow": null,
            "grid_area": null,
            "grid_auto_columns": null,
            "grid_auto_flow": null,
            "grid_auto_rows": null,
            "grid_column": null,
            "grid_gap": null,
            "grid_row": null,
            "grid_template_areas": null,
            "grid_template_columns": null,
            "grid_template_rows": null,
            "height": null,
            "justify_content": null,
            "justify_items": null,
            "left": null,
            "margin": null,
            "max_height": null,
            "max_width": null,
            "min_height": null,
            "min_width": null,
            "object_fit": null,
            "object_position": null,
            "order": null,
            "overflow": null,
            "overflow_x": null,
            "overflow_y": null,
            "padding": null,
            "right": null,
            "top": null,
            "visibility": null,
            "width": null
          }
        },
        "3896b08946804989891ccbb13b908f44": {
          "model_module": "@jupyter-widgets/base",
          "model_module_version": "1.2.0",
          "model_name": "LayoutModel",
          "state": {
            "_model_module": "@jupyter-widgets/base",
            "_model_module_version": "1.2.0",
            "_model_name": "LayoutModel",
            "_view_count": null,
            "_view_module": "@jupyter-widgets/base",
            "_view_module_version": "1.2.0",
            "_view_name": "LayoutView",
            "align_content": null,
            "align_items": null,
            "align_self": null,
            "border": null,
            "bottom": null,
            "display": null,
            "flex": null,
            "flex_flow": null,
            "grid_area": null,
            "grid_auto_columns": null,
            "grid_auto_flow": null,
            "grid_auto_rows": null,
            "grid_column": null,
            "grid_gap": null,
            "grid_row": null,
            "grid_template_areas": null,
            "grid_template_columns": null,
            "grid_template_rows": null,
            "height": null,
            "justify_content": null,
            "justify_items": null,
            "left": null,
            "margin": null,
            "max_height": null,
            "max_width": null,
            "min_height": null,
            "min_width": null,
            "object_fit": null,
            "object_position": null,
            "order": null,
            "overflow": null,
            "overflow_x": null,
            "overflow_y": null,
            "padding": null,
            "right": null,
            "top": null,
            "visibility": null,
            "width": null
          }
        },
        "3a6e5fb6502b4fb0bd3ecf270c237575": {
          "model_module": "@jupyter-widgets/base",
          "model_module_version": "1.2.0",
          "model_name": "LayoutModel",
          "state": {
            "_model_module": "@jupyter-widgets/base",
            "_model_module_version": "1.2.0",
            "_model_name": "LayoutModel",
            "_view_count": null,
            "_view_module": "@jupyter-widgets/base",
            "_view_module_version": "1.2.0",
            "_view_name": "LayoutView",
            "align_content": null,
            "align_items": null,
            "align_self": null,
            "border": null,
            "bottom": null,
            "display": null,
            "flex": null,
            "flex_flow": null,
            "grid_area": null,
            "grid_auto_columns": null,
            "grid_auto_flow": null,
            "grid_auto_rows": null,
            "grid_column": null,
            "grid_gap": null,
            "grid_row": null,
            "grid_template_areas": null,
            "grid_template_columns": null,
            "grid_template_rows": null,
            "height": null,
            "justify_content": null,
            "justify_items": null,
            "left": null,
            "margin": null,
            "max_height": null,
            "max_width": null,
            "min_height": null,
            "min_width": null,
            "object_fit": null,
            "object_position": null,
            "order": null,
            "overflow": null,
            "overflow_x": null,
            "overflow_y": null,
            "padding": null,
            "right": null,
            "top": null,
            "visibility": null,
            "width": null
          }
        },
        "3c1e27cb36cb4caca60d8f7b5ac09709": {
          "model_module": "@jupyter-widgets/controls",
          "model_module_version": "1.5.0",
          "model_name": "DescriptionStyleModel",
          "state": {
            "_model_module": "@jupyter-widgets/controls",
            "_model_module_version": "1.5.0",
            "_model_name": "DescriptionStyleModel",
            "_view_count": null,
            "_view_module": "@jupyter-widgets/base",
            "_view_module_version": "1.2.0",
            "_view_name": "StyleView",
            "description_width": ""
          }
        },
        "3c4700acdb1146618a8e4f7f77a97023": {
          "model_module": "@jupyter-widgets/controls",
          "model_module_version": "1.5.0",
          "model_name": "HBoxModel",
          "state": {
            "_dom_classes": [],
            "_model_module": "@jupyter-widgets/controls",
            "_model_module_version": "1.5.0",
            "_model_name": "HBoxModel",
            "_view_count": null,
            "_view_module": "@jupyter-widgets/controls",
            "_view_module_version": "1.5.0",
            "_view_name": "HBoxView",
            "box_style": "",
            "children": [
              "IPY_MODEL_d29a985f900b4aba9b696f3b251d514d",
              "IPY_MODEL_95dbc43c21b64e0f80f87eb5824deb1f",
              "IPY_MODEL_a6672ffa27fd447ab68a359736db7ddb"
            ],
            "layout": "IPY_MODEL_4e13f7944bc24ae9bbb62759c1e4f3e6"
          }
        },
        "3d1b8f5fc4644a01a623d1b37b33e35b": {
          "model_module": "@jupyter-widgets/controls",
          "model_module_version": "1.5.0",
          "model_name": "FloatProgressModel",
          "state": {
            "_dom_classes": [],
            "_model_module": "@jupyter-widgets/controls",
            "_model_module_version": "1.5.0",
            "_model_name": "FloatProgressModel",
            "_view_count": null,
            "_view_module": "@jupyter-widgets/controls",
            "_view_module_version": "1.5.0",
            "_view_name": "ProgressView",
            "bar_style": "success",
            "description": "",
            "description_tooltip": null,
            "layout": "IPY_MODEL_c0e55ff22c4d46ee8307aa82af392d35",
            "max": 349,
            "min": 0,
            "orientation": "horizontal",
            "style": "IPY_MODEL_4e1d7bdff86b462191adfc7664fb8925",
            "value": 349
          }
        },
        "3db8b1ff8cf044e1b62cec76691b4c15": {
          "model_module": "@jupyter-widgets/controls",
          "model_module_version": "1.5.0",
          "model_name": "HTMLModel",
          "state": {
            "_dom_classes": [],
            "_model_module": "@jupyter-widgets/controls",
            "_model_module_version": "1.5.0",
            "_model_name": "HTMLModel",
            "_view_count": null,
            "_view_module": "@jupyter-widgets/controls",
            "_view_module_version": "1.5.0",
            "_view_name": "HTMLView",
            "description": "",
            "description_tooltip": null,
            "layout": "IPY_MODEL_43aed017d99e44868660a55aa031c3e2",
            "placeholder": "​",
            "style": "IPY_MODEL_80f1ce15a8274afb91782aff28abfe8a",
            "value": "special_tokens_map.json: 100%"
          }
        },
        "4124f05adf9040ee921cc56e418cf43b": {
          "model_module": "@jupyter-widgets/controls",
          "model_module_version": "1.5.0",
          "model_name": "HBoxModel",
          "state": {
            "_dom_classes": [],
            "_model_module": "@jupyter-widgets/controls",
            "_model_module_version": "1.5.0",
            "_model_name": "HBoxModel",
            "_view_count": null,
            "_view_module": "@jupyter-widgets/controls",
            "_view_module_version": "1.5.0",
            "_view_name": "HBoxView",
            "box_style": "",
            "children": [
              "IPY_MODEL_ff8624d9b07640f5aa18425a60b2ceae",
              "IPY_MODEL_a3262b5f644243ce9e8ae11a0644ccdf",
              "IPY_MODEL_eaf7e8ee84094d5ea386aa1da4cbe824"
            ],
            "layout": "IPY_MODEL_3a6e5fb6502b4fb0bd3ecf270c237575"
          }
        },
        "43624db382b245a292c2c235c1f7f3e2": {
          "model_module": "@jupyter-widgets/controls",
          "model_module_version": "1.5.0",
          "model_name": "ProgressStyleModel",
          "state": {
            "_model_module": "@jupyter-widgets/controls",
            "_model_module_version": "1.5.0",
            "_model_name": "ProgressStyleModel",
            "_view_count": null,
            "_view_module": "@jupyter-widgets/base",
            "_view_module_version": "1.2.0",
            "_view_name": "StyleView",
            "bar_color": null,
            "description_width": ""
          }
        },
        "43aed017d99e44868660a55aa031c3e2": {
          "model_module": "@jupyter-widgets/base",
          "model_module_version": "1.2.0",
          "model_name": "LayoutModel",
          "state": {
            "_model_module": "@jupyter-widgets/base",
            "_model_module_version": "1.2.0",
            "_model_name": "LayoutModel",
            "_view_count": null,
            "_view_module": "@jupyter-widgets/base",
            "_view_module_version": "1.2.0",
            "_view_name": "LayoutView",
            "align_content": null,
            "align_items": null,
            "align_self": null,
            "border": null,
            "bottom": null,
            "display": null,
            "flex": null,
            "flex_flow": null,
            "grid_area": null,
            "grid_auto_columns": null,
            "grid_auto_flow": null,
            "grid_auto_rows": null,
            "grid_column": null,
            "grid_gap": null,
            "grid_row": null,
            "grid_template_areas": null,
            "grid_template_columns": null,
            "grid_template_rows": null,
            "height": null,
            "justify_content": null,
            "justify_items": null,
            "left": null,
            "margin": null,
            "max_height": null,
            "max_width": null,
            "min_height": null,
            "min_width": null,
            "object_fit": null,
            "object_position": null,
            "order": null,
            "overflow": null,
            "overflow_x": null,
            "overflow_y": null,
            "padding": null,
            "right": null,
            "top": null,
            "visibility": null,
            "width": null
          }
        },
        "46b71c860f0845a5b2bb7655809f46b5": {
          "model_module": "@jupyter-widgets/base",
          "model_module_version": "1.2.0",
          "model_name": "LayoutModel",
          "state": {
            "_model_module": "@jupyter-widgets/base",
            "_model_module_version": "1.2.0",
            "_model_name": "LayoutModel",
            "_view_count": null,
            "_view_module": "@jupyter-widgets/base",
            "_view_module_version": "1.2.0",
            "_view_name": "LayoutView",
            "align_content": null,
            "align_items": null,
            "align_self": null,
            "border": null,
            "bottom": null,
            "display": null,
            "flex": null,
            "flex_flow": null,
            "grid_area": null,
            "grid_auto_columns": null,
            "grid_auto_flow": null,
            "grid_auto_rows": null,
            "grid_column": null,
            "grid_gap": null,
            "grid_row": null,
            "grid_template_areas": null,
            "grid_template_columns": null,
            "grid_template_rows": null,
            "height": null,
            "justify_content": null,
            "justify_items": null,
            "left": null,
            "margin": null,
            "max_height": null,
            "max_width": null,
            "min_height": null,
            "min_width": null,
            "object_fit": null,
            "object_position": null,
            "order": null,
            "overflow": null,
            "overflow_x": null,
            "overflow_y": null,
            "padding": null,
            "right": null,
            "top": null,
            "visibility": null,
            "width": null
          }
        },
        "49ed96536d8b4b6eb6c0e1c2a28cd21d": {
          "model_module": "@jupyter-widgets/controls",
          "model_module_version": "1.5.0",
          "model_name": "ProgressStyleModel",
          "state": {
            "_model_module": "@jupyter-widgets/controls",
            "_model_module_version": "1.5.0",
            "_model_name": "ProgressStyleModel",
            "_view_count": null,
            "_view_module": "@jupyter-widgets/base",
            "_view_module_version": "1.2.0",
            "_view_name": "StyleView",
            "bar_color": null,
            "description_width": ""
          }
        },
        "4b842ca489884aa5bddd669d32329029": {
          "model_module": "@jupyter-widgets/controls",
          "model_module_version": "1.5.0",
          "model_name": "DescriptionStyleModel",
          "state": {
            "_model_module": "@jupyter-widgets/controls",
            "_model_module_version": "1.5.0",
            "_model_name": "DescriptionStyleModel",
            "_view_count": null,
            "_view_module": "@jupyter-widgets/base",
            "_view_module_version": "1.2.0",
            "_view_name": "StyleView",
            "description_width": ""
          }
        },
        "4d3c24f74a40464eaa88f7eded05c730": {
          "model_module": "@jupyter-widgets/controls",
          "model_module_version": "1.5.0",
          "model_name": "FloatProgressModel",
          "state": {
            "_dom_classes": [],
            "_model_module": "@jupyter-widgets/controls",
            "_model_module_version": "1.5.0",
            "_model_name": "FloatProgressModel",
            "_view_count": null,
            "_view_module": "@jupyter-widgets/controls",
            "_view_module_version": "1.5.0",
            "_view_name": "ProgressView",
            "bar_style": "success",
            "description": "",
            "description_tooltip": null,
            "layout": "IPY_MODEL_71e48b666406479ea408029230601dbf",
            "max": 239,
            "min": 0,
            "orientation": "horizontal",
            "style": "IPY_MODEL_b56ddb6f25c248e7926bdaf9dc1d738d",
            "value": 239
          }
        },
        "4e13f7944bc24ae9bbb62759c1e4f3e6": {
          "model_module": "@jupyter-widgets/base",
          "model_module_version": "1.2.0",
          "model_name": "LayoutModel",
          "state": {
            "_model_module": "@jupyter-widgets/base",
            "_model_module_version": "1.2.0",
            "_model_name": "LayoutModel",
            "_view_count": null,
            "_view_module": "@jupyter-widgets/base",
            "_view_module_version": "1.2.0",
            "_view_name": "LayoutView",
            "align_content": null,
            "align_items": null,
            "align_self": null,
            "border": null,
            "bottom": null,
            "display": null,
            "flex": null,
            "flex_flow": null,
            "grid_area": null,
            "grid_auto_columns": null,
            "grid_auto_flow": null,
            "grid_auto_rows": null,
            "grid_column": null,
            "grid_gap": null,
            "grid_row": null,
            "grid_template_areas": null,
            "grid_template_columns": null,
            "grid_template_rows": null,
            "height": null,
            "justify_content": null,
            "justify_items": null,
            "left": null,
            "margin": null,
            "max_height": null,
            "max_width": null,
            "min_height": null,
            "min_width": null,
            "object_fit": null,
            "object_position": null,
            "order": null,
            "overflow": null,
            "overflow_x": null,
            "overflow_y": null,
            "padding": null,
            "right": null,
            "top": null,
            "visibility": null,
            "width": null
          }
        },
        "4e1d7bdff86b462191adfc7664fb8925": {
          "model_module": "@jupyter-widgets/controls",
          "model_module_version": "1.5.0",
          "model_name": "ProgressStyleModel",
          "state": {
            "_model_module": "@jupyter-widgets/controls",
            "_model_module_version": "1.5.0",
            "_model_name": "ProgressStyleModel",
            "_view_count": null,
            "_view_module": "@jupyter-widgets/base",
            "_view_module_version": "1.2.0",
            "_view_name": "StyleView",
            "bar_color": null,
            "description_width": ""
          }
        },
        "52e7ca74fdd94533a0555102decbdc6b": {
          "model_module": "@jupyter-widgets/controls",
          "model_module_version": "1.5.0",
          "model_name": "DescriptionStyleModel",
          "state": {
            "_model_module": "@jupyter-widgets/controls",
            "_model_module_version": "1.5.0",
            "_model_name": "DescriptionStyleModel",
            "_view_count": null,
            "_view_module": "@jupyter-widgets/base",
            "_view_module_version": "1.2.0",
            "_view_name": "StyleView",
            "description_width": ""
          }
        },
        "5334b3e407c3449da4de42b4cfbf5a8c": {
          "model_module": "@jupyter-widgets/controls",
          "model_module_version": "1.5.0",
          "model_name": "HBoxModel",
          "state": {
            "_dom_classes": [],
            "_model_module": "@jupyter-widgets/controls",
            "_model_module_version": "1.5.0",
            "_model_name": "HBoxModel",
            "_view_count": null,
            "_view_module": "@jupyter-widgets/controls",
            "_view_module_version": "1.5.0",
            "_view_name": "HBoxView",
            "box_style": "",
            "children": [
              "IPY_MODEL_f5f4652c28714e2386f5f0e17e8e1179",
              "IPY_MODEL_bb453fa6d9554d509976e0350071fac8",
              "IPY_MODEL_8b7cbf6f190a42f0b11c196f5ce7fa28"
            ],
            "layout": "IPY_MODEL_25e33e610aba46c5bd1ca3adf3740c0e"
          }
        },
        "54a65dd91cac498f848cc5ec71b23c76": {
          "model_module": "@jupyter-widgets/controls",
          "model_module_version": "1.5.0",
          "model_name": "FloatProgressModel",
          "state": {
            "_dom_classes": [],
            "_model_module": "@jupyter-widgets/controls",
            "_model_module_version": "1.5.0",
            "_model_name": "FloatProgressModel",
            "_view_count": null,
            "_view_module": "@jupyter-widgets/controls",
            "_view_module_version": "1.5.0",
            "_view_name": "ProgressView",
            "bar_style": "success",
            "description": "",
            "description_tooltip": null,
            "layout": "IPY_MODEL_b05f53f9927341789e4fa0de0a8c5542",
            "max": 231536,
            "min": 0,
            "orientation": "horizontal",
            "style": "IPY_MODEL_b92824bb2c7c471f8ee66c4eae7fe76b",
            "value": 231536
          }
        },
        "558e5654a8cd4d2195b6805d7529e83d": {
          "model_module": "@jupyter-widgets/controls",
          "model_module_version": "1.5.0",
          "model_name": "HTMLModel",
          "state": {
            "_dom_classes": [],
            "_model_module": "@jupyter-widgets/controls",
            "_model_module_version": "1.5.0",
            "_model_name": "HTMLModel",
            "_view_count": null,
            "_view_module": "@jupyter-widgets/controls",
            "_view_module_version": "1.5.0",
            "_view_name": "HTMLView",
            "description": "",
            "description_tooltip": null,
            "layout": "IPY_MODEL_35dffc1c243c4d129665f0ca0b9f83c0",
            "placeholder": "​",
            "style": "IPY_MODEL_3c1e27cb36cb4caca60d8f7b5ac09709",
            "value": " 190/190 [00:00&lt;00:00, 6.13kB/s]"
          }
        },
        "5a70833baa1f40ae8275953f8c6dccea": {
          "model_module": "@jupyter-widgets/controls",
          "model_module_version": "1.5.0",
          "model_name": "DescriptionStyleModel",
          "state": {
            "_model_module": "@jupyter-widgets/controls",
            "_model_module_version": "1.5.0",
            "_model_name": "DescriptionStyleModel",
            "_view_count": null,
            "_view_module": "@jupyter-widgets/base",
            "_view_module_version": "1.2.0",
            "_view_name": "StyleView",
            "description_width": ""
          }
        },
        "5cc0a3786f0846b0a8941ef22856f62e": {
          "model_module": "@jupyter-widgets/base",
          "model_module_version": "1.2.0",
          "model_name": "LayoutModel",
          "state": {
            "_model_module": "@jupyter-widgets/base",
            "_model_module_version": "1.2.0",
            "_model_name": "LayoutModel",
            "_view_count": null,
            "_view_module": "@jupyter-widgets/base",
            "_view_module_version": "1.2.0",
            "_view_name": "LayoutView",
            "align_content": null,
            "align_items": null,
            "align_self": null,
            "border": null,
            "bottom": null,
            "display": null,
            "flex": null,
            "flex_flow": null,
            "grid_area": null,
            "grid_auto_columns": null,
            "grid_auto_flow": null,
            "grid_auto_rows": null,
            "grid_column": null,
            "grid_gap": null,
            "grid_row": null,
            "grid_template_areas": null,
            "grid_template_columns": null,
            "grid_template_rows": null,
            "height": null,
            "justify_content": null,
            "justify_items": null,
            "left": null,
            "margin": null,
            "max_height": null,
            "max_width": null,
            "min_height": null,
            "min_width": null,
            "object_fit": null,
            "object_position": null,
            "order": null,
            "overflow": null,
            "overflow_x": null,
            "overflow_y": null,
            "padding": null,
            "right": null,
            "top": null,
            "visibility": null,
            "width": null
          }
        },
        "6ba4fa3dbd5e46e5bfdb4b234d8b17f6": {
          "model_module": "@jupyter-widgets/controls",
          "model_module_version": "1.5.0",
          "model_name": "HBoxModel",
          "state": {
            "_dom_classes": [],
            "_model_module": "@jupyter-widgets/controls",
            "_model_module_version": "1.5.0",
            "_model_name": "HBoxModel",
            "_view_count": null,
            "_view_module": "@jupyter-widgets/controls",
            "_view_module_version": "1.5.0",
            "_view_name": "HBoxView",
            "box_style": "",
            "children": [
              "IPY_MODEL_7cf5dcb9f440453a93d2b49863f93636",
              "IPY_MODEL_54a65dd91cac498f848cc5ec71b23c76",
              "IPY_MODEL_6bbf65ac602849ce978218be6502792a"
            ],
            "layout": "IPY_MODEL_9f8ab848d9644c11a6de01c71fbf3591"
          }
        },
        "6bbf65ac602849ce978218be6502792a": {
          "model_module": "@jupyter-widgets/controls",
          "model_module_version": "1.5.0",
          "model_name": "HTMLModel",
          "state": {
            "_dom_classes": [],
            "_model_module": "@jupyter-widgets/controls",
            "_model_module_version": "1.5.0",
            "_model_name": "HTMLModel",
            "_view_count": null,
            "_view_module": "@jupyter-widgets/controls",
            "_view_module_version": "1.5.0",
            "_view_name": "HTMLView",
            "description": "",
            "description_tooltip": null,
            "layout": "IPY_MODEL_8121ed4904904ba9ab2e4ce384549fb5",
            "placeholder": "​",
            "style": "IPY_MODEL_a0287e2a7566425db88ca7079cc09efe",
            "value": " 232k/232k [00:00&lt;00:00, 1.40MB/s]"
          }
        },
        "71e48b666406479ea408029230601dbf": {
          "model_module": "@jupyter-widgets/base",
          "model_module_version": "1.2.0",
          "model_name": "LayoutModel",
          "state": {
            "_model_module": "@jupyter-widgets/base",
            "_model_module_version": "1.2.0",
            "_model_name": "LayoutModel",
            "_view_count": null,
            "_view_module": "@jupyter-widgets/base",
            "_view_module_version": "1.2.0",
            "_view_name": "LayoutView",
            "align_content": null,
            "align_items": null,
            "align_self": null,
            "border": null,
            "bottom": null,
            "display": null,
            "flex": null,
            "flex_flow": null,
            "grid_area": null,
            "grid_auto_columns": null,
            "grid_auto_flow": null,
            "grid_auto_rows": null,
            "grid_column": null,
            "grid_gap": null,
            "grid_row": null,
            "grid_template_areas": null,
            "grid_template_columns": null,
            "grid_template_rows": null,
            "height": null,
            "justify_content": null,
            "justify_items": null,
            "left": null,
            "margin": null,
            "max_height": null,
            "max_width": null,
            "min_height": null,
            "min_width": null,
            "object_fit": null,
            "object_position": null,
            "order": null,
            "overflow": null,
            "overflow_x": null,
            "overflow_y": null,
            "padding": null,
            "right": null,
            "top": null,
            "visibility": null,
            "width": null
          }
        },
        "730253c366164cb8a1b18d22f671aaf8": {
          "model_module": "@jupyter-widgets/controls",
          "model_module_version": "1.5.0",
          "model_name": "HBoxModel",
          "state": {
            "_dom_classes": [],
            "_model_module": "@jupyter-widgets/controls",
            "_model_module_version": "1.5.0",
            "_model_name": "HBoxModel",
            "_view_count": null,
            "_view_module": "@jupyter-widgets/controls",
            "_view_module_version": "1.5.0",
            "_view_name": "HBoxView",
            "box_style": "",
            "children": [
              "IPY_MODEL_2e58de8c413848e287ee575b85e7d42a",
              "IPY_MODEL_cd19e8325c974cacaf3b81f24c66d920",
              "IPY_MODEL_e9a5d40d685e423d8dba6d1377f8fa73"
            ],
            "layout": "IPY_MODEL_96c23652c11c476ebaa732700d3021ef"
          }
        },
        "74373f6b81ba4f30a0978309ec76e9bc": {
          "model_module": "@jupyter-widgets/controls",
          "model_module_version": "1.5.0",
          "model_name": "DescriptionStyleModel",
          "state": {
            "_model_module": "@jupyter-widgets/controls",
            "_model_module_version": "1.5.0",
            "_model_name": "DescriptionStyleModel",
            "_view_count": null,
            "_view_module": "@jupyter-widgets/base",
            "_view_module_version": "1.2.0",
            "_view_name": "StyleView",
            "description_width": ""
          }
        },
        "79416d9035f44a9a9ff54cb4843abf89": {
          "model_module": "@jupyter-widgets/controls",
          "model_module_version": "1.5.0",
          "model_name": "HBoxModel",
          "state": {
            "_dom_classes": [],
            "_model_module": "@jupyter-widgets/controls",
            "_model_module_version": "1.5.0",
            "_model_name": "HBoxModel",
            "_view_count": null,
            "_view_module": "@jupyter-widgets/controls",
            "_view_module_version": "1.5.0",
            "_view_name": "HBoxView",
            "box_style": "",
            "children": [
              "IPY_MODEL_2bbcccc7274e4c51ae6c5516b69a0b21",
              "IPY_MODEL_fe40a3e53952455282225fab6e341f0f",
              "IPY_MODEL_d06e5f159bef4ce68deb656589b525da"
            ],
            "layout": "IPY_MODEL_5cc0a3786f0846b0a8941ef22856f62e"
          }
        },
        "7a0fb03919e142b286da7192449f7b99": {
          "model_module": "@jupyter-widgets/base",
          "model_module_version": "1.2.0",
          "model_name": "LayoutModel",
          "state": {
            "_model_module": "@jupyter-widgets/base",
            "_model_module_version": "1.2.0",
            "_model_name": "LayoutModel",
            "_view_count": null,
            "_view_module": "@jupyter-widgets/base",
            "_view_module_version": "1.2.0",
            "_view_name": "LayoutView",
            "align_content": null,
            "align_items": null,
            "align_self": null,
            "border": null,
            "bottom": null,
            "display": null,
            "flex": null,
            "flex_flow": null,
            "grid_area": null,
            "grid_auto_columns": null,
            "grid_auto_flow": null,
            "grid_auto_rows": null,
            "grid_column": null,
            "grid_gap": null,
            "grid_row": null,
            "grid_template_areas": null,
            "grid_template_columns": null,
            "grid_template_rows": null,
            "height": null,
            "justify_content": null,
            "justify_items": null,
            "left": null,
            "margin": null,
            "max_height": null,
            "max_width": null,
            "min_height": null,
            "min_width": null,
            "object_fit": null,
            "object_position": null,
            "order": null,
            "overflow": null,
            "overflow_x": null,
            "overflow_y": null,
            "padding": null,
            "right": null,
            "top": null,
            "visibility": null,
            "width": null
          }
        },
        "7a46d8bd8d034816a0225b17d231f6aa": {
          "model_module": "@jupyter-widgets/controls",
          "model_module_version": "1.5.0",
          "model_name": "DescriptionStyleModel",
          "state": {
            "_model_module": "@jupyter-widgets/controls",
            "_model_module_version": "1.5.0",
            "_model_name": "DescriptionStyleModel",
            "_view_count": null,
            "_view_module": "@jupyter-widgets/base",
            "_view_module_version": "1.2.0",
            "_view_name": "StyleView",
            "description_width": ""
          }
        },
        "7c694fe318cd43319896992e6bf3a05b": {
          "model_module": "@jupyter-widgets/controls",
          "model_module_version": "1.5.0",
          "model_name": "DescriptionStyleModel",
          "state": {
            "_model_module": "@jupyter-widgets/controls",
            "_model_module_version": "1.5.0",
            "_model_name": "DescriptionStyleModel",
            "_view_count": null,
            "_view_module": "@jupyter-widgets/base",
            "_view_module_version": "1.2.0",
            "_view_name": "StyleView",
            "description_width": ""
          }
        },
        "7cf5dcb9f440453a93d2b49863f93636": {
          "model_module": "@jupyter-widgets/controls",
          "model_module_version": "1.5.0",
          "model_name": "HTMLModel",
          "state": {
            "_dom_classes": [],
            "_model_module": "@jupyter-widgets/controls",
            "_model_module_version": "1.5.0",
            "_model_name": "HTMLModel",
            "_view_count": null,
            "_view_module": "@jupyter-widgets/controls",
            "_view_module_version": "1.5.0",
            "_view_name": "HTMLView",
            "description": "",
            "description_tooltip": null,
            "layout": "IPY_MODEL_b339252929fe4ef4b9ef8a1f6609d00c",
            "placeholder": "​",
            "style": "IPY_MODEL_25155605fc2d4aff8547ed0ddab5bfcb",
            "value": "vocab.txt: 100%"
          }
        },
        "802af0970973428297ec3ae1e53b424d": {
          "model_module": "@jupyter-widgets/base",
          "model_module_version": "1.2.0",
          "model_name": "LayoutModel",
          "state": {
            "_model_module": "@jupyter-widgets/base",
            "_model_module_version": "1.2.0",
            "_model_name": "LayoutModel",
            "_view_count": null,
            "_view_module": "@jupyter-widgets/base",
            "_view_module_version": "1.2.0",
            "_view_name": "LayoutView",
            "align_content": null,
            "align_items": null,
            "align_self": null,
            "border": null,
            "bottom": null,
            "display": null,
            "flex": null,
            "flex_flow": null,
            "grid_area": null,
            "grid_auto_columns": null,
            "grid_auto_flow": null,
            "grid_auto_rows": null,
            "grid_column": null,
            "grid_gap": null,
            "grid_row": null,
            "grid_template_areas": null,
            "grid_template_columns": null,
            "grid_template_rows": null,
            "height": null,
            "justify_content": null,
            "justify_items": null,
            "left": null,
            "margin": null,
            "max_height": null,
            "max_width": null,
            "min_height": null,
            "min_width": null,
            "object_fit": null,
            "object_position": null,
            "order": null,
            "overflow": null,
            "overflow_x": null,
            "overflow_y": null,
            "padding": null,
            "right": null,
            "top": null,
            "visibility": null,
            "width": null
          }
        },
        "80f1ce15a8274afb91782aff28abfe8a": {
          "model_module": "@jupyter-widgets/controls",
          "model_module_version": "1.5.0",
          "model_name": "DescriptionStyleModel",
          "state": {
            "_model_module": "@jupyter-widgets/controls",
            "_model_module_version": "1.5.0",
            "_model_name": "DescriptionStyleModel",
            "_view_count": null,
            "_view_module": "@jupyter-widgets/base",
            "_view_module_version": "1.2.0",
            "_view_name": "StyleView",
            "description_width": ""
          }
        },
        "8121ed4904904ba9ab2e4ce384549fb5": {
          "model_module": "@jupyter-widgets/base",
          "model_module_version": "1.2.0",
          "model_name": "LayoutModel",
          "state": {
            "_model_module": "@jupyter-widgets/base",
            "_model_module_version": "1.2.0",
            "_model_name": "LayoutModel",
            "_view_count": null,
            "_view_module": "@jupyter-widgets/base",
            "_view_module_version": "1.2.0",
            "_view_name": "LayoutView",
            "align_content": null,
            "align_items": null,
            "align_self": null,
            "border": null,
            "bottom": null,
            "display": null,
            "flex": null,
            "flex_flow": null,
            "grid_area": null,
            "grid_auto_columns": null,
            "grid_auto_flow": null,
            "grid_auto_rows": null,
            "grid_column": null,
            "grid_gap": null,
            "grid_row": null,
            "grid_template_areas": null,
            "grid_template_columns": null,
            "grid_template_rows": null,
            "height": null,
            "justify_content": null,
            "justify_items": null,
            "left": null,
            "margin": null,
            "max_height": null,
            "max_width": null,
            "min_height": null,
            "min_width": null,
            "object_fit": null,
            "object_position": null,
            "order": null,
            "overflow": null,
            "overflow_x": null,
            "overflow_y": null,
            "padding": null,
            "right": null,
            "top": null,
            "visibility": null,
            "width": null
          }
        },
        "81ffb6a0efd94214a6510313d3a77514": {
          "model_module": "@jupyter-widgets/controls",
          "model_module_version": "1.5.0",
          "model_name": "HTMLModel",
          "state": {
            "_dom_classes": [],
            "_model_module": "@jupyter-widgets/controls",
            "_model_module_version": "1.5.0",
            "_model_name": "HTMLModel",
            "_view_count": null,
            "_view_module": "@jupyter-widgets/controls",
            "_view_module_version": "1.5.0",
            "_view_name": "HTMLView",
            "description": "",
            "description_tooltip": null,
            "layout": "IPY_MODEL_d4f36c76c0094862bf327686ba2d6013",
            "placeholder": "​",
            "style": "IPY_MODEL_f7848e661a124dfc85f54a54470d2074",
            "value": "modules.json: 100%"
          }
        },
        "87a7330f91094022b145e2169730ddb3": {
          "model_module": "@jupyter-widgets/controls",
          "model_module_version": "1.5.0",
          "model_name": "HBoxModel",
          "state": {
            "_dom_classes": [],
            "_model_module": "@jupyter-widgets/controls",
            "_model_module_version": "1.5.0",
            "_model_name": "HBoxModel",
            "_view_count": null,
            "_view_module": "@jupyter-widgets/controls",
            "_view_module_version": "1.5.0",
            "_view_name": "HBoxView",
            "box_style": "",
            "children": [
              "IPY_MODEL_aa61875ba4294bad8c94201142168faf",
              "IPY_MODEL_9b11e0c537bc4c2c900ad0527d513e62",
              "IPY_MODEL_d9873614d0934b4b9bbbb2f7524cd2fe"
            ],
            "layout": "IPY_MODEL_d934a0d74fcb44cba3c850daccc5ffd8"
          }
        },
        "8831ddc9a3ad4f88b9e77c58e6be5c97": {
          "model_module": "@jupyter-widgets/controls",
          "model_module_version": "1.5.0",
          "model_name": "DescriptionStyleModel",
          "state": {
            "_model_module": "@jupyter-widgets/controls",
            "_model_module_version": "1.5.0",
            "_model_name": "DescriptionStyleModel",
            "_view_count": null,
            "_view_module": "@jupyter-widgets/base",
            "_view_module_version": "1.2.0",
            "_view_name": "StyleView",
            "description_width": ""
          }
        },
        "8954fb321f8f46f180ba0e456e89ed97": {
          "model_module": "@jupyter-widgets/base",
          "model_module_version": "1.2.0",
          "model_name": "LayoutModel",
          "state": {
            "_model_module": "@jupyter-widgets/base",
            "_model_module_version": "1.2.0",
            "_model_name": "LayoutModel",
            "_view_count": null,
            "_view_module": "@jupyter-widgets/base",
            "_view_module_version": "1.2.0",
            "_view_name": "LayoutView",
            "align_content": null,
            "align_items": null,
            "align_self": null,
            "border": null,
            "bottom": null,
            "display": null,
            "flex": null,
            "flex_flow": null,
            "grid_area": null,
            "grid_auto_columns": null,
            "grid_auto_flow": null,
            "grid_auto_rows": null,
            "grid_column": null,
            "grid_gap": null,
            "grid_row": null,
            "grid_template_areas": null,
            "grid_template_columns": null,
            "grid_template_rows": null,
            "height": null,
            "justify_content": null,
            "justify_items": null,
            "left": null,
            "margin": null,
            "max_height": null,
            "max_width": null,
            "min_height": null,
            "min_width": null,
            "object_fit": null,
            "object_position": null,
            "order": null,
            "overflow": null,
            "overflow_x": null,
            "overflow_y": null,
            "padding": null,
            "right": null,
            "top": null,
            "visibility": null,
            "width": null
          }
        },
        "8b7cbf6f190a42f0b11c196f5ce7fa28": {
          "model_module": "@jupyter-widgets/controls",
          "model_module_version": "1.5.0",
          "model_name": "HTMLModel",
          "state": {
            "_dom_classes": [],
            "_model_module": "@jupyter-widgets/controls",
            "_model_module_version": "1.5.0",
            "_model_name": "HTMLModel",
            "_view_count": null,
            "_view_module": "@jupyter-widgets/controls",
            "_view_module_version": "1.5.0",
            "_view_name": "HTMLView",
            "description": "",
            "description_tooltip": null,
            "layout": "IPY_MODEL_0a155049d12d47f58a5b611efd210ff8",
            "placeholder": "​",
            "style": "IPY_MODEL_2f7497f164f4442da173defa5aaa2cea",
            "value": " 466k/466k [00:00&lt;00:00, 2.82MB/s]"
          }
        },
        "8d029bba2d944cfe8e7b0423e8eff926": {
          "model_module": "@jupyter-widgets/controls",
          "model_module_version": "1.5.0",
          "model_name": "HBoxModel",
          "state": {
            "_dom_classes": [],
            "_model_module": "@jupyter-widgets/controls",
            "_model_module_version": "1.5.0",
            "_model_name": "HBoxModel",
            "_view_count": null,
            "_view_module": "@jupyter-widgets/controls",
            "_view_module_version": "1.5.0",
            "_view_name": "HBoxView",
            "box_style": "",
            "children": [
              "IPY_MODEL_bed4247b31264975944023bef9dd1513",
              "IPY_MODEL_eb17cd2d854a44fa8c977fdf81abe4aa",
              "IPY_MODEL_d41c9dc42e304d6dbaab9e809cb38237"
            ],
            "layout": "IPY_MODEL_9857201c1098431992a1617ceef9f8c1"
          }
        },
        "8d436e63acb94f3c9e208dce3c649f47": {
          "model_module": "@jupyter-widgets/base",
          "model_module_version": "1.2.0",
          "model_name": "LayoutModel",
          "state": {
            "_model_module": "@jupyter-widgets/base",
            "_model_module_version": "1.2.0",
            "_model_name": "LayoutModel",
            "_view_count": null,
            "_view_module": "@jupyter-widgets/base",
            "_view_module_version": "1.2.0",
            "_view_name": "LayoutView",
            "align_content": null,
            "align_items": null,
            "align_self": null,
            "border": null,
            "bottom": null,
            "display": null,
            "flex": null,
            "flex_flow": null,
            "grid_area": null,
            "grid_auto_columns": null,
            "grid_auto_flow": null,
            "grid_auto_rows": null,
            "grid_column": null,
            "grid_gap": null,
            "grid_row": null,
            "grid_template_areas": null,
            "grid_template_columns": null,
            "grid_template_rows": null,
            "height": null,
            "justify_content": null,
            "justify_items": null,
            "left": null,
            "margin": null,
            "max_height": null,
            "max_width": null,
            "min_height": null,
            "min_width": null,
            "object_fit": null,
            "object_position": null,
            "order": null,
            "overflow": null,
            "overflow_x": null,
            "overflow_y": null,
            "padding": null,
            "right": null,
            "top": null,
            "visibility": null,
            "width": null
          }
        },
        "8dafdf332de84cee9246edb0f4cbedc9": {
          "model_module": "@jupyter-widgets/controls",
          "model_module_version": "1.5.0",
          "model_name": "ProgressStyleModel",
          "state": {
            "_model_module": "@jupyter-widgets/controls",
            "_model_module_version": "1.5.0",
            "_model_name": "ProgressStyleModel",
            "_view_count": null,
            "_view_module": "@jupyter-widgets/base",
            "_view_module_version": "1.2.0",
            "_view_name": "StyleView",
            "bar_color": null,
            "description_width": ""
          }
        },
        "95dbc43c21b64e0f80f87eb5824deb1f": {
          "model_module": "@jupyter-widgets/controls",
          "model_module_version": "1.5.0",
          "model_name": "FloatProgressModel",
          "state": {
            "_dom_classes": [],
            "_model_module": "@jupyter-widgets/controls",
            "_model_module_version": "1.5.0",
            "_model_name": "FloatProgressModel",
            "_view_count": null,
            "_view_module": "@jupyter-widgets/controls",
            "_view_module_version": "1.5.0",
            "_view_name": "ProgressView",
            "bar_style": "success",
            "description": "",
            "description_tooltip": null,
            "layout": "IPY_MODEL_1ec583962be74489b68d81a2af0fbac8",
            "max": 363,
            "min": 0,
            "orientation": "horizontal",
            "style": "IPY_MODEL_a313fd2262e34cedb97469c7309a941e",
            "value": 363
          }
        },
        "96c23652c11c476ebaa732700d3021ef": {
          "model_module": "@jupyter-widgets/base",
          "model_module_version": "1.2.0",
          "model_name": "LayoutModel",
          "state": {
            "_model_module": "@jupyter-widgets/base",
            "_model_module_version": "1.2.0",
            "_model_name": "LayoutModel",
            "_view_count": null,
            "_view_module": "@jupyter-widgets/base",
            "_view_module_version": "1.2.0",
            "_view_name": "LayoutView",
            "align_content": null,
            "align_items": null,
            "align_self": null,
            "border": null,
            "bottom": null,
            "display": null,
            "flex": null,
            "flex_flow": null,
            "grid_area": null,
            "grid_auto_columns": null,
            "grid_auto_flow": null,
            "grid_auto_rows": null,
            "grid_column": null,
            "grid_gap": null,
            "grid_row": null,
            "grid_template_areas": null,
            "grid_template_columns": null,
            "grid_template_rows": null,
            "height": null,
            "justify_content": null,
            "justify_items": null,
            "left": null,
            "margin": null,
            "max_height": null,
            "max_width": null,
            "min_height": null,
            "min_width": null,
            "object_fit": null,
            "object_position": null,
            "order": null,
            "overflow": null,
            "overflow_x": null,
            "overflow_y": null,
            "padding": null,
            "right": null,
            "top": null,
            "visibility": null,
            "width": null
          }
        },
        "9857201c1098431992a1617ceef9f8c1": {
          "model_module": "@jupyter-widgets/base",
          "model_module_version": "1.2.0",
          "model_name": "LayoutModel",
          "state": {
            "_model_module": "@jupyter-widgets/base",
            "_model_module_version": "1.2.0",
            "_model_name": "LayoutModel",
            "_view_count": null,
            "_view_module": "@jupyter-widgets/base",
            "_view_module_version": "1.2.0",
            "_view_name": "LayoutView",
            "align_content": null,
            "align_items": null,
            "align_self": null,
            "border": null,
            "bottom": null,
            "display": null,
            "flex": null,
            "flex_flow": null,
            "grid_area": null,
            "grid_auto_columns": null,
            "grid_auto_flow": null,
            "grid_auto_rows": null,
            "grid_column": null,
            "grid_gap": null,
            "grid_row": null,
            "grid_template_areas": null,
            "grid_template_columns": null,
            "grid_template_rows": null,
            "height": null,
            "justify_content": null,
            "justify_items": null,
            "left": null,
            "margin": null,
            "max_height": null,
            "max_width": null,
            "min_height": null,
            "min_width": null,
            "object_fit": null,
            "object_position": null,
            "order": null,
            "overflow": null,
            "overflow_x": null,
            "overflow_y": null,
            "padding": null,
            "right": null,
            "top": null,
            "visibility": null,
            "width": null
          }
        },
        "9b11e0c537bc4c2c900ad0527d513e62": {
          "model_module": "@jupyter-widgets/controls",
          "model_module_version": "1.5.0",
          "model_name": "FloatProgressModel",
          "state": {
            "_dom_classes": [],
            "_model_module": "@jupyter-widgets/controls",
            "_model_module_version": "1.5.0",
            "_model_name": "FloatProgressModel",
            "_view_count": null,
            "_view_module": "@jupyter-widgets/controls",
            "_view_module_version": "1.5.0",
            "_view_name": "ProgressView",
            "bar_style": "success",
            "description": "",
            "description_tooltip": null,
            "layout": "IPY_MODEL_9da440f620ab4ccc812ca5778aee9273",
            "max": 571,
            "min": 0,
            "orientation": "horizontal",
            "style": "IPY_MODEL_b17bbb0c721f48b69d8a5b56f3843236",
            "value": 571
          }
        },
        "9b537a8a7b8c4b16979ce2c0ff7d3117": {
          "model_module": "@jupyter-widgets/base",
          "model_module_version": "1.2.0",
          "model_name": "LayoutModel",
          "state": {
            "_model_module": "@jupyter-widgets/base",
            "_model_module_version": "1.2.0",
            "_model_name": "LayoutModel",
            "_view_count": null,
            "_view_module": "@jupyter-widgets/base",
            "_view_module_version": "1.2.0",
            "_view_name": "LayoutView",
            "align_content": null,
            "align_items": null,
            "align_self": null,
            "border": null,
            "bottom": null,
            "display": null,
            "flex": null,
            "flex_flow": null,
            "grid_area": null,
            "grid_auto_columns": null,
            "grid_auto_flow": null,
            "grid_auto_rows": null,
            "grid_column": null,
            "grid_gap": null,
            "grid_row": null,
            "grid_template_areas": null,
            "grid_template_columns": null,
            "grid_template_rows": null,
            "height": null,
            "justify_content": null,
            "justify_items": null,
            "left": null,
            "margin": null,
            "max_height": null,
            "max_width": null,
            "min_height": null,
            "min_width": null,
            "object_fit": null,
            "object_position": null,
            "order": null,
            "overflow": null,
            "overflow_x": null,
            "overflow_y": null,
            "padding": null,
            "right": null,
            "top": null,
            "visibility": null,
            "width": null
          }
        },
        "9da440f620ab4ccc812ca5778aee9273": {
          "model_module": "@jupyter-widgets/base",
          "model_module_version": "1.2.0",
          "model_name": "LayoutModel",
          "state": {
            "_model_module": "@jupyter-widgets/base",
            "_model_module_version": "1.2.0",
            "_model_name": "LayoutModel",
            "_view_count": null,
            "_view_module": "@jupyter-widgets/base",
            "_view_module_version": "1.2.0",
            "_view_name": "LayoutView",
            "align_content": null,
            "align_items": null,
            "align_self": null,
            "border": null,
            "bottom": null,
            "display": null,
            "flex": null,
            "flex_flow": null,
            "grid_area": null,
            "grid_auto_columns": null,
            "grid_auto_flow": null,
            "grid_auto_rows": null,
            "grid_column": null,
            "grid_gap": null,
            "grid_row": null,
            "grid_template_areas": null,
            "grid_template_columns": null,
            "grid_template_rows": null,
            "height": null,
            "justify_content": null,
            "justify_items": null,
            "left": null,
            "margin": null,
            "max_height": null,
            "max_width": null,
            "min_height": null,
            "min_width": null,
            "object_fit": null,
            "object_position": null,
            "order": null,
            "overflow": null,
            "overflow_x": null,
            "overflow_y": null,
            "padding": null,
            "right": null,
            "top": null,
            "visibility": null,
            "width": null
          }
        },
        "9f8ab848d9644c11a6de01c71fbf3591": {
          "model_module": "@jupyter-widgets/base",
          "model_module_version": "1.2.0",
          "model_name": "LayoutModel",
          "state": {
            "_model_module": "@jupyter-widgets/base",
            "_model_module_version": "1.2.0",
            "_model_name": "LayoutModel",
            "_view_count": null,
            "_view_module": "@jupyter-widgets/base",
            "_view_module_version": "1.2.0",
            "_view_name": "LayoutView",
            "align_content": null,
            "align_items": null,
            "align_self": null,
            "border": null,
            "bottom": null,
            "display": null,
            "flex": null,
            "flex_flow": null,
            "grid_area": null,
            "grid_auto_columns": null,
            "grid_auto_flow": null,
            "grid_auto_rows": null,
            "grid_column": null,
            "grid_gap": null,
            "grid_row": null,
            "grid_template_areas": null,
            "grid_template_columns": null,
            "grid_template_rows": null,
            "height": null,
            "justify_content": null,
            "justify_items": null,
            "left": null,
            "margin": null,
            "max_height": null,
            "max_width": null,
            "min_height": null,
            "min_width": null,
            "object_fit": null,
            "object_position": null,
            "order": null,
            "overflow": null,
            "overflow_x": null,
            "overflow_y": null,
            "padding": null,
            "right": null,
            "top": null,
            "visibility": null,
            "width": null
          }
        },
        "a0287e2a7566425db88ca7079cc09efe": {
          "model_module": "@jupyter-widgets/controls",
          "model_module_version": "1.5.0",
          "model_name": "DescriptionStyleModel",
          "state": {
            "_model_module": "@jupyter-widgets/controls",
            "_model_module_version": "1.5.0",
            "_model_name": "DescriptionStyleModel",
            "_view_count": null,
            "_view_module": "@jupyter-widgets/base",
            "_view_module_version": "1.2.0",
            "_view_name": "StyleView",
            "description_width": ""
          }
        },
        "a075e18dcd4c47689860420e7457956f": {
          "model_module": "@jupyter-widgets/controls",
          "model_module_version": "1.5.0",
          "model_name": "ProgressStyleModel",
          "state": {
            "_model_module": "@jupyter-widgets/controls",
            "_model_module_version": "1.5.0",
            "_model_name": "ProgressStyleModel",
            "_view_count": null,
            "_view_module": "@jupyter-widgets/base",
            "_view_module_version": "1.2.0",
            "_view_name": "StyleView",
            "bar_color": null,
            "description_width": ""
          }
        },
        "a24cee51a9894a90b5bf90640d54ff79": {
          "model_module": "@jupyter-widgets/controls",
          "model_module_version": "1.5.0",
          "model_name": "DescriptionStyleModel",
          "state": {
            "_model_module": "@jupyter-widgets/controls",
            "_model_module_version": "1.5.0",
            "_model_name": "DescriptionStyleModel",
            "_view_count": null,
            "_view_module": "@jupyter-widgets/base",
            "_view_module_version": "1.2.0",
            "_view_name": "StyleView",
            "description_width": ""
          }
        },
        "a30f91a8dc944afab5e2b7e8a8b87def": {
          "model_module": "@jupyter-widgets/controls",
          "model_module_version": "1.5.0",
          "model_name": "HTMLModel",
          "state": {
            "_dom_classes": [],
            "_model_module": "@jupyter-widgets/controls",
            "_model_module_version": "1.5.0",
            "_model_name": "HTMLModel",
            "_view_count": null,
            "_view_module": "@jupyter-widgets/controls",
            "_view_module_version": "1.5.0",
            "_view_name": "HTMLView",
            "description": "",
            "description_tooltip": null,
            "layout": "IPY_MODEL_3896b08946804989891ccbb13b908f44",
            "placeholder": "​",
            "style": "IPY_MODEL_0803aa2ecc204374b951d0f23db10082",
            "value": " 239/239 [00:00&lt;00:00, 10.5kB/s]"
          }
        },
        "a313fd2262e34cedb97469c7309a941e": {
          "model_module": "@jupyter-widgets/controls",
          "model_module_version": "1.5.0",
          "model_name": "ProgressStyleModel",
          "state": {
            "_model_module": "@jupyter-widgets/controls",
            "_model_module_version": "1.5.0",
            "_model_name": "ProgressStyleModel",
            "_view_count": null,
            "_view_module": "@jupyter-widgets/base",
            "_view_module_version": "1.2.0",
            "_view_name": "StyleView",
            "bar_color": null,
            "description_width": ""
          }
        },
        "a3262b5f644243ce9e8ae11a0644ccdf": {
          "model_module": "@jupyter-widgets/controls",
          "model_module_version": "1.5.0",
          "model_name": "FloatProgressModel",
          "state": {
            "_dom_classes": [],
            "_model_module": "@jupyter-widgets/controls",
            "_model_module_version": "1.5.0",
            "_model_name": "FloatProgressModel",
            "_view_count": null,
            "_view_module": "@jupyter-widgets/controls",
            "_view_module_version": "1.5.0",
            "_view_name": "ProgressView",
            "bar_style": "success",
            "description": "",
            "description_tooltip": null,
            "layout": "IPY_MODEL_2f00dd66d9204ae3832c0fddf31d445d",
            "max": 53,
            "min": 0,
            "orientation": "horizontal",
            "style": "IPY_MODEL_8dafdf332de84cee9246edb0f4cbedc9",
            "value": 53
          }
        },
        "a6672ffa27fd447ab68a359736db7ddb": {
          "model_module": "@jupyter-widgets/controls",
          "model_module_version": "1.5.0",
          "model_name": "HTMLModel",
          "state": {
            "_dom_classes": [],
            "_model_module": "@jupyter-widgets/controls",
            "_model_module_version": "1.5.0",
            "_model_name": "HTMLModel",
            "_view_count": null,
            "_view_module": "@jupyter-widgets/controls",
            "_view_module_version": "1.5.0",
            "_view_name": "HTMLView",
            "description": "",
            "description_tooltip": null,
            "layout": "IPY_MODEL_0c296ddf9a204458b39b5899e8b0c599",
            "placeholder": "​",
            "style": "IPY_MODEL_06ce9c8cb70a41adb8af9d75b79eb948",
            "value": " 363/363 [00:00&lt;00:00, 19.7kB/s]"
          }
        },
        "aa61875ba4294bad8c94201142168faf": {
          "model_module": "@jupyter-widgets/controls",
          "model_module_version": "1.5.0",
          "model_name": "HTMLModel",
          "state": {
            "_dom_classes": [],
            "_model_module": "@jupyter-widgets/controls",
            "_model_module_version": "1.5.0",
            "_model_name": "HTMLModel",
            "_view_count": null,
            "_view_module": "@jupyter-widgets/controls",
            "_view_module_version": "1.5.0",
            "_view_name": "HTMLView",
            "description": "",
            "description_tooltip": null,
            "layout": "IPY_MODEL_802af0970973428297ec3ae1e53b424d",
            "placeholder": "​",
            "style": "IPY_MODEL_8831ddc9a3ad4f88b9e77c58e6be5c97",
            "value": "config.json: 100%"
          }
        },
        "aec299349237442eb9ea7b46dbdf034e": {
          "model_module": "@jupyter-widgets/base",
          "model_module_version": "1.2.0",
          "model_name": "LayoutModel",
          "state": {
            "_model_module": "@jupyter-widgets/base",
            "_model_module_version": "1.2.0",
            "_model_name": "LayoutModel",
            "_view_count": null,
            "_view_module": "@jupyter-widgets/base",
            "_view_module_version": "1.2.0",
            "_view_name": "LayoutView",
            "align_content": null,
            "align_items": null,
            "align_self": null,
            "border": null,
            "bottom": null,
            "display": null,
            "flex": null,
            "flex_flow": null,
            "grid_area": null,
            "grid_auto_columns": null,
            "grid_auto_flow": null,
            "grid_auto_rows": null,
            "grid_column": null,
            "grid_gap": null,
            "grid_row": null,
            "grid_template_areas": null,
            "grid_template_columns": null,
            "grid_template_rows": null,
            "height": null,
            "justify_content": null,
            "justify_items": null,
            "left": null,
            "margin": null,
            "max_height": null,
            "max_width": null,
            "min_height": null,
            "min_width": null,
            "object_fit": null,
            "object_position": null,
            "order": null,
            "overflow": null,
            "overflow_x": null,
            "overflow_y": null,
            "padding": null,
            "right": null,
            "top": null,
            "visibility": null,
            "width": null
          }
        },
        "b05f53f9927341789e4fa0de0a8c5542": {
          "model_module": "@jupyter-widgets/base",
          "model_module_version": "1.2.0",
          "model_name": "LayoutModel",
          "state": {
            "_model_module": "@jupyter-widgets/base",
            "_model_module_version": "1.2.0",
            "_model_name": "LayoutModel",
            "_view_count": null,
            "_view_module": "@jupyter-widgets/base",
            "_view_module_version": "1.2.0",
            "_view_name": "LayoutView",
            "align_content": null,
            "align_items": null,
            "align_self": null,
            "border": null,
            "bottom": null,
            "display": null,
            "flex": null,
            "flex_flow": null,
            "grid_area": null,
            "grid_auto_columns": null,
            "grid_auto_flow": null,
            "grid_auto_rows": null,
            "grid_column": null,
            "grid_gap": null,
            "grid_row": null,
            "grid_template_areas": null,
            "grid_template_columns": null,
            "grid_template_rows": null,
            "height": null,
            "justify_content": null,
            "justify_items": null,
            "left": null,
            "margin": null,
            "max_height": null,
            "max_width": null,
            "min_height": null,
            "min_width": null,
            "object_fit": null,
            "object_position": null,
            "order": null,
            "overflow": null,
            "overflow_x": null,
            "overflow_y": null,
            "padding": null,
            "right": null,
            "top": null,
            "visibility": null,
            "width": null
          }
        },
        "b17bbb0c721f48b69d8a5b56f3843236": {
          "model_module": "@jupyter-widgets/controls",
          "model_module_version": "1.5.0",
          "model_name": "ProgressStyleModel",
          "state": {
            "_model_module": "@jupyter-widgets/controls",
            "_model_module_version": "1.5.0",
            "_model_name": "ProgressStyleModel",
            "_view_count": null,
            "_view_module": "@jupyter-widgets/base",
            "_view_module_version": "1.2.0",
            "_view_name": "StyleView",
            "bar_color": null,
            "description_width": ""
          }
        },
        "b339252929fe4ef4b9ef8a1f6609d00c": {
          "model_module": "@jupyter-widgets/base",
          "model_module_version": "1.2.0",
          "model_name": "LayoutModel",
          "state": {
            "_model_module": "@jupyter-widgets/base",
            "_model_module_version": "1.2.0",
            "_model_name": "LayoutModel",
            "_view_count": null,
            "_view_module": "@jupyter-widgets/base",
            "_view_module_version": "1.2.0",
            "_view_name": "LayoutView",
            "align_content": null,
            "align_items": null,
            "align_self": null,
            "border": null,
            "bottom": null,
            "display": null,
            "flex": null,
            "flex_flow": null,
            "grid_area": null,
            "grid_auto_columns": null,
            "grid_auto_flow": null,
            "grid_auto_rows": null,
            "grid_column": null,
            "grid_gap": null,
            "grid_row": null,
            "grid_template_areas": null,
            "grid_template_columns": null,
            "grid_template_rows": null,
            "height": null,
            "justify_content": null,
            "justify_items": null,
            "left": null,
            "margin": null,
            "max_height": null,
            "max_width": null,
            "min_height": null,
            "min_width": null,
            "object_fit": null,
            "object_position": null,
            "order": null,
            "overflow": null,
            "overflow_x": null,
            "overflow_y": null,
            "padding": null,
            "right": null,
            "top": null,
            "visibility": null,
            "width": null
          }
        },
        "b56ddb6f25c248e7926bdaf9dc1d738d": {
          "model_module": "@jupyter-widgets/controls",
          "model_module_version": "1.5.0",
          "model_name": "ProgressStyleModel",
          "state": {
            "_model_module": "@jupyter-widgets/controls",
            "_model_module_version": "1.5.0",
            "_model_name": "ProgressStyleModel",
            "_view_count": null,
            "_view_module": "@jupyter-widgets/base",
            "_view_module_version": "1.2.0",
            "_view_name": "StyleView",
            "bar_color": null,
            "description_width": ""
          }
        },
        "b86eb773c50f4c9db29045fed05edfcd": {
          "model_module": "@jupyter-widgets/base",
          "model_module_version": "1.2.0",
          "model_name": "LayoutModel",
          "state": {
            "_model_module": "@jupyter-widgets/base",
            "_model_module_version": "1.2.0",
            "_model_name": "LayoutModel",
            "_view_count": null,
            "_view_module": "@jupyter-widgets/base",
            "_view_module_version": "1.2.0",
            "_view_name": "LayoutView",
            "align_content": null,
            "align_items": null,
            "align_self": null,
            "border": null,
            "bottom": null,
            "display": null,
            "flex": null,
            "flex_flow": null,
            "grid_area": null,
            "grid_auto_columns": null,
            "grid_auto_flow": null,
            "grid_auto_rows": null,
            "grid_column": null,
            "grid_gap": null,
            "grid_row": null,
            "grid_template_areas": null,
            "grid_template_columns": null,
            "grid_template_rows": null,
            "height": null,
            "justify_content": null,
            "justify_items": null,
            "left": null,
            "margin": null,
            "max_height": null,
            "max_width": null,
            "min_height": null,
            "min_width": null,
            "object_fit": null,
            "object_position": null,
            "order": null,
            "overflow": null,
            "overflow_x": null,
            "overflow_y": null,
            "padding": null,
            "right": null,
            "top": null,
            "visibility": null,
            "width": null
          }
        },
        "b8baf64125f644458069102fcf7bc57d": {
          "model_module": "@jupyter-widgets/controls",
          "model_module_version": "1.5.0",
          "model_name": "DescriptionStyleModel",
          "state": {
            "_model_module": "@jupyter-widgets/controls",
            "_model_module_version": "1.5.0",
            "_model_name": "DescriptionStyleModel",
            "_view_count": null,
            "_view_module": "@jupyter-widgets/base",
            "_view_module_version": "1.2.0",
            "_view_name": "StyleView",
            "description_width": ""
          }
        },
        "b92824bb2c7c471f8ee66c4eae7fe76b": {
          "model_module": "@jupyter-widgets/controls",
          "model_module_version": "1.5.0",
          "model_name": "ProgressStyleModel",
          "state": {
            "_model_module": "@jupyter-widgets/controls",
            "_model_module_version": "1.5.0",
            "_model_name": "ProgressStyleModel",
            "_view_count": null,
            "_view_module": "@jupyter-widgets/base",
            "_view_module_version": "1.2.0",
            "_view_name": "StyleView",
            "bar_color": null,
            "description_width": ""
          }
        },
        "bb453fa6d9554d509976e0350071fac8": {
          "model_module": "@jupyter-widgets/controls",
          "model_module_version": "1.5.0",
          "model_name": "FloatProgressModel",
          "state": {
            "_dom_classes": [],
            "_model_module": "@jupyter-widgets/controls",
            "_model_module_version": "1.5.0",
            "_model_name": "FloatProgressModel",
            "_view_count": null,
            "_view_module": "@jupyter-widgets/controls",
            "_view_module_version": "1.5.0",
            "_view_name": "ProgressView",
            "bar_style": "success",
            "description": "",
            "description_tooltip": null,
            "layout": "IPY_MODEL_080d5a0b09ce4ec282950adc734ba590",
            "max": 466021,
            "min": 0,
            "orientation": "horizontal",
            "style": "IPY_MODEL_49ed96536d8b4b6eb6c0e1c2a28cd21d",
            "value": 466021
          }
        },
        "bed4247b31264975944023bef9dd1513": {
          "model_module": "@jupyter-widgets/controls",
          "model_module_version": "1.5.0",
          "model_name": "HTMLModel",
          "state": {
            "_dom_classes": [],
            "_model_module": "@jupyter-widgets/controls",
            "_model_module_version": "1.5.0",
            "_model_name": "HTMLModel",
            "_view_count": null,
            "_view_module": "@jupyter-widgets/controls",
            "_view_module_version": "1.5.0",
            "_view_name": "HTMLView",
            "description": "",
            "description_tooltip": null,
            "layout": "IPY_MODEL_1458203bb7cb4493ac1362c2e092a6e0",
            "placeholder": "​",
            "style": "IPY_MODEL_a24cee51a9894a90b5bf90640d54ff79",
            "value": "config_sentence_transformers.json: 100%"
          }
        },
        "c07756265a224365889d98d3a01ee0a7": {
          "model_module": "@jupyter-widgets/base",
          "model_module_version": "1.2.0",
          "model_name": "LayoutModel",
          "state": {
            "_model_module": "@jupyter-widgets/base",
            "_model_module_version": "1.2.0",
            "_model_name": "LayoutModel",
            "_view_count": null,
            "_view_module": "@jupyter-widgets/base",
            "_view_module_version": "1.2.0",
            "_view_name": "LayoutView",
            "align_content": null,
            "align_items": null,
            "align_self": null,
            "border": null,
            "bottom": null,
            "display": null,
            "flex": null,
            "flex_flow": null,
            "grid_area": null,
            "grid_auto_columns": null,
            "grid_auto_flow": null,
            "grid_auto_rows": null,
            "grid_column": null,
            "grid_gap": null,
            "grid_row": null,
            "grid_template_areas": null,
            "grid_template_columns": null,
            "grid_template_rows": null,
            "height": null,
            "justify_content": null,
            "justify_items": null,
            "left": null,
            "margin": null,
            "max_height": null,
            "max_width": null,
            "min_height": null,
            "min_width": null,
            "object_fit": null,
            "object_position": null,
            "order": null,
            "overflow": null,
            "overflow_x": null,
            "overflow_y": null,
            "padding": null,
            "right": null,
            "top": null,
            "visibility": null,
            "width": null
          }
        },
        "c0e55ff22c4d46ee8307aa82af392d35": {
          "model_module": "@jupyter-widgets/base",
          "model_module_version": "1.2.0",
          "model_name": "LayoutModel",
          "state": {
            "_model_module": "@jupyter-widgets/base",
            "_model_module_version": "1.2.0",
            "_model_name": "LayoutModel",
            "_view_count": null,
            "_view_module": "@jupyter-widgets/base",
            "_view_module_version": "1.2.0",
            "_view_name": "LayoutView",
            "align_content": null,
            "align_items": null,
            "align_self": null,
            "border": null,
            "bottom": null,
            "display": null,
            "flex": null,
            "flex_flow": null,
            "grid_area": null,
            "grid_auto_columns": null,
            "grid_auto_flow": null,
            "grid_auto_rows": null,
            "grid_column": null,
            "grid_gap": null,
            "grid_row": null,
            "grid_template_areas": null,
            "grid_template_columns": null,
            "grid_template_rows": null,
            "height": null,
            "justify_content": null,
            "justify_items": null,
            "left": null,
            "margin": null,
            "max_height": null,
            "max_width": null,
            "min_height": null,
            "min_width": null,
            "object_fit": null,
            "object_position": null,
            "order": null,
            "overflow": null,
            "overflow_x": null,
            "overflow_y": null,
            "padding": null,
            "right": null,
            "top": null,
            "visibility": null,
            "width": null
          }
        },
        "c3c8b1c886d0464c8916707d9ee27bf9": {
          "model_module": "@jupyter-widgets/base",
          "model_module_version": "1.2.0",
          "model_name": "LayoutModel",
          "state": {
            "_model_module": "@jupyter-widgets/base",
            "_model_module_version": "1.2.0",
            "_model_name": "LayoutModel",
            "_view_count": null,
            "_view_module": "@jupyter-widgets/base",
            "_view_module_version": "1.2.0",
            "_view_name": "LayoutView",
            "align_content": null,
            "align_items": null,
            "align_self": null,
            "border": null,
            "bottom": null,
            "display": null,
            "flex": null,
            "flex_flow": null,
            "grid_area": null,
            "grid_auto_columns": null,
            "grid_auto_flow": null,
            "grid_auto_rows": null,
            "grid_column": null,
            "grid_gap": null,
            "grid_row": null,
            "grid_template_areas": null,
            "grid_template_columns": null,
            "grid_template_rows": null,
            "height": null,
            "justify_content": null,
            "justify_items": null,
            "left": null,
            "margin": null,
            "max_height": null,
            "max_width": null,
            "min_height": null,
            "min_width": null,
            "object_fit": null,
            "object_position": null,
            "order": null,
            "overflow": null,
            "overflow_x": null,
            "overflow_y": null,
            "padding": null,
            "right": null,
            "top": null,
            "visibility": null,
            "width": null
          }
        },
        "c96a999d6e8b4c578ceb4ca004ab1995": {
          "model_module": "@jupyter-widgets/base",
          "model_module_version": "1.2.0",
          "model_name": "LayoutModel",
          "state": {
            "_model_module": "@jupyter-widgets/base",
            "_model_module_version": "1.2.0",
            "_model_name": "LayoutModel",
            "_view_count": null,
            "_view_module": "@jupyter-widgets/base",
            "_view_module_version": "1.2.0",
            "_view_name": "LayoutView",
            "align_content": null,
            "align_items": null,
            "align_self": null,
            "border": null,
            "bottom": null,
            "display": null,
            "flex": null,
            "flex_flow": null,
            "grid_area": null,
            "grid_auto_columns": null,
            "grid_auto_flow": null,
            "grid_auto_rows": null,
            "grid_column": null,
            "grid_gap": null,
            "grid_row": null,
            "grid_template_areas": null,
            "grid_template_columns": null,
            "grid_template_rows": null,
            "height": null,
            "justify_content": null,
            "justify_items": null,
            "left": null,
            "margin": null,
            "max_height": null,
            "max_width": null,
            "min_height": null,
            "min_width": null,
            "object_fit": null,
            "object_position": null,
            "order": null,
            "overflow": null,
            "overflow_x": null,
            "overflow_y": null,
            "padding": null,
            "right": null,
            "top": null,
            "visibility": null,
            "width": null
          }
        },
        "cd153389d7934a05885f1510b4a09980": {
          "model_module": "@jupyter-widgets/controls",
          "model_module_version": "1.5.0",
          "model_name": "DescriptionStyleModel",
          "state": {
            "_model_module": "@jupyter-widgets/controls",
            "_model_module_version": "1.5.0",
            "_model_name": "DescriptionStyleModel",
            "_view_count": null,
            "_view_module": "@jupyter-widgets/base",
            "_view_module_version": "1.2.0",
            "_view_name": "StyleView",
            "description_width": ""
          }
        },
        "cd19e8325c974cacaf3b81f24c66d920": {
          "model_module": "@jupyter-widgets/controls",
          "model_module_version": "1.5.0",
          "model_name": "FloatProgressModel",
          "state": {
            "_dom_classes": [],
            "_model_module": "@jupyter-widgets/controls",
            "_model_module_version": "1.5.0",
            "_model_name": "FloatProgressModel",
            "_view_count": null,
            "_view_module": "@jupyter-widgets/controls",
            "_view_module_version": "1.5.0",
            "_view_name": "ProgressView",
            "bar_style": "success",
            "description": "",
            "description_tooltip": null,
            "layout": "IPY_MODEL_36a9d8ec02fa403b8f27da40cbc6fbe2",
            "max": 10621,
            "min": 0,
            "orientation": "horizontal",
            "style": "IPY_MODEL_43624db382b245a292c2c235c1f7f3e2",
            "value": 10621
          }
        },
        "d06e5f159bef4ce68deb656589b525da": {
          "model_module": "@jupyter-widgets/controls",
          "model_module_version": "1.5.0",
          "model_name": "HTMLModel",
          "state": {
            "_dom_classes": [],
            "_model_module": "@jupyter-widgets/controls",
            "_model_module_version": "1.5.0",
            "_model_name": "HTMLModel",
            "_view_count": null,
            "_view_module": "@jupyter-widgets/controls",
            "_view_module_version": "1.5.0",
            "_view_name": "HTMLView",
            "description": "",
            "description_tooltip": null,
            "layout": "IPY_MODEL_1e86bcfc15734eb69cca0625b2ccabf8",
            "placeholder": "​",
            "style": "IPY_MODEL_4b842ca489884aa5bddd669d32329029",
            "value": " 438M/438M [00:03&lt;00:00, 112MB/s]"
          }
        },
        "d29a985f900b4aba9b696f3b251d514d": {
          "model_module": "@jupyter-widgets/controls",
          "model_module_version": "1.5.0",
          "model_name": "HTMLModel",
          "state": {
            "_dom_classes": [],
            "_model_module": "@jupyter-widgets/controls",
            "_model_module_version": "1.5.0",
            "_model_name": "HTMLModel",
            "_view_count": null,
            "_view_module": "@jupyter-widgets/controls",
            "_view_module_version": "1.5.0",
            "_view_name": "HTMLView",
            "description": "",
            "description_tooltip": null,
            "layout": "IPY_MODEL_2eff103a12bb4970a99f2b0625a0d708",
            "placeholder": "​",
            "style": "IPY_MODEL_52e7ca74fdd94533a0555102decbdc6b",
            "value": "tokenizer_config.json: 100%"
          }
        },
        "d41c9dc42e304d6dbaab9e809cb38237": {
          "model_module": "@jupyter-widgets/controls",
          "model_module_version": "1.5.0",
          "model_name": "HTMLModel",
          "state": {
            "_dom_classes": [],
            "_model_module": "@jupyter-widgets/controls",
            "_model_module_version": "1.5.0",
            "_model_name": "HTMLModel",
            "_view_count": null,
            "_view_module": "@jupyter-widgets/controls",
            "_view_module_version": "1.5.0",
            "_view_name": "HTMLView",
            "description": "",
            "description_tooltip": null,
            "layout": "IPY_MODEL_aec299349237442eb9ea7b46dbdf034e",
            "placeholder": "​",
            "style": "IPY_MODEL_dc4f267140914ca9b8866743ff8dc63f",
            "value": " 116/116 [00:00&lt;00:00, 5.84kB/s]"
          }
        },
        "d4f36c76c0094862bf327686ba2d6013": {
          "model_module": "@jupyter-widgets/base",
          "model_module_version": "1.2.0",
          "model_name": "LayoutModel",
          "state": {
            "_model_module": "@jupyter-widgets/base",
            "_model_module_version": "1.2.0",
            "_model_name": "LayoutModel",
            "_view_count": null,
            "_view_module": "@jupyter-widgets/base",
            "_view_module_version": "1.2.0",
            "_view_name": "LayoutView",
            "align_content": null,
            "align_items": null,
            "align_self": null,
            "border": null,
            "bottom": null,
            "display": null,
            "flex": null,
            "flex_flow": null,
            "grid_area": null,
            "grid_auto_columns": null,
            "grid_auto_flow": null,
            "grid_auto_rows": null,
            "grid_column": null,
            "grid_gap": null,
            "grid_row": null,
            "grid_template_areas": null,
            "grid_template_columns": null,
            "grid_template_rows": null,
            "height": null,
            "justify_content": null,
            "justify_items": null,
            "left": null,
            "margin": null,
            "max_height": null,
            "max_width": null,
            "min_height": null,
            "min_width": null,
            "object_fit": null,
            "object_position": null,
            "order": null,
            "overflow": null,
            "overflow_x": null,
            "overflow_y": null,
            "padding": null,
            "right": null,
            "top": null,
            "visibility": null,
            "width": null
          }
        },
        "d586ffc0d6324fcea126004fea5fdea4": {
          "model_module": "@jupyter-widgets/base",
          "model_module_version": "1.2.0",
          "model_name": "LayoutModel",
          "state": {
            "_model_module": "@jupyter-widgets/base",
            "_model_module_version": "1.2.0",
            "_model_name": "LayoutModel",
            "_view_count": null,
            "_view_module": "@jupyter-widgets/base",
            "_view_module_version": "1.2.0",
            "_view_name": "LayoutView",
            "align_content": null,
            "align_items": null,
            "align_self": null,
            "border": null,
            "bottom": null,
            "display": null,
            "flex": null,
            "flex_flow": null,
            "grid_area": null,
            "grid_auto_columns": null,
            "grid_auto_flow": null,
            "grid_auto_rows": null,
            "grid_column": null,
            "grid_gap": null,
            "grid_row": null,
            "grid_template_areas": null,
            "grid_template_columns": null,
            "grid_template_rows": null,
            "height": null,
            "justify_content": null,
            "justify_items": null,
            "left": null,
            "margin": null,
            "max_height": null,
            "max_width": null,
            "min_height": null,
            "min_width": null,
            "object_fit": null,
            "object_position": null,
            "order": null,
            "overflow": null,
            "overflow_x": null,
            "overflow_y": null,
            "padding": null,
            "right": null,
            "top": null,
            "visibility": null,
            "width": null
          }
        },
        "d934a0d74fcb44cba3c850daccc5ffd8": {
          "model_module": "@jupyter-widgets/base",
          "model_module_version": "1.2.0",
          "model_name": "LayoutModel",
          "state": {
            "_model_module": "@jupyter-widgets/base",
            "_model_module_version": "1.2.0",
            "_model_name": "LayoutModel",
            "_view_count": null,
            "_view_module": "@jupyter-widgets/base",
            "_view_module_version": "1.2.0",
            "_view_name": "LayoutView",
            "align_content": null,
            "align_items": null,
            "align_self": null,
            "border": null,
            "bottom": null,
            "display": null,
            "flex": null,
            "flex_flow": null,
            "grid_area": null,
            "grid_auto_columns": null,
            "grid_auto_flow": null,
            "grid_auto_rows": null,
            "grid_column": null,
            "grid_gap": null,
            "grid_row": null,
            "grid_template_areas": null,
            "grid_template_columns": null,
            "grid_template_rows": null,
            "height": null,
            "justify_content": null,
            "justify_items": null,
            "left": null,
            "margin": null,
            "max_height": null,
            "max_width": null,
            "min_height": null,
            "min_width": null,
            "object_fit": null,
            "object_position": null,
            "order": null,
            "overflow": null,
            "overflow_x": null,
            "overflow_y": null,
            "padding": null,
            "right": null,
            "top": null,
            "visibility": null,
            "width": null
          }
        },
        "d9873614d0934b4b9bbbb2f7524cd2fe": {
          "model_module": "@jupyter-widgets/controls",
          "model_module_version": "1.5.0",
          "model_name": "HTMLModel",
          "state": {
            "_dom_classes": [],
            "_model_module": "@jupyter-widgets/controls",
            "_model_module_version": "1.5.0",
            "_model_name": "HTMLModel",
            "_view_count": null,
            "_view_module": "@jupyter-widgets/controls",
            "_view_module_version": "1.5.0",
            "_view_name": "HTMLView",
            "description": "",
            "description_tooltip": null,
            "layout": "IPY_MODEL_9b537a8a7b8c4b16979ce2c0ff7d3117",
            "placeholder": "​",
            "style": "IPY_MODEL_5a70833baa1f40ae8275953f8c6dccea",
            "value": " 571/571 [00:00&lt;00:00, 32.3kB/s]"
          }
        },
        "dc4f267140914ca9b8866743ff8dc63f": {
          "model_module": "@jupyter-widgets/controls",
          "model_module_version": "1.5.0",
          "model_name": "DescriptionStyleModel",
          "state": {
            "_model_module": "@jupyter-widgets/controls",
            "_model_module_version": "1.5.0",
            "_model_name": "DescriptionStyleModel",
            "_view_count": null,
            "_view_module": "@jupyter-widgets/base",
            "_view_module_version": "1.2.0",
            "_view_name": "StyleView",
            "description_width": ""
          }
        },
        "ddad32c8967440b1915362fc368ae3af": {
          "model_module": "@jupyter-widgets/base",
          "model_module_version": "1.2.0",
          "model_name": "LayoutModel",
          "state": {
            "_model_module": "@jupyter-widgets/base",
            "_model_module_version": "1.2.0",
            "_model_name": "LayoutModel",
            "_view_count": null,
            "_view_module": "@jupyter-widgets/base",
            "_view_module_version": "1.2.0",
            "_view_name": "LayoutView",
            "align_content": null,
            "align_items": null,
            "align_self": null,
            "border": null,
            "bottom": null,
            "display": null,
            "flex": null,
            "flex_flow": null,
            "grid_area": null,
            "grid_auto_columns": null,
            "grid_auto_flow": null,
            "grid_auto_rows": null,
            "grid_column": null,
            "grid_gap": null,
            "grid_row": null,
            "grid_template_areas": null,
            "grid_template_columns": null,
            "grid_template_rows": null,
            "height": null,
            "justify_content": null,
            "justify_items": null,
            "left": null,
            "margin": null,
            "max_height": null,
            "max_width": null,
            "min_height": null,
            "min_width": null,
            "object_fit": null,
            "object_position": null,
            "order": null,
            "overflow": null,
            "overflow_x": null,
            "overflow_y": null,
            "padding": null,
            "right": null,
            "top": null,
            "visibility": null,
            "width": null
          }
        },
        "e7cbd68b140c4fc9904a00ee4abb8683": {
          "model_module": "@jupyter-widgets/controls",
          "model_module_version": "1.5.0",
          "model_name": "HBoxModel",
          "state": {
            "_dom_classes": [],
            "_model_module": "@jupyter-widgets/controls",
            "_model_module_version": "1.5.0",
            "_model_name": "HBoxModel",
            "_view_count": null,
            "_view_module": "@jupyter-widgets/controls",
            "_view_module_version": "1.5.0",
            "_view_name": "HBoxView",
            "box_style": "",
            "children": [
              "IPY_MODEL_3db8b1ff8cf044e1b62cec76691b4c15",
              "IPY_MODEL_4d3c24f74a40464eaa88f7eded05c730",
              "IPY_MODEL_a30f91a8dc944afab5e2b7e8a8b87def"
            ],
            "layout": "IPY_MODEL_46b71c860f0845a5b2bb7655809f46b5"
          }
        },
        "e9a5d40d685e423d8dba6d1377f8fa73": {
          "model_module": "@jupyter-widgets/controls",
          "model_module_version": "1.5.0",
          "model_name": "HTMLModel",
          "state": {
            "_dom_classes": [],
            "_model_module": "@jupyter-widgets/controls",
            "_model_module_version": "1.5.0",
            "_model_name": "HTMLModel",
            "_view_count": null,
            "_view_module": "@jupyter-widgets/controls",
            "_view_module_version": "1.5.0",
            "_view_name": "HTMLView",
            "description": "",
            "description_tooltip": null,
            "layout": "IPY_MODEL_348b7c80310d47aea52f7a5730781f1a",
            "placeholder": "​",
            "style": "IPY_MODEL_7a46d8bd8d034816a0225b17d231f6aa",
            "value": " 10.6k/10.6k [00:00&lt;00:00, 587kB/s]"
          }
        },
        "eaf7e8ee84094d5ea386aa1da4cbe824": {
          "model_module": "@jupyter-widgets/controls",
          "model_module_version": "1.5.0",
          "model_name": "HTMLModel",
          "state": {
            "_dom_classes": [],
            "_model_module": "@jupyter-widgets/controls",
            "_model_module_version": "1.5.0",
            "_model_name": "HTMLModel",
            "_view_count": null,
            "_view_module": "@jupyter-widgets/controls",
            "_view_module_version": "1.5.0",
            "_view_name": "HTMLView",
            "description": "",
            "description_tooltip": null,
            "layout": "IPY_MODEL_0e966b6a7b2f4f1f93850e6a249ae007",
            "placeholder": "​",
            "style": "IPY_MODEL_7c694fe318cd43319896992e6bf3a05b",
            "value": " 53.0/53.0 [00:00&lt;00:00, 2.43kB/s]"
          }
        },
        "eb17cd2d854a44fa8c977fdf81abe4aa": {
          "model_module": "@jupyter-widgets/controls",
          "model_module_version": "1.5.0",
          "model_name": "FloatProgressModel",
          "state": {
            "_dom_classes": [],
            "_model_module": "@jupyter-widgets/controls",
            "_model_module_version": "1.5.0",
            "_model_name": "FloatProgressModel",
            "_view_count": null,
            "_view_module": "@jupyter-widgets/controls",
            "_view_module_version": "1.5.0",
            "_view_name": "ProgressView",
            "bar_style": "success",
            "description": "",
            "description_tooltip": null,
            "layout": "IPY_MODEL_c3c8b1c886d0464c8916707d9ee27bf9",
            "max": 116,
            "min": 0,
            "orientation": "horizontal",
            "style": "IPY_MODEL_a075e18dcd4c47689860420e7457956f",
            "value": 116
          }
        },
        "f5f4652c28714e2386f5f0e17e8e1179": {
          "model_module": "@jupyter-widgets/controls",
          "model_module_version": "1.5.0",
          "model_name": "HTMLModel",
          "state": {
            "_dom_classes": [],
            "_model_module": "@jupyter-widgets/controls",
            "_model_module_version": "1.5.0",
            "_model_name": "HTMLModel",
            "_view_count": null,
            "_view_module": "@jupyter-widgets/controls",
            "_view_module_version": "1.5.0",
            "_view_name": "HTMLView",
            "description": "",
            "description_tooltip": null,
            "layout": "IPY_MODEL_7a0fb03919e142b286da7192449f7b99",
            "placeholder": "​",
            "style": "IPY_MODEL_f60c0280d4754929a943d61bb159e48d",
            "value": "tokenizer.json: 100%"
          }
        },
        "f60c0280d4754929a943d61bb159e48d": {
          "model_module": "@jupyter-widgets/controls",
          "model_module_version": "1.5.0",
          "model_name": "DescriptionStyleModel",
          "state": {
            "_model_module": "@jupyter-widgets/controls",
            "_model_module_version": "1.5.0",
            "_model_name": "DescriptionStyleModel",
            "_view_count": null,
            "_view_module": "@jupyter-widgets/base",
            "_view_module_version": "1.2.0",
            "_view_name": "StyleView",
            "description_width": ""
          }
        },
        "f7848e661a124dfc85f54a54470d2074": {
          "model_module": "@jupyter-widgets/controls",
          "model_module_version": "1.5.0",
          "model_name": "DescriptionStyleModel",
          "state": {
            "_model_module": "@jupyter-widgets/controls",
            "_model_module_version": "1.5.0",
            "_model_name": "DescriptionStyleModel",
            "_view_count": null,
            "_view_module": "@jupyter-widgets/base",
            "_view_module_version": "1.2.0",
            "_view_name": "StyleView",
            "description_width": ""
          }
        },
        "fd2ce68aef534f78bedfbc571dc78991": {
          "model_module": "@jupyter-widgets/controls",
          "model_module_version": "1.5.0",
          "model_name": "HBoxModel",
          "state": {
            "_dom_classes": [],
            "_model_module": "@jupyter-widgets/controls",
            "_model_module_version": "1.5.0",
            "_model_name": "HBoxModel",
            "_view_count": null,
            "_view_module": "@jupyter-widgets/controls",
            "_view_module_version": "1.5.0",
            "_view_name": "HBoxView",
            "box_style": "",
            "children": [
              "IPY_MODEL_81ffb6a0efd94214a6510313d3a77514",
              "IPY_MODEL_3d1b8f5fc4644a01a623d1b37b33e35b",
              "IPY_MODEL_ff7b73ac5a8b4d5e9db552c967af8169"
            ],
            "layout": "IPY_MODEL_b86eb773c50f4c9db29045fed05edfcd"
          }
        },
        "fe40a3e53952455282225fab6e341f0f": {
          "model_module": "@jupyter-widgets/controls",
          "model_module_version": "1.5.0",
          "model_name": "FloatProgressModel",
          "state": {
            "_dom_classes": [],
            "_model_module": "@jupyter-widgets/controls",
            "_model_module_version": "1.5.0",
            "_model_name": "FloatProgressModel",
            "_view_count": null,
            "_view_module": "@jupyter-widgets/controls",
            "_view_module_version": "1.5.0",
            "_view_name": "ProgressView",
            "bar_style": "success",
            "description": "",
            "description_tooltip": null,
            "layout": "IPY_MODEL_ddad32c8967440b1915362fc368ae3af",
            "max": 437971872,
            "min": 0,
            "orientation": "horizontal",
            "style": "IPY_MODEL_0186b95cb5f04779a2ccc6c541ba2311",
            "value": 437971872
          }
        },
        "ff7b73ac5a8b4d5e9db552c967af8169": {
          "model_module": "@jupyter-widgets/controls",
          "model_module_version": "1.5.0",
          "model_name": "HTMLModel",
          "state": {
            "_dom_classes": [],
            "_model_module": "@jupyter-widgets/controls",
            "_model_module_version": "1.5.0",
            "_model_name": "HTMLModel",
            "_view_count": null,
            "_view_module": "@jupyter-widgets/controls",
            "_view_module_version": "1.5.0",
            "_view_name": "HTMLView",
            "description": "",
            "description_tooltip": null,
            "layout": "IPY_MODEL_08f9773788034b1780ec96292819f10c",
            "placeholder": "​",
            "style": "IPY_MODEL_cd153389d7934a05885f1510b4a09980",
            "value": " 349/349 [00:00&lt;00:00, 10.5kB/s]"
          }
        },
        "ff8624d9b07640f5aa18425a60b2ceae": {
          "model_module": "@jupyter-widgets/controls",
          "model_module_version": "1.5.0",
          "model_name": "HTMLModel",
          "state": {
            "_dom_classes": [],
            "_model_module": "@jupyter-widgets/controls",
            "_model_module_version": "1.5.0",
            "_model_name": "HTMLModel",
            "_view_count": null,
            "_view_module": "@jupyter-widgets/controls",
            "_view_module_version": "1.5.0",
            "_view_name": "HTMLView",
            "description": "",
            "description_tooltip": null,
            "layout": "IPY_MODEL_8954fb321f8f46f180ba0e456e89ed97",
            "placeholder": "​",
            "style": "IPY_MODEL_74373f6b81ba4f30a0978309ec76e9bc",
            "value": "sentence_bert_config.json: 100%"
          }
        }
      }
    }
  },
  "nbformat": 4,
  "nbformat_minor": 0
}